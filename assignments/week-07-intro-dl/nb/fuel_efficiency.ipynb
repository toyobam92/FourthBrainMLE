{
 "cells": [
  {
   "cell_type": "markdown",
   "metadata": {
    "id": "2TPf8CY_Xumr"
   },
   "source": [
    "<p align = \"center\" draggable=”false” ><img src=\"https://user-images.githubusercontent.com/37101144/161836199-fdb0219d-0361-4988-bf26-48b0fad160a3.png\" \n",
    "     width=\"200px\"\n",
    "     height=\"auto\"/>\n",
    "</p>"
   ]
  },
  {
   "cell_type": "markdown",
   "metadata": {
    "id": "92kCWnfbXumv"
   },
   "source": [
    "# ⛽ Fuel efficiency Prediction"
   ]
  },
  {
   "cell_type": "markdown",
   "metadata": {
    "id": "AHp3M9ZmrIxj"
   },
   "source": [
    "Provided with the classic [Auto MPG](https://archive.ics.uci.edu/ml/datasets/auto+mpg) dataset, we will predict the **fuel efficiency** of the late-1970s and early 1980s automobiles, leveraging features such as cylinders, displacement, horsepower, weight, etc. \n",
    "\n",
    "It is a very small dataset and there are only a few features. We will first build a linear model and a neural network, evaluate their performances, track our experiment runs and inspect the logs using MLflow, and apply [TPOT](https://github.com/EpistasisLab/tpot) to see how it can be used to search over many ML model architectures, followed by explaining the model with SHAP."
   ]
  },
  {
   "cell_type": "markdown",
   "metadata": {
    "id": "PxVwvxwii96J"
   },
   "source": [
    "# 📚 Learning Objectives"
   ]
  },
  {
   "cell_type": "markdown",
   "metadata": {
    "id": "9YCC4uUnXumw"
   },
   "source": [
    "By the end of this session, you will be able to\n",
    "\n",
    "- understand the core building blocks of a neural network\n",
    "- understand what dense and activation layers do\n",
    "- build, train, and evaluate neural networks\n",
    "- track tensorflow experiments with MLflow, access information of runs programmatically and with its tracking ui\n",
    "- perform AutoML to search for optimal tree-based pipeline for a regression task "
   ]
  },
  {
   "cell_type": "markdown",
   "metadata": {
    "id": "P7PFU9Oza7-O"
   },
   "source": [
    "Note: [State of Data Science and Machine Learning 2021](https://www.kaggle.com/kaggle-survey-2021) by Kaggle shows that the most commonly used algorithms were linear and logtistic regressions, followed closely by decision trees, random forests, and gradient boosting machines (are you surprised?). Multilayer perceptron, or artificial neural networks are not yet the popular tools for tabular/structured data; see more technical reasons in papers: [Deep Neural Networks and Tabular Data: A Survey](https://arxiv.org/abs/2110.01889), [Tabular Data: Deep Learning is Not All You Need](https://arxiv.org/abs/2106.03253). For this assignment, the main purpose is for you to get familiar with the basic building blocks in constructing neural networks before we dive into more specialized neural network architectures.\n"
   ]
  },
  {
   "cell_type": "markdown",
   "metadata": {
    "id": "5n584Aq-tmV4"
   },
   "source": [
    "**IMPORTANT**\n",
    "\n",
    "You only need to run the following cells if you're completing the assignment in Google Collab. If you've already installed these libraries locally, you can skip installing these libraries."
   ]
  },
  {
   "cell_type": "code",
   "execution_count": null,
   "metadata": {
    "colab": {
     "base_uri": "https://localhost:8080/"
    },
    "executionInfo": {
     "elapsed": 21159,
     "status": "ok",
     "timestamp": 1663627815324,
     "user": {
      "displayName": "FLORA XU",
      "userId": "14641465521399406540"
     },
     "user_tz": 420
    },
    "id": "cjvDr0LBtmV4",
    "outputId": "13b98562-2ff5-4719-d507-22654dbd6b32"
   },
   "outputs": [],
   "source": [
    "# Connect colab to your Google Drive\n",
    "from google.colab import drive\n",
    "drive.mount('/content/drive')"
   ]
  },
  {
   "cell_type": "code",
   "execution_count": 2,
   "metadata": {
    "colab": {
     "base_uri": "https://localhost:8080/"
    },
    "executionInfo": {
     "elapsed": 67678,
     "status": "ok",
     "timestamp": 1663627882995,
     "user": {
      "displayName": "FLORA XU",
      "userId": "14641465521399406540"
     },
     "user_tz": 420
    },
    "id": "moB4tpEHxKB3",
    "outputId": "be99ef21-e3ac-40a0-b9e9-6f0fe4b3e8ec"
   },
   "outputs": [
    {
     "name": "stdout",
     "output_type": "stream",
     "text": [
      "^C\n",
      "\u001b[31mERROR: Operation cancelled by user\u001b[0m\u001b[31m\n",
      "\u001b[0m"
     ]
    }
   ],
   "source": [
    "!pip install -q seaborn # pairplot\n",
    "!pip install -q tpot  # automl\n",
    "\n",
    "!pip install -q mlflow # tracking\n",
    "!pip install -q pyngrok # workaround to run mlflow ui in colab\n",
    "!pip install -q shap"
   ]
  },
  {
   "cell_type": "code",
   "execution_count": 3,
   "metadata": {
    "executionInfo": {
     "elapsed": 971,
     "status": "ok",
     "timestamp": 1663627883959,
     "user": {
      "displayName": "FLORA XU",
      "userId": "14641465521399406540"
     },
     "user_tz": 420
    },
    "id": "1rRo8oNqZ-Rj"
   },
   "outputs": [],
   "source": [
    "import numpy as np\n",
    "import pandas as pd\n",
    "import matplotlib.pyplot as plt\n",
    "import seaborn as sns\n",
    "\n",
    "# Make NumPy printouts easier to read.\n",
    "np.set_printoptions(precision=3, suppress=True)"
   ]
  },
  {
   "cell_type": "code",
   "execution_count": 4,
   "metadata": {
    "colab": {
     "base_uri": "https://localhost:8080/"
    },
    "executionInfo": {
     "elapsed": 3600,
     "status": "ok",
     "timestamp": 1663627887556,
     "user": {
      "displayName": "FLORA XU",
      "userId": "14641465521399406540"
     },
     "user_tz": 420
    },
    "id": "9xQKvCJ85kCQ",
    "outputId": "f9b62362-699a-4ed6-c340-e74d1460f540"
   },
   "outputs": [
    {
     "name": "stderr",
     "output_type": "stream",
     "text": [
      "2023-02-02 19:49:17.753185: I tensorflow/core/platform/cpu_feature_guard.cc:193] This TensorFlow binary is optimized with oneAPI Deep Neural Network Library (oneDNN) to use the following CPU instructions in performance-critical operations:  AVX2 FMA\n",
      "To enable them in other operations, rebuild TensorFlow with the appropriate compiler flags.\n"
     ]
    },
    {
     "name": "stdout",
     "output_type": "stream",
     "text": [
      "2.11.0\n"
     ]
    }
   ],
   "source": [
    "import tensorflow as tf\n",
    "from tensorflow.keras import layers\n",
    "\n",
    "print(tf.__version__)"
   ]
  },
  {
   "cell_type": "markdown",
   "metadata": {
    "id": "EIdT9iu_Z4Rb"
   },
   "source": [
    "# Task 1 - Data: Auto MPG dataset"
   ]
  },
  {
   "cell_type": "markdown",
   "metadata": {
    "id": "HvK47Su6t0I8"
   },
   "source": [
    "0. Start MLflow's automatic logging using library-specific autolog calls for tensorflow: logging metrics, parameters, and models without the need for explicit log statements. \n",
    "    \n",
    "    We will get into more details using **MLflow** after completing our experiment."
   ]
  },
  {
   "cell_type": "code",
   "execution_count": 88,
   "metadata": {
    "executionInfo": {
     "elapsed": 1153,
     "status": "ok",
     "timestamp": 1663627888705,
     "user": {
      "displayName": "FLORA XU",
      "userId": "14641465521399406540"
     },
     "user_tz": 420
    },
    "id": "6PGEnlTVlFDK"
   },
   "outputs": [],
   "source": [
    "\n",
    "import mlflow\n",
    "mlflow.tensorflow.autolog() # MLflow Autologging"
   ]
  },
  {
   "cell_type": "code",
   "execution_count": 3,
   "metadata": {},
   "outputs": [
    {
     "name": "stdout",
     "output_type": "stream",
     "text": [
      "Collecting ipython==8.4.0\n",
      "  Using cached ipython-8.4.0-py3-none-any.whl (750 kB)\n",
      "Collecting matplotlib==3.5.2\n",
      "  Downloading matplotlib-3.5.2-cp38-cp38-macosx_10_9_x86_64.whl (7.3 MB)\n",
      "\u001b[2K     \u001b[90m━━━━━━━━━━━━━━━━━━━━━━━━━━━━━━━━━━━━━━━━\u001b[0m \u001b[32m7.3/7.3 MB\u001b[0m \u001b[31m7.4 MB/s\u001b[0m eta \u001b[36m0:00:00\u001b[0m00:01\u001b[0m00:01\u001b[0m\n",
      "\u001b[?25hCollecting numpy==1.23.1\n",
      "  Downloading numpy-1.23.1-cp38-cp38-macosx_10_9_x86_64.whl (18.1 MB)\n",
      "\u001b[2K     \u001b[90m━━━━━━━━━━━━━━━━━━━━━━━━━━━━━━━━━━━━━━━━\u001b[0m \u001b[32m18.1/18.1 MB\u001b[0m \u001b[31m9.9 MB/s\u001b[0m eta \u001b[36m0:00:00\u001b[0m:00:01\u001b[0m00:01\u001b[0m\n",
      "\u001b[?25hCollecting pandas==1.4.3\n",
      "  Downloading pandas-1.4.3-cp38-cp38-macosx_10_9_x86_64.whl (11.4 MB)\n",
      "\u001b[2K     \u001b[90m━━━━━━━━━━━━━━━━━━━━━━━━━━━━━━━━━━━━━━━━\u001b[0m \u001b[32m11.4/11.4 MB\u001b[0m \u001b[31m14.4 MB/s\u001b[0m eta \u001b[36m0:00:00\u001b[0m00:01\u001b[0m0:01\u001b[0m\n",
      "\u001b[?25hCollecting plotly==5.9.0\n",
      "  Using cached plotly-5.9.0-py2.py3-none-any.whl (15.2 MB)\n",
      "Collecting scikit_learn==1.1.1\n",
      "  Downloading scikit_learn-1.1.1-cp38-cp38-macosx_10_13_x86_64.whl (8.5 MB)\n",
      "\u001b[2K     \u001b[90m━━━━━━━━━━━━━━━━━━━━━━━━━━━━━━━━━━━━━━━━\u001b[0m \u001b[32m8.5/8.5 MB\u001b[0m \u001b[31m12.1 MB/s\u001b[0m eta \u001b[36m0:00:00\u001b[0m00:01\u001b[0m00:01\u001b[0m\n",
      "\u001b[?25hCollecting seaborn==0.11.2\n",
      "  Using cached seaborn-0.11.2-py3-none-any.whl (292 kB)\n",
      "Requirement already satisfied: shap in /Users/toyosibamidele/opt/anaconda3/envs/conda-demo/lib/python3.8/site-packages (from -r requirements.txt (line 8)) (0.41.0)\n",
      "Collecting streamlit==1.11.1\n",
      "  Using cached streamlit-1.11.1-py2.py3-none-any.whl (9.1 MB)\n",
      "Requirement already satisfied: tensorflow in /Users/toyosibamidele/opt/anaconda3/envs/conda-demo/lib/python3.8/site-packages (from -r requirements.txt (line 10)) (2.11.0)\n",
      "Requirement already satisfied: tpot in /Users/toyosibamidele/opt/anaconda3/envs/conda-demo/lib/python3.8/site-packages (from -r requirements.txt (line 11)) (0.11.7)\n",
      "Requirement already satisfied: stack-data in /Users/toyosibamidele/opt/anaconda3/envs/conda-demo/lib/python3.8/site-packages (from ipython==8.4.0->-r requirements.txt (line 1)) (0.2.0)\n",
      "Requirement already satisfied: setuptools>=18.5 in /Users/toyosibamidele/opt/anaconda3/envs/conda-demo/lib/python3.8/site-packages (from ipython==8.4.0->-r requirements.txt (line 1)) (65.5.0)\n",
      "Requirement already satisfied: pexpect>4.3 in /Users/toyosibamidele/opt/anaconda3/envs/conda-demo/lib/python3.8/site-packages (from ipython==8.4.0->-r requirements.txt (line 1)) (4.8.0)\n",
      "Requirement already satisfied: decorator in /Users/toyosibamidele/opt/anaconda3/envs/conda-demo/lib/python3.8/site-packages (from ipython==8.4.0->-r requirements.txt (line 1)) (5.1.1)\n",
      "Requirement already satisfied: prompt-toolkit!=3.0.0,!=3.0.1,<3.1.0,>=2.0.0 in /Users/toyosibamidele/opt/anaconda3/envs/conda-demo/lib/python3.8/site-packages (from ipython==8.4.0->-r requirements.txt (line 1)) (3.0.20)\n",
      "Requirement already satisfied: pygments>=2.4.0 in /Users/toyosibamidele/opt/anaconda3/envs/conda-demo/lib/python3.8/site-packages (from ipython==8.4.0->-r requirements.txt (line 1)) (2.11.2)\n",
      "Requirement already satisfied: jedi>=0.16 in /Users/toyosibamidele/opt/anaconda3/envs/conda-demo/lib/python3.8/site-packages (from ipython==8.4.0->-r requirements.txt (line 1)) (0.18.1)\n",
      "Requirement already satisfied: traitlets>=5 in /Users/toyosibamidele/opt/anaconda3/envs/conda-demo/lib/python3.8/site-packages (from ipython==8.4.0->-r requirements.txt (line 1)) (5.1.1)\n",
      "Requirement already satisfied: backcall in /Users/toyosibamidele/opt/anaconda3/envs/conda-demo/lib/python3.8/site-packages (from ipython==8.4.0->-r requirements.txt (line 1)) (0.2.0)\n",
      "Requirement already satisfied: appnope in /Users/toyosibamidele/opt/anaconda3/envs/conda-demo/lib/python3.8/site-packages (from ipython==8.4.0->-r requirements.txt (line 1)) (0.1.2)\n",
      "Requirement already satisfied: pickleshare in /Users/toyosibamidele/opt/anaconda3/envs/conda-demo/lib/python3.8/site-packages (from ipython==8.4.0->-r requirements.txt (line 1)) (0.7.5)\n",
      "Requirement already satisfied: matplotlib-inline in /Users/toyosibamidele/opt/anaconda3/envs/conda-demo/lib/python3.8/site-packages (from ipython==8.4.0->-r requirements.txt (line 1)) (0.1.6)\n",
      "Requirement already satisfied: pyparsing>=2.2.1 in /Users/toyosibamidele/opt/anaconda3/envs/conda-demo/lib/python3.8/site-packages (from matplotlib==3.5.2->-r requirements.txt (line 2)) (3.0.9)\n",
      "Requirement already satisfied: python-dateutil>=2.7 in /Users/toyosibamidele/opt/anaconda3/envs/conda-demo/lib/python3.8/site-packages (from matplotlib==3.5.2->-r requirements.txt (line 2)) (2.8.2)\n",
      "Requirement already satisfied: packaging>=20.0 in /Users/toyosibamidele/opt/anaconda3/envs/conda-demo/lib/python3.8/site-packages (from matplotlib==3.5.2->-r requirements.txt (line 2)) (21.3)\n",
      "Requirement already satisfied: fonttools>=4.22.0 in /Users/toyosibamidele/opt/anaconda3/envs/conda-demo/lib/python3.8/site-packages (from matplotlib==3.5.2->-r requirements.txt (line 2)) (4.38.0)\n",
      "Requirement already satisfied: pillow>=6.2.0 in /Users/toyosibamidele/opt/anaconda3/envs/conda-demo/lib/python3.8/site-packages (from matplotlib==3.5.2->-r requirements.txt (line 2)) (9.3.0)\n",
      "Requirement already satisfied: kiwisolver>=1.0.1 in /Users/toyosibamidele/opt/anaconda3/envs/conda-demo/lib/python3.8/site-packages (from matplotlib==3.5.2->-r requirements.txt (line 2)) (1.4.4)\n",
      "Requirement already satisfied: cycler>=0.10 in /Users/toyosibamidele/opt/anaconda3/envs/conda-demo/lib/python3.8/site-packages (from matplotlib==3.5.2->-r requirements.txt (line 2)) (0.11.0)\n",
      "Requirement already satisfied: pytz>=2020.1 in /Users/toyosibamidele/opt/anaconda3/envs/conda-demo/lib/python3.8/site-packages (from pandas==1.4.3->-r requirements.txt (line 4)) (2022.6)\n",
      "Requirement already satisfied: tenacity>=6.2.0 in /Users/toyosibamidele/opt/anaconda3/envs/conda-demo/lib/python3.8/site-packages (from plotly==5.9.0->-r requirements.txt (line 5)) (8.1.0)\n",
      "Requirement already satisfied: scipy>=1.3.2 in /Users/toyosibamidele/opt/anaconda3/envs/conda-demo/lib/python3.8/site-packages (from scikit_learn==1.1.1->-r requirements.txt (line 6)) (1.9.3)\n",
      "Requirement already satisfied: threadpoolctl>=2.0.0 in /Users/toyosibamidele/opt/anaconda3/envs/conda-demo/lib/python3.8/site-packages (from scikit_learn==1.1.1->-r requirements.txt (line 6)) (3.1.0)\n",
      "Requirement already satisfied: joblib>=1.0.0 in /Users/toyosibamidele/opt/anaconda3/envs/conda-demo/lib/python3.8/site-packages (from scikit_learn==1.1.1->-r requirements.txt (line 6)) (1.2.0)\n",
      "Requirement already satisfied: validators>=0.2 in /Users/toyosibamidele/opt/anaconda3/envs/conda-demo/lib/python3.8/site-packages (from streamlit==1.11.1->-r requirements.txt (line 9)) (0.20.0)\n",
      "Requirement already satisfied: attrs>=16.0.0 in /Users/toyosibamidele/opt/anaconda3/envs/conda-demo/lib/python3.8/site-packages (from streamlit==1.11.1->-r requirements.txt (line 9)) (22.2.0)\n",
      "Requirement already satisfied: pympler>=0.9 in /Users/toyosibamidele/opt/anaconda3/envs/conda-demo/lib/python3.8/site-packages (from streamlit==1.11.1->-r requirements.txt (line 9)) (1.0.1)\n",
      "Requirement already satisfied: toml in /Users/toyosibamidele/opt/anaconda3/envs/conda-demo/lib/python3.8/site-packages (from streamlit==1.11.1->-r requirements.txt (line 9)) (0.10.2)\n",
      "Requirement already satisfied: typing-extensions>=3.10.0.0 in /Users/toyosibamidele/opt/anaconda3/envs/conda-demo/lib/python3.8/site-packages (from streamlit==1.11.1->-r requirements.txt (line 9)) (4.4.0)\n",
      "Requirement already satisfied: gitpython!=3.1.19 in /Users/toyosibamidele/opt/anaconda3/envs/conda-demo/lib/python3.8/site-packages (from streamlit==1.11.1->-r requirements.txt (line 9)) (3.1.30)\n",
      "Requirement already satisfied: requests>=2.4 in /Users/toyosibamidele/opt/anaconda3/envs/conda-demo/lib/python3.8/site-packages (from streamlit==1.11.1->-r requirements.txt (line 9)) (2.28.1)\n",
      "Requirement already satisfied: pyarrow>=4.0 in /Users/toyosibamidele/opt/anaconda3/envs/conda-demo/lib/python3.8/site-packages (from streamlit==1.11.1->-r requirements.txt (line 9)) (10.0.1)\n",
      "Requirement already satisfied: importlib-metadata>=1.4 in /Users/toyosibamidele/opt/anaconda3/envs/conda-demo/lib/python3.8/site-packages (from streamlit==1.11.1->-r requirements.txt (line 9)) (5.2.0)\n",
      "Requirement already satisfied: pydeck>=0.1.dev5 in /Users/toyosibamidele/opt/anaconda3/envs/conda-demo/lib/python3.8/site-packages (from streamlit==1.11.1->-r requirements.txt (line 9)) (0.8.0)\n",
      "Requirement already satisfied: tornado>=5.0 in /Users/toyosibamidele/opt/anaconda3/envs/conda-demo/lib/python3.8/site-packages (from streamlit==1.11.1->-r requirements.txt (line 9)) (6.2)\n",
      "Requirement already satisfied: protobuf<4,>=3.12 in /Users/toyosibamidele/opt/anaconda3/envs/conda-demo/lib/python3.8/site-packages (from streamlit==1.11.1->-r requirements.txt (line 9)) (3.19.6)\n",
      "Requirement already satisfied: altair>=3.2.0 in /Users/toyosibamidele/opt/anaconda3/envs/conda-demo/lib/python3.8/site-packages (from streamlit==1.11.1->-r requirements.txt (line 9)) (4.2.0)\n",
      "Requirement already satisfied: cachetools>=4.0 in /Users/toyosibamidele/opt/anaconda3/envs/conda-demo/lib/python3.8/site-packages (from streamlit==1.11.1->-r requirements.txt (line 9)) (5.2.1)\n",
      "Requirement already satisfied: rich>=10.11.0 in /Users/toyosibamidele/opt/anaconda3/envs/conda-demo/lib/python3.8/site-packages (from streamlit==1.11.1->-r requirements.txt (line 9)) (13.2.0)\n",
      "Requirement already satisfied: tzlocal>=1.1 in /Users/toyosibamidele/opt/anaconda3/envs/conda-demo/lib/python3.8/site-packages (from streamlit==1.11.1->-r requirements.txt (line 9)) (4.2)\n",
      "Requirement already satisfied: blinker>=1.0.0 in /Users/toyosibamidele/opt/anaconda3/envs/conda-demo/lib/python3.8/site-packages (from streamlit==1.11.1->-r requirements.txt (line 9)) (1.5)\n",
      "Requirement already satisfied: click>=7.0 in /Users/toyosibamidele/opt/anaconda3/envs/conda-demo/lib/python3.8/site-packages (from streamlit==1.11.1->-r requirements.txt (line 9)) (8.1.3)\n",
      "Requirement already satisfied: semver in /Users/toyosibamidele/opt/anaconda3/envs/conda-demo/lib/python3.8/site-packages (from streamlit==1.11.1->-r requirements.txt (line 9)) (2.13.0)\n",
      "Requirement already satisfied: tqdm>4.25.0 in /Users/toyosibamidele/opt/anaconda3/envs/conda-demo/lib/python3.8/site-packages (from shap->-r requirements.txt (line 8)) (4.64.1)\n",
      "Requirement already satisfied: numba in /Users/toyosibamidele/opt/anaconda3/envs/conda-demo/lib/python3.8/site-packages (from shap->-r requirements.txt (line 8)) (0.56.4)\n",
      "Requirement already satisfied: cloudpickle in /Users/toyosibamidele/opt/anaconda3/envs/conda-demo/lib/python3.8/site-packages (from shap->-r requirements.txt (line 8)) (2.2.1)\n",
      "Requirement already satisfied: slicer==0.0.7 in /Users/toyosibamidele/opt/anaconda3/envs/conda-demo/lib/python3.8/site-packages (from shap->-r requirements.txt (line 8)) (0.0.7)\n",
      "Requirement already satisfied: grpcio<2.0,>=1.24.3 in /Users/toyosibamidele/opt/anaconda3/envs/conda-demo/lib/python3.8/site-packages (from tensorflow->-r requirements.txt (line 10)) (1.51.1)\n",
      "Requirement already satisfied: six>=1.12.0 in /Users/toyosibamidele/opt/anaconda3/envs/conda-demo/lib/python3.8/site-packages (from tensorflow->-r requirements.txt (line 10)) (1.16.0)\n",
      "Requirement already satisfied: tensorflow-io-gcs-filesystem>=0.23.1 in /Users/toyosibamidele/opt/anaconda3/envs/conda-demo/lib/python3.8/site-packages (from tensorflow->-r requirements.txt (line 10)) (0.30.0)\n",
      "Requirement already satisfied: h5py>=2.9.0 in /Users/toyosibamidele/opt/anaconda3/envs/conda-demo/lib/python3.8/site-packages (from tensorflow->-r requirements.txt (line 10)) (3.8.0)\n",
      "Requirement already satisfied: tensorboard<2.12,>=2.11 in /Users/toyosibamidele/opt/anaconda3/envs/conda-demo/lib/python3.8/site-packages (from tensorflow->-r requirements.txt (line 10)) (2.11.2)\n",
      "Requirement already satisfied: libclang>=13.0.0 in /Users/toyosibamidele/opt/anaconda3/envs/conda-demo/lib/python3.8/site-packages (from tensorflow->-r requirements.txt (line 10)) (15.0.6.1)\n",
      "Requirement already satisfied: google-pasta>=0.1.1 in /Users/toyosibamidele/opt/anaconda3/envs/conda-demo/lib/python3.8/site-packages (from tensorflow->-r requirements.txt (line 10)) (0.2.0)\n",
      "Requirement already satisfied: flatbuffers>=2.0 in /Users/toyosibamidele/opt/anaconda3/envs/conda-demo/lib/python3.8/site-packages (from tensorflow->-r requirements.txt (line 10)) (23.1.21)\n",
      "Requirement already satisfied: opt-einsum>=2.3.2 in /Users/toyosibamidele/opt/anaconda3/envs/conda-demo/lib/python3.8/site-packages (from tensorflow->-r requirements.txt (line 10)) (3.3.0)\n",
      "Requirement already satisfied: gast<=0.4.0,>=0.2.1 in /Users/toyosibamidele/opt/anaconda3/envs/conda-demo/lib/python3.8/site-packages (from tensorflow->-r requirements.txt (line 10)) (0.4.0)\n",
      "Requirement already satisfied: wrapt>=1.11.0 in /Users/toyosibamidele/opt/anaconda3/envs/conda-demo/lib/python3.8/site-packages (from tensorflow->-r requirements.txt (line 10)) (1.14.1)\n",
      "Requirement already satisfied: keras<2.12,>=2.11.0 in /Users/toyosibamidele/opt/anaconda3/envs/conda-demo/lib/python3.8/site-packages (from tensorflow->-r requirements.txt (line 10)) (2.11.0)\n",
      "Requirement already satisfied: termcolor>=1.1.0 in /Users/toyosibamidele/opt/anaconda3/envs/conda-demo/lib/python3.8/site-packages (from tensorflow->-r requirements.txt (line 10)) (2.2.0)\n",
      "Requirement already satisfied: astunparse>=1.6.0 in /Users/toyosibamidele/opt/anaconda3/envs/conda-demo/lib/python3.8/site-packages (from tensorflow->-r requirements.txt (line 10)) (1.6.3)\n",
      "Requirement already satisfied: tensorflow-estimator<2.12,>=2.11.0 in /Users/toyosibamidele/opt/anaconda3/envs/conda-demo/lib/python3.8/site-packages (from tensorflow->-r requirements.txt (line 10)) (2.11.0)\n",
      "Requirement already satisfied: absl-py>=1.0.0 in /Users/toyosibamidele/opt/anaconda3/envs/conda-demo/lib/python3.8/site-packages (from tensorflow->-r requirements.txt (line 10)) (1.4.0)\n",
      "Requirement already satisfied: update-checker>=0.16 in /Users/toyosibamidele/opt/anaconda3/envs/conda-demo/lib/python3.8/site-packages (from tpot->-r requirements.txt (line 11)) (0.18.0)\n",
      "Requirement already satisfied: xgboost>=1.1.0 in /Users/toyosibamidele/opt/anaconda3/envs/conda-demo/lib/python3.8/site-packages (from tpot->-r requirements.txt (line 11)) (1.7.3)\n",
      "Requirement already satisfied: deap>=1.2 in /Users/toyosibamidele/opt/anaconda3/envs/conda-demo/lib/python3.8/site-packages (from tpot->-r requirements.txt (line 11)) (1.3.3)\n",
      "Requirement already satisfied: stopit>=1.1.1 in /Users/toyosibamidele/opt/anaconda3/envs/conda-demo/lib/python3.8/site-packages (from tpot->-r requirements.txt (line 11)) (1.1.2)\n",
      "Requirement already satisfied: toolz in /Users/toyosibamidele/opt/anaconda3/envs/conda-demo/lib/python3.8/site-packages (from altair>=3.2.0->streamlit==1.11.1->-r requirements.txt (line 9)) (0.12.0)\n",
      "Requirement already satisfied: jsonschema>=3.0 in /Users/toyosibamidele/opt/anaconda3/envs/conda-demo/lib/python3.8/site-packages (from altair>=3.2.0->streamlit==1.11.1->-r requirements.txt (line 9)) (4.17.3)\n",
      "Requirement already satisfied: entrypoints in /Users/toyosibamidele/opt/anaconda3/envs/conda-demo/lib/python3.8/site-packages (from altair>=3.2.0->streamlit==1.11.1->-r requirements.txt (line 9)) (0.4)\n",
      "Requirement already satisfied: jinja2 in /Users/toyosibamidele/opt/anaconda3/envs/conda-demo/lib/python3.8/site-packages (from altair>=3.2.0->streamlit==1.11.1->-r requirements.txt (line 9)) (3.1.2)\n",
      "Requirement already satisfied: wheel<1.0,>=0.23.0 in /Users/toyosibamidele/opt/anaconda3/envs/conda-demo/lib/python3.8/site-packages (from astunparse>=1.6.0->tensorflow->-r requirements.txt (line 10)) (0.37.1)\n",
      "Requirement already satisfied: gitdb<5,>=4.0.1 in /Users/toyosibamidele/opt/anaconda3/envs/conda-demo/lib/python3.8/site-packages (from gitpython!=3.1.19->streamlit==1.11.1->-r requirements.txt (line 9)) (4.0.10)\n",
      "Requirement already satisfied: zipp>=0.5 in /Users/toyosibamidele/opt/anaconda3/envs/conda-demo/lib/python3.8/site-packages (from importlib-metadata>=1.4->streamlit==1.11.1->-r requirements.txt (line 9)) (3.11.0)\n",
      "Requirement already satisfied: parso<0.9.0,>=0.8.0 in /Users/toyosibamidele/opt/anaconda3/envs/conda-demo/lib/python3.8/site-packages (from jedi>=0.16->ipython==8.4.0->-r requirements.txt (line 1)) (0.8.3)\n",
      "Requirement already satisfied: ptyprocess>=0.5 in /Users/toyosibamidele/opt/anaconda3/envs/conda-demo/lib/python3.8/site-packages (from pexpect>4.3->ipython==8.4.0->-r requirements.txt (line 1)) (0.7.0)\n",
      "Requirement already satisfied: wcwidth in /Users/toyosibamidele/opt/anaconda3/envs/conda-demo/lib/python3.8/site-packages (from prompt-toolkit!=3.0.0,!=3.0.1,<3.1.0,>=2.0.0->ipython==8.4.0->-r requirements.txt (line 1)) (0.2.5)\n",
      "Requirement already satisfied: charset-normalizer<3,>=2 in /Users/toyosibamidele/opt/anaconda3/envs/conda-demo/lib/python3.8/site-packages (from requests>=2.4->streamlit==1.11.1->-r requirements.txt (line 9)) (2.1.1)\n",
      "Requirement already satisfied: certifi>=2017.4.17 in /Users/toyosibamidele/opt/anaconda3/envs/conda-demo/lib/python3.8/site-packages (from requests>=2.4->streamlit==1.11.1->-r requirements.txt (line 9)) (2022.9.24)\n",
      "Requirement already satisfied: idna<4,>=2.5 in /Users/toyosibamidele/opt/anaconda3/envs/conda-demo/lib/python3.8/site-packages (from requests>=2.4->streamlit==1.11.1->-r requirements.txt (line 9)) (3.4)\n",
      "Requirement already satisfied: urllib3<1.27,>=1.21.1 in /Users/toyosibamidele/opt/anaconda3/envs/conda-demo/lib/python3.8/site-packages (from requests>=2.4->streamlit==1.11.1->-r requirements.txt (line 9)) (1.26.13)\n",
      "Requirement already satisfied: markdown-it-py<3.0.0,>=2.1.0 in /Users/toyosibamidele/opt/anaconda3/envs/conda-demo/lib/python3.8/site-packages (from rich>=10.11.0->streamlit==1.11.1->-r requirements.txt (line 9)) (2.1.0)\n",
      "Requirement already satisfied: google-auth<3,>=1.6.3 in /Users/toyosibamidele/opt/anaconda3/envs/conda-demo/lib/python3.8/site-packages (from tensorboard<2.12,>=2.11->tensorflow->-r requirements.txt (line 10)) (2.16.0)\n",
      "Requirement already satisfied: tensorboard-plugin-wit>=1.6.0 in /Users/toyosibamidele/opt/anaconda3/envs/conda-demo/lib/python3.8/site-packages (from tensorboard<2.12,>=2.11->tensorflow->-r requirements.txt (line 10)) (1.8.1)\n",
      "Requirement already satisfied: tensorboard-data-server<0.7.0,>=0.6.0 in /Users/toyosibamidele/opt/anaconda3/envs/conda-demo/lib/python3.8/site-packages (from tensorboard<2.12,>=2.11->tensorflow->-r requirements.txt (line 10)) (0.6.1)\n",
      "Requirement already satisfied: werkzeug>=1.0.1 in /Users/toyosibamidele/opt/anaconda3/envs/conda-demo/lib/python3.8/site-packages (from tensorboard<2.12,>=2.11->tensorflow->-r requirements.txt (line 10)) (2.2.2)\n",
      "Requirement already satisfied: google-auth-oauthlib<0.5,>=0.4.1 in /Users/toyosibamidele/opt/anaconda3/envs/conda-demo/lib/python3.8/site-packages (from tensorboard<2.12,>=2.11->tensorflow->-r requirements.txt (line 10)) (0.4.6)\n",
      "Requirement already satisfied: markdown>=2.6.8 in /Users/toyosibamidele/opt/anaconda3/envs/conda-demo/lib/python3.8/site-packages (from tensorboard<2.12,>=2.11->tensorflow->-r requirements.txt (line 10)) (3.4.1)\n",
      "Requirement already satisfied: pytz-deprecation-shim in /Users/toyosibamidele/opt/anaconda3/envs/conda-demo/lib/python3.8/site-packages (from tzlocal>=1.1->streamlit==1.11.1->-r requirements.txt (line 9)) (0.1.0.post0)\n",
      "Requirement already satisfied: backports.zoneinfo in /Users/toyosibamidele/opt/anaconda3/envs/conda-demo/lib/python3.8/site-packages (from tzlocal>=1.1->streamlit==1.11.1->-r requirements.txt (line 9)) (0.2.1)\n",
      "Requirement already satisfied: llvmlite<0.40,>=0.39.0dev0 in /Users/toyosibamidele/opt/anaconda3/envs/conda-demo/lib/python3.8/site-packages (from numba->shap->-r requirements.txt (line 8)) (0.39.1)\n",
      "Requirement already satisfied: asttokens in /Users/toyosibamidele/opt/anaconda3/envs/conda-demo/lib/python3.8/site-packages (from stack-data->ipython==8.4.0->-r requirements.txt (line 1)) (2.0.5)\n",
      "Requirement already satisfied: pure-eval in /Users/toyosibamidele/opt/anaconda3/envs/conda-demo/lib/python3.8/site-packages (from stack-data->ipython==8.4.0->-r requirements.txt (line 1)) (0.2.2)\n",
      "Requirement already satisfied: executing in /Users/toyosibamidele/opt/anaconda3/envs/conda-demo/lib/python3.8/site-packages (from stack-data->ipython==8.4.0->-r requirements.txt (line 1)) (0.8.3)\n",
      "Requirement already satisfied: smmap<6,>=3.0.1 in /Users/toyosibamidele/opt/anaconda3/envs/conda-demo/lib/python3.8/site-packages (from gitdb<5,>=4.0.1->gitpython!=3.1.19->streamlit==1.11.1->-r requirements.txt (line 9)) (5.0.0)\n",
      "Requirement already satisfied: pyasn1-modules>=0.2.1 in /Users/toyosibamidele/opt/anaconda3/envs/conda-demo/lib/python3.8/site-packages (from google-auth<3,>=1.6.3->tensorboard<2.12,>=2.11->tensorflow->-r requirements.txt (line 10)) (0.2.8)\n",
      "Requirement already satisfied: rsa<5,>=3.1.4 in /Users/toyosibamidele/opt/anaconda3/envs/conda-demo/lib/python3.8/site-packages (from google-auth<3,>=1.6.3->tensorboard<2.12,>=2.11->tensorflow->-r requirements.txt (line 10)) (4.9)\n",
      "Requirement already satisfied: requests-oauthlib>=0.7.0 in /Users/toyosibamidele/opt/anaconda3/envs/conda-demo/lib/python3.8/site-packages (from google-auth-oauthlib<0.5,>=0.4.1->tensorboard<2.12,>=2.11->tensorflow->-r requirements.txt (line 10)) (1.3.1)\n",
      "Requirement already satisfied: MarkupSafe>=2.0 in /Users/toyosibamidele/opt/anaconda3/envs/conda-demo/lib/python3.8/site-packages (from jinja2->altair>=3.2.0->streamlit==1.11.1->-r requirements.txt (line 9)) (2.1.1)\n",
      "Requirement already satisfied: pyrsistent!=0.17.0,!=0.17.1,!=0.17.2,>=0.14.0 in /Users/toyosibamidele/opt/anaconda3/envs/conda-demo/lib/python3.8/site-packages (from jsonschema>=3.0->altair>=3.2.0->streamlit==1.11.1->-r requirements.txt (line 9)) (0.19.3)\n",
      "Requirement already satisfied: importlib-resources>=1.4.0 in /Users/toyosibamidele/opt/anaconda3/envs/conda-demo/lib/python3.8/site-packages (from jsonschema>=3.0->altair>=3.2.0->streamlit==1.11.1->-r requirements.txt (line 9)) (5.10.2)\n",
      "Requirement already satisfied: pkgutil-resolve-name>=1.3.10 in /Users/toyosibamidele/opt/anaconda3/envs/conda-demo/lib/python3.8/site-packages (from jsonschema>=3.0->altair>=3.2.0->streamlit==1.11.1->-r requirements.txt (line 9)) (1.3.10)\n",
      "Requirement already satisfied: mdurl~=0.1 in /Users/toyosibamidele/opt/anaconda3/envs/conda-demo/lib/python3.8/site-packages (from markdown-it-py<3.0.0,>=2.1.0->rich>=10.11.0->streamlit==1.11.1->-r requirements.txt (line 9)) (0.1.2)\n",
      "Requirement already satisfied: tzdata in /Users/toyosibamidele/opt/anaconda3/envs/conda-demo/lib/python3.8/site-packages (from pytz-deprecation-shim->tzlocal>=1.1->streamlit==1.11.1->-r requirements.txt (line 9)) (2022.7)\n",
      "Requirement already satisfied: pyasn1<0.5.0,>=0.4.6 in /Users/toyosibamidele/opt/anaconda3/envs/conda-demo/lib/python3.8/site-packages (from pyasn1-modules>=0.2.1->google-auth<3,>=1.6.3->tensorboard<2.12,>=2.11->tensorflow->-r requirements.txt (line 10)) (0.4.8)\n",
      "Requirement already satisfied: oauthlib>=3.0.0 in /Users/toyosibamidele/opt/anaconda3/envs/conda-demo/lib/python3.8/site-packages (from requests-oauthlib>=0.7.0->google-auth-oauthlib<0.5,>=0.4.1->tensorboard<2.12,>=2.11->tensorflow->-r requirements.txt (line 10)) (3.2.2)\n",
      "Installing collected packages: plotly, numpy, pandas, matplotlib, seaborn, scikit_learn, ipython, streamlit\n",
      "  Attempting uninstall: plotly\n",
      "    Found existing installation: plotly 5.12.0\n",
      "    Uninstalling plotly-5.12.0:\n",
      "      Successfully uninstalled plotly-5.12.0\n",
      "  Attempting uninstall: numpy\n",
      "    Found existing installation: numpy 1.23.5\n",
      "    Uninstalling numpy-1.23.5:\n",
      "      Successfully uninstalled numpy-1.23.5\n",
      "  Attempting uninstall: pandas\n",
      "    Found existing installation: pandas 1.5.2\n",
      "    Uninstalling pandas-1.5.2:\n",
      "      Successfully uninstalled pandas-1.5.2\n",
      "  Attempting uninstall: matplotlib\n",
      "    Found existing installation: matplotlib 3.6.2\n",
      "    Uninstalling matplotlib-3.6.2:\n",
      "      Successfully uninstalled matplotlib-3.6.2\n",
      "  Attempting uninstall: seaborn\n",
      "    Found existing installation: seaborn 0.12.1\n",
      "    Uninstalling seaborn-0.12.1:\n",
      "      Successfully uninstalled seaborn-0.12.1\n",
      "  Attempting uninstall: scikit_learn\n",
      "    Found existing installation: scikit-learn 1.0.2\n",
      "    Uninstalling scikit-learn-1.0.2:\n",
      "      Successfully uninstalled scikit-learn-1.0.2\n",
      "  Attempting uninstall: ipython\n",
      "    Found existing installation: ipython 8.6.0\n",
      "    Uninstalling ipython-8.6.0:\n",
      "      Successfully uninstalled ipython-8.6.0\n",
      "  Attempting uninstall: streamlit\n",
      "    Found existing installation: streamlit 1.17.0\n",
      "    Uninstalling streamlit-1.17.0:\n",
      "      Successfully uninstalled streamlit-1.17.0\n",
      "Successfully installed ipython-8.4.0 matplotlib-3.5.2 numpy-1.23.1 pandas-1.4.3 plotly-5.9.0 scikit_learn-1.1.1 seaborn-0.11.2 streamlit-1.11.1\n",
      "Note: you may need to restart the kernel to use updated packages.\n"
     ]
    }
   ],
   "source": [
    "%pip install -r requirements.txt"
   ]
  },
  {
   "cell_type": "markdown",
   "metadata": {
    "id": "F_72b0LCNbjx"
   },
   "source": [
    "1. The dataset is available from the [UCI Machine Learning Repository](https://archive.ics.uci.edu/ml/). First download and import the dataset using `pandas`:\n"
   ]
  },
  {
   "cell_type": "code",
   "execution_count": 6,
   "metadata": {
    "executionInfo": {
     "elapsed": 266,
     "status": "ok",
     "timestamp": 1663627888968,
     "user": {
      "displayName": "FLORA XU",
      "userId": "14641465521399406540"
     },
     "user_tz": 420
    },
    "id": "CiX2FI4gZtTt"
   },
   "outputs": [],
   "source": [
    "import pandas as pd\n",
    "url = 'http://archive.ics.uci.edu/ml/machine-learning-databases/auto-mpg/auto-mpg.data'\n",
    "column_names = [\n",
    "  'MPG', 'Cylinders', 'Displacement', 'Horsepower', 'Weight',\n",
    "  'Acceleration', 'Model Year', 'Origin'\n",
    "  ]\n",
    "\n",
    "dataset = pd.read_csv(url, names=column_names, na_values='?', \n",
    "                      comment='\\t', sep=' ', skipinitialspace=True)"
   ]
  },
  {
   "cell_type": "code",
   "execution_count": 7,
   "metadata": {
    "colab": {
     "base_uri": "https://localhost:8080/",
     "height": 201
    },
    "executionInfo": {
     "elapsed": 10,
     "status": "ok",
     "timestamp": 1663627888968,
     "user": {
      "displayName": "FLORA XU",
      "userId": "14641465521399406540"
     },
     "user_tz": 420
    },
    "id": "2oY3pMPagJrO",
    "outputId": "93d14a46-35c0-4f28-d549-ebe1e837c86e"
   },
   "outputs": [
    {
     "data": {
      "text/html": [
       "<div>\n",
       "<style scoped>\n",
       "    .dataframe tbody tr th:only-of-type {\n",
       "        vertical-align: middle;\n",
       "    }\n",
       "\n",
       "    .dataframe tbody tr th {\n",
       "        vertical-align: top;\n",
       "    }\n",
       "\n",
       "    .dataframe thead th {\n",
       "        text-align: right;\n",
       "    }\n",
       "</style>\n",
       "<table border=\"1\" class=\"dataframe\">\n",
       "  <thead>\n",
       "    <tr style=\"text-align: right;\">\n",
       "      <th></th>\n",
       "      <th>MPG</th>\n",
       "      <th>Cylinders</th>\n",
       "      <th>Displacement</th>\n",
       "      <th>Horsepower</th>\n",
       "      <th>Weight</th>\n",
       "      <th>Acceleration</th>\n",
       "      <th>Model Year</th>\n",
       "      <th>Origin</th>\n",
       "    </tr>\n",
       "  </thead>\n",
       "  <tbody>\n",
       "    <tr>\n",
       "      <th>393</th>\n",
       "      <td>27.0</td>\n",
       "      <td>4</td>\n",
       "      <td>140.0</td>\n",
       "      <td>86.0</td>\n",
       "      <td>2790.0</td>\n",
       "      <td>15.6</td>\n",
       "      <td>82</td>\n",
       "      <td>1</td>\n",
       "    </tr>\n",
       "    <tr>\n",
       "      <th>394</th>\n",
       "      <td>44.0</td>\n",
       "      <td>4</td>\n",
       "      <td>97.0</td>\n",
       "      <td>52.0</td>\n",
       "      <td>2130.0</td>\n",
       "      <td>24.6</td>\n",
       "      <td>82</td>\n",
       "      <td>2</td>\n",
       "    </tr>\n",
       "    <tr>\n",
       "      <th>395</th>\n",
       "      <td>32.0</td>\n",
       "      <td>4</td>\n",
       "      <td>135.0</td>\n",
       "      <td>84.0</td>\n",
       "      <td>2295.0</td>\n",
       "      <td>11.6</td>\n",
       "      <td>82</td>\n",
       "      <td>1</td>\n",
       "    </tr>\n",
       "    <tr>\n",
       "      <th>396</th>\n",
       "      <td>28.0</td>\n",
       "      <td>4</td>\n",
       "      <td>120.0</td>\n",
       "      <td>79.0</td>\n",
       "      <td>2625.0</td>\n",
       "      <td>18.6</td>\n",
       "      <td>82</td>\n",
       "      <td>1</td>\n",
       "    </tr>\n",
       "    <tr>\n",
       "      <th>397</th>\n",
       "      <td>31.0</td>\n",
       "      <td>4</td>\n",
       "      <td>119.0</td>\n",
       "      <td>82.0</td>\n",
       "      <td>2720.0</td>\n",
       "      <td>19.4</td>\n",
       "      <td>82</td>\n",
       "      <td>1</td>\n",
       "    </tr>\n",
       "  </tbody>\n",
       "</table>\n",
       "</div>"
      ],
      "text/plain": [
       "      MPG  Cylinders  Displacement  Horsepower  Weight  Acceleration  \\\n",
       "393  27.0          4         140.0        86.0  2790.0          15.6   \n",
       "394  44.0          4          97.0        52.0  2130.0          24.6   \n",
       "395  32.0          4         135.0        84.0  2295.0          11.6   \n",
       "396  28.0          4         120.0        79.0  2625.0          18.6   \n",
       "397  31.0          4         119.0        82.0  2720.0          19.4   \n",
       "\n",
       "     Model Year  Origin  \n",
       "393          82       1  \n",
       "394          82       2  \n",
       "395          82       1  \n",
       "396          82       1  \n",
       "397          82       1  "
      ]
     },
     "execution_count": 7,
     "metadata": {},
     "output_type": "execute_result"
    }
   ],
   "source": [
    "dataset.tail()"
   ]
  },
  {
   "cell_type": "markdown",
   "metadata": {
    "id": "3MWuJTKEDM-f"
   },
   "source": [
    "2. The dataset contains a few unknown values, we drop those rows to keep this initial tutorial simple. Use `pd.DataFrame.dropna()`:"
   ]
  },
  {
   "cell_type": "code",
   "execution_count": 8,
   "metadata": {
    "executionInfo": {
     "elapsed": 7,
     "status": "ok",
     "timestamp": 1663627888968,
     "user": {
      "displayName": "FLORA XU",
      "userId": "14641465521399406540"
     },
     "user_tz": 420
    },
    "id": "4ZUDosChC1UN"
   },
   "outputs": [],
   "source": [
    "dataset = dataset.dropna()"
   ]
  },
  {
   "cell_type": "markdown",
   "metadata": {
    "id": "8XKitwaH4v8h"
   },
   "source": [
    "3. The `\"Origin\"` column is categorical, not numeric. So the next step is to one-hot encode the values in the column with [pd.get_dummies](https://pandas.pydata.org/docs/reference/api/pandas.get_dummies.html)."
   ]
  },
  {
   "cell_type": "code",
   "execution_count": 9,
   "metadata": {
    "executionInfo": {
     "elapsed": 7,
     "status": "ok",
     "timestamp": 1663627888969,
     "user": {
      "displayName": "FLORA XU",
      "userId": "14641465521399406540"
     },
     "user_tz": 420
    },
    "id": "gWNTD2QjBWFJ"
   },
   "outputs": [],
   "source": [
    "dataset['Origin'] = dataset['Origin'].replace({1: 'USA', 2: 'Europe', 3: 'Japan'})"
   ]
  },
  {
   "cell_type": "code",
   "execution_count": 10,
   "metadata": {
    "colab": {
     "base_uri": "https://localhost:8080/",
     "height": 201
    },
    "executionInfo": {
     "elapsed": 160,
     "status": "ok",
     "timestamp": 1663627889122,
     "user": {
      "displayName": "FLORA XU",
      "userId": "14641465521399406540"
     },
     "user_tz": 420
    },
    "id": "ulXz4J7PAUzk",
    "outputId": "c4c71b71-99cc-4e23-fcc8-93117cc258d5"
   },
   "outputs": [
    {
     "data": {
      "text/html": [
       "<div>\n",
       "<style scoped>\n",
       "    .dataframe tbody tr th:only-of-type {\n",
       "        vertical-align: middle;\n",
       "    }\n",
       "\n",
       "    .dataframe tbody tr th {\n",
       "        vertical-align: top;\n",
       "    }\n",
       "\n",
       "    .dataframe thead th {\n",
       "        text-align: right;\n",
       "    }\n",
       "</style>\n",
       "<table border=\"1\" class=\"dataframe\">\n",
       "  <thead>\n",
       "    <tr style=\"text-align: right;\">\n",
       "      <th></th>\n",
       "      <th>MPG</th>\n",
       "      <th>Cylinders</th>\n",
       "      <th>Displacement</th>\n",
       "      <th>Horsepower</th>\n",
       "      <th>Weight</th>\n",
       "      <th>Acceleration</th>\n",
       "      <th>Model Year</th>\n",
       "      <th>Europe</th>\n",
       "      <th>Japan</th>\n",
       "      <th>USA</th>\n",
       "    </tr>\n",
       "  </thead>\n",
       "  <tbody>\n",
       "    <tr>\n",
       "      <th>393</th>\n",
       "      <td>27.0</td>\n",
       "      <td>4</td>\n",
       "      <td>140.0</td>\n",
       "      <td>86.0</td>\n",
       "      <td>2790.0</td>\n",
       "      <td>15.6</td>\n",
       "      <td>82</td>\n",
       "      <td>0</td>\n",
       "      <td>0</td>\n",
       "      <td>1</td>\n",
       "    </tr>\n",
       "    <tr>\n",
       "      <th>394</th>\n",
       "      <td>44.0</td>\n",
       "      <td>4</td>\n",
       "      <td>97.0</td>\n",
       "      <td>52.0</td>\n",
       "      <td>2130.0</td>\n",
       "      <td>24.6</td>\n",
       "      <td>82</td>\n",
       "      <td>1</td>\n",
       "      <td>0</td>\n",
       "      <td>0</td>\n",
       "    </tr>\n",
       "    <tr>\n",
       "      <th>395</th>\n",
       "      <td>32.0</td>\n",
       "      <td>4</td>\n",
       "      <td>135.0</td>\n",
       "      <td>84.0</td>\n",
       "      <td>2295.0</td>\n",
       "      <td>11.6</td>\n",
       "      <td>82</td>\n",
       "      <td>0</td>\n",
       "      <td>0</td>\n",
       "      <td>1</td>\n",
       "    </tr>\n",
       "    <tr>\n",
       "      <th>396</th>\n",
       "      <td>28.0</td>\n",
       "      <td>4</td>\n",
       "      <td>120.0</td>\n",
       "      <td>79.0</td>\n",
       "      <td>2625.0</td>\n",
       "      <td>18.6</td>\n",
       "      <td>82</td>\n",
       "      <td>0</td>\n",
       "      <td>0</td>\n",
       "      <td>1</td>\n",
       "    </tr>\n",
       "    <tr>\n",
       "      <th>397</th>\n",
       "      <td>31.0</td>\n",
       "      <td>4</td>\n",
       "      <td>119.0</td>\n",
       "      <td>82.0</td>\n",
       "      <td>2720.0</td>\n",
       "      <td>19.4</td>\n",
       "      <td>82</td>\n",
       "      <td>0</td>\n",
       "      <td>0</td>\n",
       "      <td>1</td>\n",
       "    </tr>\n",
       "  </tbody>\n",
       "</table>\n",
       "</div>"
      ],
      "text/plain": [
       "      MPG  Cylinders  Displacement  Horsepower  Weight  Acceleration  \\\n",
       "393  27.0          4         140.0        86.0  2790.0          15.6   \n",
       "394  44.0          4          97.0        52.0  2130.0          24.6   \n",
       "395  32.0          4         135.0        84.0  2295.0          11.6   \n",
       "396  28.0          4         120.0        79.0  2625.0          18.6   \n",
       "397  31.0          4         119.0        82.0  2720.0          19.4   \n",
       "\n",
       "     Model Year  Europe  Japan  USA  \n",
       "393          82       0      0    1  \n",
       "394          82       1      0    0  \n",
       "395          82       0      0    1  \n",
       "396          82       0      0    1  \n",
       "397          82       0      0    1  "
      ]
     },
     "execution_count": 10,
     "metadata": {},
     "output_type": "execute_result"
    }
   ],
   "source": [
    "dataset = pd.get_dummies(dataset, columns=['Origin'], prefix='', prefix_sep='')\n",
    "dataset.tail()"
   ]
  },
  {
   "cell_type": "markdown",
   "metadata": {
    "id": "Cuym4yvk76vU"
   },
   "source": [
    "4. Split the data into training and test sets. To reduce the module importing overhead, instead of `sklearn.model_selection.train_test_split()`, use `pd.DataFrame.sample()` to save 80% of the data aside to `train_dataset`, set the random state to be 0 for reproducibility. \n",
    "\n",
    "   Then use `pd.DataFrame.drop()` to obtain the `test_dataset`."
   ]
  },
  {
   "cell_type": "code",
   "execution_count": 11,
   "metadata": {
    "executionInfo": {
     "elapsed": 4,
     "status": "ok",
     "timestamp": 1663627889123,
     "user": {
      "displayName": "FLORA XU",
      "userId": "14641465521399406540"
     },
     "user_tz": 420
    },
    "id": "qn-IGhUE7_1H"
   },
   "outputs": [],
   "source": [
    "import pandas as pd\n",
    "\n",
    "# Shuffle the DataFrame\n",
    "dataset = dataset.sample(frac=1, random_state=42)\n",
    "\n",
    "# Split the DataFrame\n",
    "split_index = int(0.8 * len(dataset))\n",
    "train_dataset = dataset.iloc[:split_index]\n",
    "test_dataset = dataset.iloc[split_index:]\n"
   ]
  },
  {
   "cell_type": "markdown",
   "metadata": {
    "id": "J4ubs136WLNp"
   },
   "source": [
    "5. Review the pairwise relationships of a few pairs of columns from the training set. \n",
    "   \n",
    "   The top row suggests that the fuel efficiency (MPG) is a function of all the other parameters. The other rows indicate they are functions of each other."
   ]
  },
  {
   "cell_type": "code",
   "execution_count": 12,
   "metadata": {
    "colab": {
     "base_uri": "https://localhost:8080/",
     "height": 725
    },
    "executionInfo": {
     "elapsed": 14333,
     "status": "ok",
     "timestamp": 1663627903453,
     "user": {
      "displayName": "FLORA XU",
      "userId": "14641465521399406540"
     },
     "user_tz": 420
    },
    "id": "oRKO_x8gWKv-",
    "outputId": "7d80fe75-069d-4a84-af1e-9a3350074962"
   },
   "outputs": [
    {
     "data": {
      "image/png": "[encoded data removed]",
      "text/plain": [
       "<Figure size 1000x1000 with 20 Axes>"
      ]
     },
     "metadata": {},
     "output_type": "display_data"
    }
   ],
   "source": [
    "import seaborn as sns\n",
    "sns.pairplot(train_dataset[['MPG', 'Cylinders', 'Displacement', 'Weight']], diag_kind='kde');"
   ]
  },
  {
   "cell_type": "code",
   "execution_count": 13,
   "metadata": {},
   "outputs": [
    {
     "data": {
      "text/html": [
       "<div>\n",
       "<style scoped>\n",
       "    .dataframe tbody tr th:only-of-type {\n",
       "        vertical-align: middle;\n",
       "    }\n",
       "\n",
       "    .dataframe tbody tr th {\n",
       "        vertical-align: top;\n",
       "    }\n",
       "\n",
       "    .dataframe thead th {\n",
       "        text-align: right;\n",
       "    }\n",
       "</style>\n",
       "<table border=\"1\" class=\"dataframe\">\n",
       "  <thead>\n",
       "    <tr style=\"text-align: right;\">\n",
       "      <th></th>\n",
       "      <th>count</th>\n",
       "      <th>mean</th>\n",
       "      <th>std</th>\n",
       "      <th>min</th>\n",
       "      <th>25%</th>\n",
       "      <th>50%</th>\n",
       "      <th>75%</th>\n",
       "      <th>max</th>\n",
       "    </tr>\n",
       "  </thead>\n",
       "  <tbody>\n",
       "    <tr>\n",
       "      <th>MPG</th>\n",
       "      <td>313.0</td>\n",
       "      <td>23.167093</td>\n",
       "      <td>7.870920</td>\n",
       "      <td>9.0</td>\n",
       "      <td>17.0</td>\n",
       "      <td>22.0</td>\n",
       "      <td>28.1</td>\n",
       "      <td>46.6</td>\n",
       "    </tr>\n",
       "    <tr>\n",
       "      <th>Cylinders</th>\n",
       "      <td>313.0</td>\n",
       "      <td>5.536741</td>\n",
       "      <td>1.730040</td>\n",
       "      <td>3.0</td>\n",
       "      <td>4.0</td>\n",
       "      <td>4.0</td>\n",
       "      <td>8.0</td>\n",
       "      <td>8.0</td>\n",
       "    </tr>\n",
       "    <tr>\n",
       "      <th>Displacement</th>\n",
       "      <td>313.0</td>\n",
       "      <td>198.103834</td>\n",
       "      <td>106.581043</td>\n",
       "      <td>68.0</td>\n",
       "      <td>105.0</td>\n",
       "      <td>151.0</td>\n",
       "      <td>302.0</td>\n",
       "      <td>455.0</td>\n",
       "    </tr>\n",
       "    <tr>\n",
       "      <th>Horsepower</th>\n",
       "      <td>313.0</td>\n",
       "      <td>106.028754</td>\n",
       "      <td>39.686946</td>\n",
       "      <td>46.0</td>\n",
       "      <td>76.0</td>\n",
       "      <td>95.0</td>\n",
       "      <td>130.0</td>\n",
       "      <td>230.0</td>\n",
       "    </tr>\n",
       "    <tr>\n",
       "      <th>Weight</th>\n",
       "      <td>313.0</td>\n",
       "      <td>3004.900958</td>\n",
       "      <td>860.306039</td>\n",
       "      <td>1649.0</td>\n",
       "      <td>2230.0</td>\n",
       "      <td>2830.0</td>\n",
       "      <td>3645.0</td>\n",
       "      <td>4955.0</td>\n",
       "    </tr>\n",
       "    <tr>\n",
       "      <th>Acceleration</th>\n",
       "      <td>313.0</td>\n",
       "      <td>15.490415</td>\n",
       "      <td>2.784579</td>\n",
       "      <td>8.0</td>\n",
       "      <td>13.6</td>\n",
       "      <td>15.5</td>\n",
       "      <td>17.0</td>\n",
       "      <td>24.8</td>\n",
       "    </tr>\n",
       "    <tr>\n",
       "      <th>Model Year</th>\n",
       "      <td>313.0</td>\n",
       "      <td>75.910543</td>\n",
       "      <td>3.694892</td>\n",
       "      <td>70.0</td>\n",
       "      <td>73.0</td>\n",
       "      <td>76.0</td>\n",
       "      <td>79.0</td>\n",
       "      <td>82.0</td>\n",
       "    </tr>\n",
       "    <tr>\n",
       "      <th>Europe</th>\n",
       "      <td>313.0</td>\n",
       "      <td>0.169329</td>\n",
       "      <td>0.375643</td>\n",
       "      <td>0.0</td>\n",
       "      <td>0.0</td>\n",
       "      <td>0.0</td>\n",
       "      <td>0.0</td>\n",
       "      <td>1.0</td>\n",
       "    </tr>\n",
       "    <tr>\n",
       "      <th>Japan</th>\n",
       "      <td>313.0</td>\n",
       "      <td>0.204473</td>\n",
       "      <td>0.403962</td>\n",
       "      <td>0.0</td>\n",
       "      <td>0.0</td>\n",
       "      <td>0.0</td>\n",
       "      <td>0.0</td>\n",
       "      <td>1.0</td>\n",
       "    </tr>\n",
       "    <tr>\n",
       "      <th>USA</th>\n",
       "      <td>313.0</td>\n",
       "      <td>0.626198</td>\n",
       "      <td>0.484587</td>\n",
       "      <td>0.0</td>\n",
       "      <td>0.0</td>\n",
       "      <td>1.0</td>\n",
       "      <td>1.0</td>\n",
       "      <td>1.0</td>\n",
       "    </tr>\n",
       "  </tbody>\n",
       "</table>\n",
       "</div>"
      ],
      "text/plain": [
       "              count         mean         std     min     25%     50%     75%  \\\n",
       "MPG           313.0    23.167093    7.870920     9.0    17.0    22.0    28.1   \n",
       "Cylinders     313.0     5.536741    1.730040     3.0     4.0     4.0     8.0   \n",
       "Displacement  313.0   198.103834  106.581043    68.0   105.0   151.0   302.0   \n",
       "Horsepower    313.0   106.028754   39.686946    46.0    76.0    95.0   130.0   \n",
       "Weight        313.0  3004.900958  860.306039  1649.0  2230.0  2830.0  3645.0   \n",
       "Acceleration  313.0    15.490415    2.784579     8.0    13.6    15.5    17.0   \n",
       "Model Year    313.0    75.910543    3.694892    70.0    73.0    76.0    79.0   \n",
       "Europe        313.0     0.169329    0.375643     0.0     0.0     0.0     0.0   \n",
       "Japan         313.0     0.204473    0.403962     0.0     0.0     0.0     0.0   \n",
       "USA           313.0     0.626198    0.484587     0.0     0.0     1.0     1.0   \n",
       "\n",
       "                 max  \n",
       "MPG             46.6  \n",
       "Cylinders        8.0  \n",
       "Displacement   455.0  \n",
       "Horsepower     230.0  \n",
       "Weight        4955.0  \n",
       "Acceleration    24.8  \n",
       "Model Year      82.0  \n",
       "Europe           1.0  \n",
       "Japan            1.0  \n",
       "USA              1.0  "
      ]
     },
     "execution_count": 13,
     "metadata": {},
     "output_type": "execute_result"
    }
   ],
   "source": [
    "train_dataset.describe().transpose()"
   ]
  },
  {
   "cell_type": "markdown",
   "metadata": {
    "id": "gavKO_6DWRMP"
   },
   "source": [
    "Let's also check the overall statistics. Note how each feature covers a very different range:"
   ]
  },
  {
   "cell_type": "code",
   "execution_count": 14,
   "metadata": {
    "executionInfo": {
     "elapsed": 5,
     "status": "ok",
     "timestamp": 1663627903454,
     "user": {
      "displayName": "FLORA XU",
      "userId": "14641465521399406540"
     },
     "user_tz": 420
    },
    "id": "t2sluJdCW7jN"
   },
   "outputs": [],
   "source": [
    "train_labels = train_dataset.pop(\"MPG\")\n",
    "test_labels = test_dataset.pop(\"MPG\")\n",
    "\n",
    "train_features = train_dataset\n",
    "test_features = test_dataset"
   ]
  },
  {
   "cell_type": "markdown",
   "metadata": {
    "id": "mRklxK5s388r"
   },
   "source": [
    "# Task 2 - Normalization Layer"
   ]
  },
  {
   "cell_type": "markdown",
   "metadata": {
    "id": "-ywmerQ6dSox"
   },
   "source": [
    "It is good practice to normalize features that use different scales and ranges. Although a model *might* converge without feature normalization, normalization makes training much more stable.\n",
    "\n",
    "Similar to scikit-learn, tensorflow.keras offers a list of [preprocessing layers](https://www.tensorflow.org/guide/keras/preprocessing_layers) so that you can build and export models that are truly end-to-end."
   ]
  },
  {
   "cell_type": "markdown",
   "metadata": {
    "id": "aFJ6ISropeoo"
   },
   "source": [
    "1. The Normalization layer ([`tf.keras.layers.Normalization`](https://www.tensorflow.org/api_docs/python/tf/keras/layers/Normalization) is a clean and simple way to add feature normalization into your model. The first step is to create the layer:"
   ]
  },
  {
   "cell_type": "code",
   "execution_count": 25,
   "metadata": {
    "executionInfo": {
     "elapsed": 4,
     "status": "ok",
     "timestamp": 1663627903454,
     "user": {
      "displayName": "FLORA XU",
      "userId": "14641465521399406540"
     },
     "user_tz": 420
    },
    "id": "JlC5ooJrgjQF"
   },
   "outputs": [],
   "source": [
    "from tensorflow.keras import layers\n",
    "\n",
    "normalizer = layers.Normalization(axis=-1)\n"
   ]
  },
  {
   "cell_type": "markdown",
   "metadata": {
    "id": "XYA2Ap6nVOha"
   },
   "source": [
    "2. Then, fit the state of the preprocessing layer to the data by calling [`Normalization.adapt`](https://www.tensorflow.org/guide/keras/preprocessing_layers#the_adapt_method):"
   ]
  },
  {
   "cell_type": "code",
   "execution_count": 26,
   "metadata": {
    "executionInfo": {
     "elapsed": 1351,
     "status": "ok",
     "timestamp": 1663627904801,
     "user": {
      "displayName": "FLORA XU",
      "userId": "14641465521399406540"
     },
     "user_tz": 420
    },
    "id": "CrBbbjbwV91f"
   },
   "outputs": [],
   "source": [
    "normalizer.adapt(train_features)"
   ]
  },
  {
   "cell_type": "markdown",
   "metadata": {
    "id": "GqryjQ_DMMHp"
   },
   "source": [
    "We can see the feature mean and variance are stored in the layer:"
   ]
  },
  {
   "cell_type": "code",
   "execution_count": 27,
   "metadata": {
    "colab": {
     "base_uri": "https://localhost:8080/"
    },
    "executionInfo": {
     "elapsed": 7,
     "status": "ok",
     "timestamp": 1663627904801,
     "user": {
      "displayName": "FLORA XU",
      "userId": "14641465521399406540"
     },
     "user_tz": 420
    },
    "id": "lreV_KOML142",
    "outputId": "11805fe4-c849-4453-9653-e083289bc07d"
   },
   "outputs": [
    {
     "name": "stdout",
     "output_type": "stream",
     "text": [
      "feature mean: [   5.537  198.104  106.029 3004.901   15.49    75.911    0.169    0.204\n",
      "    0.626]\n",
      "\n",
      "feature variance: [     2.983  11323.227   1570.021 737761.8        7.729     13.609\n",
      "      0.141      0.163      0.234]\n"
     ]
    }
   ],
   "source": [
    "print(f'feature mean: {normalizer.mean.numpy().squeeze()}\\n')\n",
    "print(f'feature variance: {normalizer.variance.numpy().squeeze()}')"
   ]
  },
  {
   "cell_type": "markdown",
   "metadata": {
    "id": "oGWKaF9GSRuN"
   },
   "source": [
    "When the layer is called, it returns the input data, with each feature independently normalized:"
   ]
  },
  {
   "cell_type": "code",
   "execution_count": 28,
   "metadata": {
    "colab": {
     "base_uri": "https://localhost:8080/"
    },
    "executionInfo": {
     "elapsed": 302,
     "status": "ok",
     "timestamp": 1663627905100,
     "user": {
      "displayName": "FLORA XU",
      "userId": "14641465521399406540"
     },
     "user_tz": 420
    },
    "id": "2l7zFL_XWIRu",
    "outputId": "c0e053cf-43be-46b7-97d2-6384ad362072"
   },
   "outputs": [
    {
     "name": "stdout",
     "output_type": "stream",
     "text": [
      "First example: [[   4.   96.   69. 2189.   18.   72.    1.    0.    0.]]\n",
      "\n",
      "Normalized: [[-0.89 -0.96 -0.93 -0.95  0.9  -1.06  2.21 -0.51 -1.29]]\n"
     ]
    }
   ],
   "source": [
    "first = np.array(train_features[:1])\n",
    "\n",
    "with np.printoptions(precision=2, suppress=True):\n",
    "    print('First example:', first)\n",
    "    print()\n",
    "    print('Normalized:', normalizer(first).numpy())"
   ]
  },
  {
   "cell_type": "markdown",
   "metadata": {
    "id": "6o3CrycBXA2s"
   },
   "source": [
    "# Task 3 - Linear Regression 📈\n",
    "\n",
    "Before building a deep neural network model, start with linear regression using all the features."
   ]
  },
  {
   "cell_type": "markdown",
   "metadata": {
    "id": "lFby9n0tnHkw"
   },
   "source": [
    "Training a model with `tf.keras` typically starts by defining the model architecture. Use a `tf.keras.Sequential` model, which [represents a sequence of steps](https://www.tensorflow.org/guide/keras/sequential_model).\n",
    "\n",
    "There are two steps in this multivariate linear regression model:\n",
    "\n",
    "- Normalize all the input features using the `tf.keras.layers.Normalization` preprocessing layer. You have defined this earlier as `normalizer`.\n",
    "- Apply a linear transformation ($y = mx+b$ where $m$ is a matrix and $b$ is a vector.) to produce one output using a linear layer ([`tf.keras.layers.Dense`](https://www.tensorflow.org/api_docs/python/tf/keras/layers/Dense)).\n",
    "\n",
    "The number of _inputs_ can either be set by the `input_shape` argument, or automatically when the model is run for the first time."
   ]
  },
  {
   "cell_type": "markdown",
   "metadata": {
    "id": "4NVlHJY2TWlC"
   },
   "source": [
    "1. Build the Keras Sequential model:"
   ]
  },
  {
   "cell_type": "code",
   "execution_count": 29,
   "metadata": {
    "executionInfo": {
     "elapsed": 15,
     "status": "ok",
     "timestamp": 1663627905101,
     "user": {
      "displayName": "FLORA XU",
      "userId": "14641465521399406540"
     },
     "user_tz": 420
    },
    "id": "c0sXM7qLlKfZ"
   },
   "outputs": [
    {
     "name": "stderr",
     "output_type": "stream",
     "text": [
      "2023/02/02 19:55:42 INFO mlflow.utils.autologging_utils: Created MLflow autologging run with ID 'd0bb5ac631ac451f9f4430b01899c26c', which will track hyperparameters, performance metrics, model artifacts, and lineage information for the current tensorflow workflow\n"
     ]
    },
    {
     "name": "stdout",
     "output_type": "stream",
     "text": [
      "Epoch 1/100\n",
      " 1/10 [==>...........................] - ETA: 5s - loss: 86585.4219WARNING:tensorflow:Callback method `on_train_batch_end` is slow compared to the batch time (batch time: 0.0010s vs `on_train_batch_end` time: 0.0043s). Check your callbacks.\n"
     ]
    },
    {
     "name": "stderr",
     "output_type": "stream",
     "text": [
      "WARNING:tensorflow:Callback method `on_train_batch_end` is slow compared to the batch time (batch time: 0.0010s vs `on_train_batch_end` time: 0.0043s). Check your callbacks.\n"
     ]
    },
    {
     "name": "stdout",
     "output_type": "stream",
     "text": [
      "10/10 [==============================] - 1s 4ms/step - loss: 18774.4453\n",
      "Epoch 2/100\n",
      "10/10 [==============================] - 0s 4ms/step - loss: 5648.8911\n",
      "Epoch 3/100\n",
      "10/10 [==============================] - 0s 3ms/step - loss: 1687.1241\n",
      "Epoch 4/100\n",
      "10/10 [==============================] - 0s 3ms/step - loss: 532.6834\n",
      "Epoch 5/100\n",
      "10/10 [==============================] - 0s 3ms/step - loss: 367.2477\n",
      "Epoch 6/100\n",
      "10/10 [==============================] - 0s 4ms/step - loss: 132.6277\n",
      "Epoch 7/100\n",
      "10/10 [==============================] - 0s 11ms/step - loss: 113.6747\n",
      "Epoch 8/100\n",
      "10/10 [==============================] - 0s 3ms/step - loss: 84.3890\n",
      "Epoch 9/100\n",
      "10/10 [==============================] - 0s 4ms/step - loss: 73.0734\n",
      "Epoch 10/100\n",
      "10/10 [==============================] - 0s 2ms/step - loss: 67.2969\n",
      "Epoch 11/100\n",
      "10/10 [==============================] - 0s 2ms/step - loss: 67.9970\n",
      "Epoch 12/100\n",
      "10/10 [==============================] - 0s 3ms/step - loss: 69.8432\n",
      "Epoch 13/100\n",
      "10/10 [==============================] - 0s 2ms/step - loss: 61.5128\n",
      "Epoch 14/100\n",
      "10/10 [==============================] - 0s 3ms/step - loss: 53.3235\n",
      "Epoch 15/100\n",
      "10/10 [==============================] - 0s 2ms/step - loss: 50.2567\n",
      "Epoch 16/100\n",
      "10/10 [==============================] - 0s 2ms/step - loss: 47.3062\n",
      "Epoch 17/100\n",
      "10/10 [==============================] - 0s 3ms/step - loss: 45.0450\n",
      "Epoch 18/100\n",
      "10/10 [==============================] - 0s 3ms/step - loss: 42.8945\n",
      "Epoch 19/100\n",
      "10/10 [==============================] - 0s 3ms/step - loss: 40.9044\n",
      "Epoch 20/100\n",
      "10/10 [==============================] - 0s 2ms/step - loss: 39.9879\n",
      "Epoch 21/100\n",
      "10/10 [==============================] - 0s 3ms/step - loss: 39.2818\n",
      "Epoch 22/100\n",
      "10/10 [==============================] - 0s 9ms/step - loss: 38.1758\n",
      "Epoch 23/100\n",
      "10/10 [==============================] - 0s 7ms/step - loss: 37.9288\n",
      "Epoch 24/100\n",
      "10/10 [==============================] - 0s 3ms/step - loss: 35.3452\n",
      "Epoch 25/100\n",
      "10/10 [==============================] - 0s 4ms/step - loss: 34.2281\n",
      "Epoch 26/100\n",
      "10/10 [==============================] - 0s 2ms/step - loss: 34.6555\n",
      "Epoch 27/100\n",
      "10/10 [==============================] - 0s 2ms/step - loss: 33.3982\n",
      "Epoch 28/100\n",
      "10/10 [==============================] - 0s 2ms/step - loss: 35.5235\n",
      "Epoch 29/100\n",
      "10/10 [==============================] - 0s 3ms/step - loss: 30.0800\n",
      "Epoch 30/100\n",
      "10/10 [==============================] - 0s 8ms/step - loss: 31.9696\n",
      "Epoch 31/100\n",
      "10/10 [==============================] - 0s 3ms/step - loss: 29.6950\n",
      "Epoch 32/100\n",
      "10/10 [==============================] - 0s 2ms/step - loss: 31.1485\n",
      "Epoch 33/100\n",
      "10/10 [==============================] - 0s 2ms/step - loss: 27.8935\n",
      "Epoch 34/100\n",
      "10/10 [==============================] - 0s 2ms/step - loss: 27.7576\n",
      "Epoch 35/100\n",
      "10/10 [==============================] - 0s 2ms/step - loss: 26.0929\n",
      "Epoch 36/100\n",
      "10/10 [==============================] - 0s 2ms/step - loss: 27.0717\n",
      "Epoch 37/100\n",
      "10/10 [==============================] - 0s 2ms/step - loss: 27.7567\n",
      "Epoch 38/100\n",
      "10/10 [==============================] - 0s 2ms/step - loss: 26.5407\n",
      "Epoch 39/100\n",
      "10/10 [==============================] - 0s 2ms/step - loss: 25.0927\n",
      "Epoch 40/100\n",
      "10/10 [==============================] - 0s 2ms/step - loss: 24.0436\n",
      "Epoch 41/100\n",
      "10/10 [==============================] - 0s 2ms/step - loss: 22.7945\n",
      "Epoch 42/100\n",
      "10/10 [==============================] - 0s 2ms/step - loss: 21.8349\n",
      "Epoch 43/100\n",
      "10/10 [==============================] - 0s 2ms/step - loss: 22.3208\n",
      "Epoch 44/100\n",
      "10/10 [==============================] - 0s 2ms/step - loss: 21.3613\n",
      "Epoch 45/100\n",
      "10/10 [==============================] - 0s 2ms/step - loss: 22.2059\n",
      "Epoch 46/100\n",
      "10/10 [==============================] - 0s 2ms/step - loss: 21.5614\n",
      "Epoch 47/100\n",
      "10/10 [==============================] - 0s 3ms/step - loss: 21.2855\n",
      "Epoch 48/100\n",
      "10/10 [==============================] - 0s 3ms/step - loss: 20.6003\n",
      "Epoch 49/100\n",
      "10/10 [==============================] - 0s 3ms/step - loss: 19.9642\n",
      "Epoch 50/100\n",
      "10/10 [==============================] - 0s 2ms/step - loss: 19.2077\n",
      "Epoch 51/100\n",
      "10/10 [==============================] - 0s 5ms/step - loss: 18.5049\n",
      "Epoch 52/100\n",
      "10/10 [==============================] - 0s 4ms/step - loss: 18.7248\n",
      "Epoch 53/100\n",
      "10/10 [==============================] - 0s 2ms/step - loss: 18.4780\n",
      "Epoch 54/100\n",
      "10/10 [==============================] - 0s 2ms/step - loss: 17.8602\n",
      "Epoch 55/100\n",
      "10/10 [==============================] - 0s 2ms/step - loss: 18.4585\n",
      "Epoch 56/100\n",
      "10/10 [==============================] - 0s 2ms/step - loss: 18.2138\n",
      "Epoch 57/100\n",
      "10/10 [==============================] - 0s 2ms/step - loss: 17.6031\n",
      "Epoch 58/100\n",
      "10/10 [==============================] - 0s 2ms/step - loss: 16.4656\n",
      "Epoch 59/100\n",
      "10/10 [==============================] - 0s 2ms/step - loss: 17.1992\n",
      "Epoch 60/100\n",
      "10/10 [==============================] - 0s 2ms/step - loss: 16.9702\n",
      "Epoch 61/100\n",
      "10/10 [==============================] - 0s 2ms/step - loss: 15.8421\n",
      "Epoch 62/100\n",
      "10/10 [==============================] - 0s 2ms/step - loss: 16.1791\n",
      "Epoch 63/100\n",
      "10/10 [==============================] - 0s 2ms/step - loss: 16.0207\n",
      "Epoch 64/100\n",
      "10/10 [==============================] - 0s 2ms/step - loss: 17.1357\n",
      "Epoch 65/100\n",
      "10/10 [==============================] - 0s 3ms/step - loss: 18.5576\n",
      "Epoch 66/100\n",
      "10/10 [==============================] - 0s 3ms/step - loss: 15.1136\n",
      "Epoch 67/100\n",
      "10/10 [==============================] - 0s 2ms/step - loss: 15.6363\n",
      "Epoch 68/100\n",
      "10/10 [==============================] - 0s 2ms/step - loss: 15.4323\n",
      "Epoch 69/100\n",
      "10/10 [==============================] - 0s 2ms/step - loss: 18.0245\n",
      "Epoch 70/100\n",
      "10/10 [==============================] - 0s 2ms/step - loss: 16.6176\n",
      "Epoch 71/100\n",
      "10/10 [==============================] - 0s 2ms/step - loss: 16.3398\n",
      "Epoch 72/100\n",
      "10/10 [==============================] - 0s 2ms/step - loss: 14.8034\n",
      "Epoch 73/100\n",
      "10/10 [==============================] - 0s 2ms/step - loss: 15.2727\n",
      "Epoch 74/100\n",
      "10/10 [==============================] - 0s 2ms/step - loss: 16.8592\n",
      "Epoch 75/100\n",
      "10/10 [==============================] - 0s 2ms/step - loss: 14.6956\n",
      "Epoch 76/100\n",
      "10/10 [==============================] - 0s 2ms/step - loss: 14.3919\n",
      "Epoch 77/100\n",
      "10/10 [==============================] - 0s 2ms/step - loss: 13.9865\n",
      "Epoch 78/100\n",
      "10/10 [==============================] - 0s 2ms/step - loss: 13.5606\n",
      "Epoch 79/100\n",
      "10/10 [==============================] - 0s 2ms/step - loss: 13.8181\n",
      "Epoch 80/100\n",
      "10/10 [==============================] - 0s 2ms/step - loss: 15.6353\n",
      "Epoch 81/100\n",
      "10/10 [==============================] - 0s 2ms/step - loss: 14.0262\n",
      "Epoch 82/100\n",
      "10/10 [==============================] - 0s 3ms/step - loss: 13.6877\n",
      "Epoch 83/100\n",
      "10/10 [==============================] - 0s 3ms/step - loss: 13.4718\n",
      "Epoch 84/100\n",
      "10/10 [==============================] - 0s 3ms/step - loss: 14.2038\n",
      "Epoch 85/100\n",
      "10/10 [==============================] - 0s 3ms/step - loss: 13.6576\n",
      "Epoch 86/100\n",
      "10/10 [==============================] - 0s 3ms/step - loss: 13.9755\n",
      "Epoch 87/100\n",
      "10/10 [==============================] - 0s 3ms/step - loss: 15.3238\n",
      "Epoch 88/100\n",
      "10/10 [==============================] - 0s 7ms/step - loss: 13.8581\n",
      "Epoch 89/100\n",
      "10/10 [==============================] - 0s 3ms/step - loss: 14.3023\n",
      "Epoch 90/100\n",
      "10/10 [==============================] - 0s 2ms/step - loss: 13.4126\n",
      "Epoch 91/100\n",
      "10/10 [==============================] - 0s 2ms/step - loss: 20.6626\n",
      "Epoch 92/100\n",
      "10/10 [==============================] - 0s 2ms/step - loss: 21.3050\n",
      "Epoch 93/100\n",
      "10/10 [==============================] - 0s 2ms/step - loss: 21.2810\n",
      "Epoch 94/100\n",
      "10/10 [==============================] - 0s 2ms/step - loss: 15.8189\n",
      "Epoch 95/100\n",
      "10/10 [==============================] - 0s 3ms/step - loss: 17.1932\n",
      "Epoch 96/100\n",
      "10/10 [==============================] - 0s 3ms/step - loss: 14.4718\n",
      "Epoch 97/100\n",
      "10/10 [==============================] - 0s 3ms/step - loss: 15.3849\n",
      "Epoch 98/100\n",
      "10/10 [==============================] - 0s 3ms/step - loss: 30.3587\n",
      "Epoch 99/100\n",
      "10/10 [==============================] - 0s 2ms/step - loss: 30.8129\n",
      "Epoch 100/100\n",
      "10/10 [==============================] - 0s 2ms/step - loss: 17.6819\n"
     ]
    },
    {
     "name": "stderr",
     "output_type": "stream",
     "text": [
      "2023/02/02 19:55:46 WARNING mlflow.tensorflow: Failed to infer model signature: could not sample data to infer model signature: Cannot log input example or model signature for input with type <class 'pandas.core.frame.DataFrame'>. TensorFlow Keras autologging can only log input examples and model signatures for the following input types: numpy.ndarray, dict[string -> numpy.ndarray], tensorflow.keras.utils.Sequence, and tensorflow.data.Dataset (TensorFlow >= 2.1.0 required)\n",
      "2023/02/02 19:55:46 WARNING mlflow.tensorflow: You are saving a TensorFlow Core model or Keras model without a signature. Inference with mlflow.pyfunc.spark_udf() will not work unless the model's pyfunc representation accepts pandas DataFrames as inference inputs.\n",
      "WARNING:absl:Found untraced functions such as _update_step_xla while saving (showing 1 of 1). These functions will not be directly callable after loading.\n"
     ]
    },
    {
     "name": "stdout",
     "output_type": "stream",
     "text": [
      "INFO:tensorflow:Assets written to: /var/folders/lc/0q_5vmf5385c78mr7v2ntch00000gn/T/tmpmvwagjfb/model/data/model/assets\n"
     ]
    },
    {
     "name": "stderr",
     "output_type": "stream",
     "text": [
      "INFO:tensorflow:Assets written to: /var/folders/lc/0q_5vmf5385c78mr7v2ntch00000gn/T/tmpmvwagjfb/model/data/model/assets\n"
     ]
    },
    {
     "data": {
      "text/plain": [
       "<keras.callbacks.History at 0x7f785d5c60a0>"
      ]
     },
     "execution_count": 29,
     "metadata": {},
     "output_type": "execute_result"
    }
   ],
   "source": [
    "import tensorflow as tf\n",
    "\n",
    "\n",
    "from tensorflow import keras\n",
    "\n",
    "input_shape = train_features.shape[1:]\n",
    "input_units = input_shape[0]\n",
    "\n",
    "linear_model = tf.keras.Sequential([\n",
    "    tf.keras.layers.Dense(units=16, activation='relu', input_shape=(input_units,)),\n",
    "    tf.keras.layers.Dense(units=1)\n",
    "])\n",
    "\n",
    "# Compile the model with a lower learning rate\n",
    "optimizer = keras.optimizers.Adam(learning_rate=0.01)\n",
    "linear_model.compile(optimizer=optimizer, loss='mean_squared_error')\n",
    "\n",
    "# Train the model\n",
    "linear_model.fit(train_features, train_labels, epochs=100)\n",
    "\n"
   ]
  },
  {
   "cell_type": "code",
   "execution_count": 30,
   "metadata": {
    "colab": {
     "base_uri": "https://localhost:8080/"
    },
    "executionInfo": {
     "elapsed": 168,
     "status": "ok",
     "timestamp": 1663627905255,
     "user": {
      "displayName": "FLORA XU",
      "userId": "14641465521399406540"
     },
     "user_tz": 420
    },
    "id": "_iaY0wviy0FO",
    "outputId": "57ced0ee-22c1-477d-e2de-c6dac7d67e62"
   },
   "outputs": [
    {
     "name": "stdout",
     "output_type": "stream",
     "text": [
      "Model: \"sequential_1\"\n",
      "_________________________________________________________________\n",
      " Layer (type)                Output Shape              Param #   \n",
      "=================================================================\n",
      " dense_2 (Dense)             (None, 16)                160       \n",
      "                                                                 \n",
      " dense_3 (Dense)             (None, 1)                 17        \n",
      "                                                                 \n",
      "=================================================================\n",
      "Total params: 177\n",
      "Trainable params: 177\n",
      "Non-trainable params: 0\n",
      "_________________________________________________________________\n"
     ]
    }
   ],
   "source": [
    "linear_model.summary()"
   ]
  },
  {
   "cell_type": "markdown",
   "metadata": {
    "id": "eObQu9fDnXGL"
   },
   "source": [
    "2. This model will predict `'MPG'` from all features in `train_features`. Run the untrained model on the first 10 data points / rows using `Model.predict()`. The output won't be good, but notice that it has the expected shape of `(10, 1)`:"
   ]
  },
  {
   "cell_type": "code",
   "execution_count": 21,
   "metadata": {
    "colab": {
     "base_uri": "https://localhost:8080/"
    },
    "executionInfo": {
     "elapsed": 227,
     "status": "ok",
     "timestamp": 1663627905481,
     "user": {
      "displayName": "FLORA XU",
      "userId": "14641465521399406540"
     },
     "user_tz": 420
    },
    "id": "UfV1HS6bns-s",
    "outputId": "ceaa3ba8-2193-420b-f95d-25aadf685516"
   },
   "outputs": [
    {
     "name": "stdout",
     "output_type": "stream",
     "text": [
      "1/1 [==============================] - 0s 140ms/step\n",
      "Untrained predictions: (10, 1)\n"
     ]
    }
   ],
   "source": [
    "untrained_predictions = linear_model.predict(train_features[:10])\n",
    "print(f'Untrained predictions: {untrained_predictions.shape}')"
   ]
  },
  {
   "cell_type": "markdown",
   "metadata": {
    "id": "IFND0vL4y5OZ"
   },
   "source": [
    "3. When you call the model, its weight matrices will be built—check that the `kernel` weights (the $m$ in $y = mx + b$) have a shape of (9, 1):"
   ]
  },
  {
   "cell_type": "code",
   "execution_count": 22,
   "metadata": {
    "colab": {
     "base_uri": "https://localhost:8080/"
    },
    "executionInfo": {
     "elapsed": 5,
     "status": "ok",
     "timestamp": 1663627905652,
     "user": {
      "displayName": "FLORA XU",
      "userId": "14641465521399406540"
     },
     "user_tz": 420
    },
    "id": "QaqBYReyzBgr",
    "outputId": "ab0da762-f112-4a0a-c18c-8e272a26f8bd"
   },
   "outputs": [
    {
     "data": {
      "text/plain": [
       "<tf.Variable 'dense/kernel:0' shape=(9, 16) dtype=float32, numpy=\n",
       "array([[-0.169, -0.633,  0.2  ,  0.479,  0.373,  0.156,  0.06 , -0.092,\n",
       "        -0.431,  0.241,  0.099,  0.306,  0.187, -0.189, -0.36 , -0.223],\n",
       "       [ 0.041,  0.289, -0.122, -0.365,  0.061,  0.108,  0.004,  0.123,\n",
       "         0.022, -0.19 , -0.069,  0.453, -0.279, -0.224, -0.462,  0.476],\n",
       "       [-0.082, -0.433,  0.157,  0.073,  0.001,  0.341,  0.274,  0.426,\n",
       "         0.381, -0.554, -0.399,  0.384, -0.102, -0.083,  0.408,  0.223],\n",
       "       [-0.426,  0.131,  0.044, -0.075,  0.211, -0.259, -0.337, -0.196,\n",
       "        -0.309,  0.227,  0.086, -0.44 , -0.074, -0.419, -0.158, -0.175],\n",
       "       [-0.063, -0.203,  0.4  , -0.081, -0.242,  0.082, -0.446, -0.203,\n",
       "        -0.465,  0.647,  0.474, -0.423, -0.048, -0.079, -0.052, -0.166],\n",
       "       [-0.037,  0.114, -0.269,  0.268,  0.109,  0.083,  0.327, -0.166,\n",
       "        -0.346,  0.537,  0.394,  0.282,  0.249,  0.116, -0.468, -0.352],\n",
       "       [ 0.443, -0.419,  0.574,  0.08 , -1.651, -0.394,  0.347, -0.325,\n",
       "         0.088,  0.422,  0.949,  0.146, -0.549,  0.208, -0.082, -0.012],\n",
       "       [ 0.32 ,  0.454,  1.07 ,  0.286, -2.042, -0.168, -0.449,  0.445,\n",
       "         0.097,  1.375,  1.061, -0.411, -0.597, -0.2  ,  0.07 , -0.481],\n",
       "       [ 0.04 ,  0.186, -0.074, -0.441,  0.57 ,  0.188, -0.36 ,  0.294,\n",
       "        -0.461, -0.757,  0.093, -0.399,  0.138,  0.015, -0.266,  0.331]],\n",
       "      dtype=float32)>"
      ]
     },
     "execution_count": 22,
     "metadata": {},
     "output_type": "execute_result"
    }
   ],
   "source": [
    "linear_model.layers[0].kernel"
   ]
  },
  {
   "cell_type": "markdown",
   "metadata": {
    "id": "CSkanJlmmFBX"
   },
   "source": [
    "4. Once the model is built, configure the training procedure using the Keras `Model.compile` method. The most important arguments to compile are the `loss` and the `optimizer`, since these define what will be optimized and how (using the `tf.keras.optimizers.Adam`).\n",
    "\n",
    "  Here's a list of built-in loss functions in [`tf.keras.losses`](https://www.tensorflow.org/api_docs/python/tf/keras/losses). For regression tasks, [common loss functions](https://towardsdatascience.com/understanding-the-3-most-common-loss-functions-for-machine-learning-regression-23e0ef3e14d3) include mean squared error (MSE) and mean absolute error (MAE). Here,  MAE is preferred such that the model is more robust against outliers. \n",
    "\n",
    "  For optimizers, gradient descent (check this video [Gradient Descent, Step-by-Step](https://www.youtube.com/watch?v=sDv4f4s2SB8) for a refresher) is the preferred way to optimize neural networks and many other machine learning algorithms. Read [an overview of graident descent optimizer algorithms](https://ruder.io/optimizing-gradient-descent/) for several popular gradient descent algorithms. Here, we use the popular [`tf.keras.optimizers.Adam`](https://www.tensorflow.org/api_docs/python/tf/keras/optimizers/Adam), and set the learning rate at 0.1 for faster learning.  "
   ]
  },
  {
   "cell_type": "code",
   "execution_count": 31,
   "metadata": {
    "executionInfo": {
     "elapsed": 3,
     "status": "ok",
     "timestamp": 1663627905652,
     "user": {
      "displayName": "FLORA XU",
      "userId": "14641465521399406540"
     },
     "user_tz": 420
    },
    "id": "JxA_3lpOm-SK"
   },
   "outputs": [],
   "source": [
    "from tensorflow.keras.optimizers import Adam\n",
    "\n",
    "linear_model.compile(optimizer=Adam(learning_rate=0.1), loss='mae')\n"
   ]
  },
  {
   "cell_type": "markdown",
   "metadata": {
    "id": "Z3q1I9TwnRSC"
   },
   "source": [
    "5. Use Keras `Model.fit` to execute the training for 100 epochs, set the verbose to 0 to suppress logging and keep 20% of the data for validation:"
   ]
  },
  {
   "cell_type": "code",
   "execution_count": 32,
   "metadata": {
    "colab": {
     "base_uri": "https://localhost:8080/"
    },
    "executionInfo": {
     "elapsed": 23883,
     "status": "ok",
     "timestamp": 1663627929533,
     "user": {
      "displayName": "FLORA XU",
      "userId": "14641465521399406540"
     },
     "user_tz": 420
    },
    "id": "-iSrNy59nRAp",
    "outputId": "8c627877-e550-4169-ab38-4e411bdd8eea"
   },
   "outputs": [
    {
     "name": "stderr",
     "output_type": "stream",
     "text": [
      "2023/02/02 19:55:59 INFO mlflow.utils.autologging_utils: Created MLflow autologging run with ID '039f0575fda24e99924c6929f35cbb28', which will track hyperparameters, performance metrics, model artifacts, and lineage information for the current tensorflow workflow\n",
      "2023/02/02 19:56:04 WARNING mlflow.tensorflow: Failed to infer model signature: could not sample data to infer model signature: Cannot log input example or model signature for input with type <class 'pandas.core.frame.DataFrame'>. TensorFlow Keras autologging can only log input examples and model signatures for the following input types: numpy.ndarray, dict[string -> numpy.ndarray], tensorflow.keras.utils.Sequence, and tensorflow.data.Dataset (TensorFlow >= 2.1.0 required)\n",
      "2023/02/02 19:56:04 WARNING mlflow.tensorflow: You are saving a TensorFlow Core model or Keras model without a signature. Inference with mlflow.pyfunc.spark_udf() will not work unless the model's pyfunc representation accepts pandas DataFrames as inference inputs.\n",
      "WARNING:absl:Found untraced functions such as _update_step_xla while saving (showing 1 of 1). These functions will not be directly callable after loading.\n"
     ]
    },
    {
     "name": "stdout",
     "output_type": "stream",
     "text": [
      "INFO:tensorflow:Assets written to: /var/folders/lc/0q_5vmf5385c78mr7v2ntch00000gn/T/tmpm46113by/model/data/model/assets\n"
     ]
    },
    {
     "name": "stderr",
     "output_type": "stream",
     "text": [
      "INFO:tensorflow:Assets written to: /var/folders/lc/0q_5vmf5385c78mr7v2ntch00000gn/T/tmpm46113by/model/data/model/assets\n"
     ]
    },
    {
     "name": "stdout",
     "output_type": "stream",
     "text": [
      "CPU times: user 4.86 s, sys: 505 ms, total: 5.37 s\n",
      "Wall time: 12.9 s\n"
     ]
    }
   ],
   "source": [
    "%%time\n",
    "history = linear_model.fit(train_features, train_labels, epochs=100, verbose=0, validation_split=0.2)"
   ]
  },
  {
   "cell_type": "markdown",
   "metadata": {
    "id": "tQm3pc0FYPQB"
   },
   "source": [
    "6. Visualize the model's training progress using the stats stored in the `history` object:"
   ]
  },
  {
   "cell_type": "code",
   "execution_count": 33,
   "metadata": {
    "colab": {
     "base_uri": "https://localhost:8080/",
     "height": 201
    },
    "executionInfo": {
     "elapsed": 9,
     "status": "ok",
     "timestamp": 1663627929533,
     "user": {
      "displayName": "FLORA XU",
      "userId": "14641465521399406540"
     },
     "user_tz": 420
    },
    "id": "YCAwD_y4AdC3",
    "outputId": "a246154a-c09b-488c-84b9-465b3fd09525"
   },
   "outputs": [
    {
     "data": {
      "text/html": [
       "<div>\n",
       "<style scoped>\n",
       "    .dataframe tbody tr th:only-of-type {\n",
       "        vertical-align: middle;\n",
       "    }\n",
       "\n",
       "    .dataframe tbody tr th {\n",
       "        vertical-align: top;\n",
       "    }\n",
       "\n",
       "    .dataframe thead th {\n",
       "        text-align: right;\n",
       "    }\n",
       "</style>\n",
       "<table border=\"1\" class=\"dataframe\">\n",
       "  <thead>\n",
       "    <tr style=\"text-align: right;\">\n",
       "      <th></th>\n",
       "      <th>loss</th>\n",
       "      <th>val_loss</th>\n",
       "      <th>epoch</th>\n",
       "    </tr>\n",
       "  </thead>\n",
       "  <tbody>\n",
       "    <tr>\n",
       "      <th>95</th>\n",
       "      <td>3.801910</td>\n",
       "      <td>2.510514</td>\n",
       "      <td>95</td>\n",
       "    </tr>\n",
       "    <tr>\n",
       "      <th>96</th>\n",
       "      <td>3.490447</td>\n",
       "      <td>2.482130</td>\n",
       "      <td>96</td>\n",
       "    </tr>\n",
       "    <tr>\n",
       "      <th>97</th>\n",
       "      <td>3.753365</td>\n",
       "      <td>5.837827</td>\n",
       "      <td>97</td>\n",
       "    </tr>\n",
       "    <tr>\n",
       "      <th>98</th>\n",
       "      <td>3.765304</td>\n",
       "      <td>2.873043</td>\n",
       "      <td>98</td>\n",
       "    </tr>\n",
       "    <tr>\n",
       "      <th>99</th>\n",
       "      <td>3.290107</td>\n",
       "      <td>2.503862</td>\n",
       "      <td>99</td>\n",
       "    </tr>\n",
       "  </tbody>\n",
       "</table>\n",
       "</div>"
      ],
      "text/plain": [
       "        loss  val_loss  epoch\n",
       "95  3.801910  2.510514     95\n",
       "96  3.490447  2.482130     96\n",
       "97  3.753365  5.837827     97\n",
       "98  3.765304  2.873043     98\n",
       "99  3.290107  2.503862     99"
      ]
     },
     "execution_count": 33,
     "metadata": {},
     "output_type": "execute_result"
    }
   ],
   "source": [
    "hist = pd.DataFrame(history.history)\n",
    "hist['epoch'] = history.epoch\n",
    "hist.tail()"
   ]
  },
  {
   "cell_type": "code",
   "execution_count": 34,
   "metadata": {
    "executionInfo": {
     "elapsed": 6,
     "status": "ok",
     "timestamp": 1663627929534,
     "user": {
      "displayName": "FLORA XU",
      "userId": "14641465521399406540"
     },
     "user_tz": 420
    },
    "id": "9E54UoZunqhc"
   },
   "outputs": [],
   "source": [
    "def plot_loss(history):\n",
    "    plt.plot(history.history['loss'], label='loss')\n",
    "    plt.plot(history.history['val_loss'], label='val_loss')\n",
    "    plt.ylim([0, 10])\n",
    "    plt.xlabel('Epoch')\n",
    "    plt.ylabel('Error [MPG]')\n",
    "    plt.legend()\n",
    "    plt.grid(True)\n",
    "    plt.show()  "
   ]
  },
  {
   "cell_type": "markdown",
   "metadata": {
    "id": "fk81ixIgFcEU"
   },
   "source": [
    "Use `plot_loss(history)` provided to visualize the progression in loss function for training and validation data sets. "
   ]
  },
  {
   "cell_type": "code",
   "execution_count": 35,
   "metadata": {
    "colab": {
     "base_uri": "https://localhost:8080/",
     "height": 283
    },
    "executionInfo": {
     "elapsed": 243,
     "status": "ok",
     "timestamp": 1663627929772,
     "user": {
      "displayName": "FLORA XU",
      "userId": "14641465521399406540"
     },
     "user_tz": 420
    },
    "id": "yYsQYrIZyqjz",
    "outputId": "c0c491bb-1b3f-411b-b4dc-8db939104824"
   },
   "outputs": [
    {
     "data": {
      "image/png": "[encoded data removed]",
      "text/plain": [
       "<Figure size 640x480 with 1 Axes>"
      ]
     },
     "metadata": {},
     "output_type": "display_data"
    }
   ],
   "source": [
    "import matplotlib.pyplot as plt\n",
    "plot_loss(history)"
   ]
  },
  {
   "cell_type": "markdown",
   "metadata": {
    "id": "CMNrt8X2ebXd"
   },
   "source": [
    "7. Collect the results on the test set for later using [`Model.evaluate()`](https://www.tensorflow.org/api_docs/python/tf/keras/Model#evaluate)"
   ]
  },
  {
   "cell_type": "code",
   "execution_count": 36,
   "metadata": {
    "executionInfo": {
     "elapsed": 166,
     "status": "ok",
     "timestamp": 1663627929935,
     "user": {
      "displayName": "FLORA XU",
      "userId": "14641465521399406540"
     },
     "user_tz": 420
    },
    "id": "kDZ8EvNYrDtx"
   },
   "outputs": [],
   "source": [
    "test_results = {}\n",
    "\n",
    "test_results['linear_model'] = linear_model.evaluate(test_features, test_labels, verbose=0)\n"
   ]
  },
  {
   "cell_type": "code",
   "execution_count": 37,
   "metadata": {},
   "outputs": [
    {
     "data": {
      "text/plain": [
       "{'linear_model': 2.697901487350464}"
      ]
     },
     "execution_count": 37,
     "metadata": {},
     "output_type": "execute_result"
    }
   ],
   "source": [
    "test_results"
   ]
  },
  {
   "cell_type": "code",
   "execution_count": 38,
   "metadata": {},
   "outputs": [
    {
     "name": "stdout",
     "output_type": "stream",
     "text": [
      "3/3 [==============================] - 0s 2ms/step - loss: 2.6979\n",
      "Test Accuracy: 2.697901487350464\n"
     ]
    }
   ],
   "source": [
    "test_acc = linear_model.evaluate(test_features, test_labels)\n",
    "print(f'Test Accuracy: {test_acc}')\n"
   ]
  },
  {
   "cell_type": "code",
   "execution_count": 50,
   "metadata": {
    "colab": {
     "base_uri": "https://localhost:8080/"
    },
    "executionInfo": {
     "elapsed": 4,
     "status": "ok",
     "timestamp": 1663627929935,
     "user": {
      "displayName": "FLORA XU",
      "userId": "14641465521399406540"
     },
     "user_tz": 420
    },
    "id": "eh0trI_zGCT1",
    "outputId": "6b6586a7-8cbd-40cf-f223-3b0cc82a60b6"
   },
   "outputs": [
    {
     "data": {
      "text/plain": [
       "{'linear_model': 2.8973145484924316}"
      ]
     },
     "execution_count": 50,
     "metadata": {},
     "output_type": "execute_result"
    }
   ],
   "source": [
    "test_results"
   ]
  },
  {
   "cell_type": "markdown",
   "metadata": {
    "id": "SmjdzxKzEu1-"
   },
   "source": [
    "# Task 4 - Regression with a Deep Neural Network (DNN)"
   ]
  },
  {
   "cell_type": "markdown",
   "metadata": {
    "id": "DT_aHPsrzO1t"
   },
   "source": [
    "You just implemented a linear model for multiple inputs. Now, you are ready to implement multiple-input DNN models.\n",
    "\n",
    "The code is very similar except the model is expanded to include some \"hidden\" **non-linear** layers. The name \"hidden\" here just means not directly connected to the inputs or outputs."
   ]
  },
  {
   "cell_type": "markdown",
   "metadata": {
    "id": "6SWtkIjhrZwa"
   },
   "source": [
    "* The normalization layer, as before (with `normalizer` for a multiple-input model).\n",
    "* Two hidden, non-linear, [`Dense`](https://www.tensorflow.org/api_docs/python/tf/keras/layers/Dense) layers with the ReLU (`relu`) activation function nonlinearity. One way is to set parameter `activation` inside `Dense` Set the number of neurons at each layer to be 64. \n",
    "* A linear `Dense` single-output layer. "
   ]
  },
  {
   "cell_type": "markdown",
   "metadata": {
    "id": "CQ6btF_xJPpW"
   },
   "source": [
    "\n",
    "\n",
    "1. Include the model and `compile` method in the `build_and_compile_model` function below. "
   ]
  },
  {
   "cell_type": "code",
   "execution_count": 40,
   "metadata": {
    "executionInfo": {
     "elapsed": 3,
     "status": "ok",
     "timestamp": 1663627929935,
     "user": {
      "displayName": "FLORA XU",
      "userId": "14641465521399406540"
     },
     "user_tz": 420
    },
    "id": "c26juK7ZG8j-"
   },
   "outputs": [],
   "source": [
    "def build_and_compile_model(norm):\n",
    "    model = tf.keras.Sequential([\n",
    "        norm,\n",
    "        tf.keras.layers.Dense(units=16, activation='relu'),\n",
    "        tf.keras.layers.Dense(units=1)\n",
    "    ])\n",
    "\n",
    "    model.compile(loss='mean_absolute_error',\n",
    "                optimizer=tf.keras.optimizers.Adam())\n",
    "    return model \n"
   ]
  },
  {
   "attachments": {},
   "cell_type": "markdown",
   "metadata": {
    "id": "xvu9gtxTZR5V"
   },
   "source": [
    "2. Create a DNN model with `normalizer` (defined earlier) as the normalization layer:\n"
   ]
  },
  {
   "cell_type": "code",
   "execution_count": 41,
   "metadata": {
    "executionInfo": {
     "elapsed": 2,
     "status": "ok",
     "timestamp": 1663627929935,
     "user": {
      "displayName": "FLORA XU",
      "userId": "14641465521399406540"
     },
     "user_tz": 420
    },
    "id": "cGbPb-PHGbhs"
   },
   "outputs": [],
   "source": [
    "dnn_model = build_and_compile_model(norm = normalizer)\n"
   ]
  },
  {
   "cell_type": "markdown",
   "metadata": {
    "id": "Sj49Og4YGULr"
   },
   "source": [
    "3. Inspect the model using `Model.summary()`. This model has quite a few more trainable parameters than the linear models:"
   ]
  },
  {
   "cell_type": "code",
   "execution_count": 42,
   "metadata": {
    "colab": {
     "base_uri": "https://localhost:8080/"
    },
    "executionInfo": {
     "elapsed": 15,
     "status": "ok",
     "timestamp": 1663627930137,
     "user": {
      "displayName": "FLORA XU",
      "userId": "14641465521399406540"
     },
     "user_tz": 420
    },
    "id": "ReAD0n6MsFK-",
    "outputId": "0bea914c-646a-404e-8f02-a691f300c700"
   },
   "outputs": [
    {
     "name": "stdout",
     "output_type": "stream",
     "text": [
      "Model: \"sequential_2\"\n",
      "_________________________________________________________________\n",
      " Layer (type)                Output Shape              Param #   \n",
      "=================================================================\n",
      " normalization_1 (Normalizat  (None, 9)                19        \n",
      " ion)                                                            \n",
      "                                                                 \n",
      " dense_4 (Dense)             (None, 16)                160       \n",
      "                                                                 \n",
      " dense_5 (Dense)             (None, 1)                 17        \n",
      "                                                                 \n",
      "=================================================================\n",
      "Total params: 196\n",
      "Trainable params: 177\n",
      "Non-trainable params: 19\n",
      "_________________________________________________________________\n"
     ]
    }
   ],
   "source": [
    "dnn_model.summary()"
   ]
  },
  {
   "cell_type": "markdown",
   "metadata": {
    "id": "0-qWCsh6DlyH"
   },
   "source": [
    "4. Train the model with Keras `Model.fit`:"
   ]
  },
  {
   "cell_type": "code",
   "execution_count": 43,
   "metadata": {
    "colab": {
     "base_uri": "https://localhost:8080/"
    },
    "executionInfo": {
     "elapsed": 13581,
     "status": "ok",
     "timestamp": 1663627943707,
     "user": {
      "displayName": "FLORA XU",
      "userId": "14641465521399406540"
     },
     "user_tz": 420
    },
    "id": "sD7qHCmNIOY0",
    "outputId": "c873375a-b7bc-4054-e7f4-2e2a87b288ca"
   },
   "outputs": [
    {
     "name": "stderr",
     "output_type": "stream",
     "text": [
      "2023/02/02 19:56:52 INFO mlflow.utils.autologging_utils: Created MLflow autologging run with ID 'd3b89e701723481e924f0f4759228576', which will track hyperparameters, performance metrics, model artifacts, and lineage information for the current tensorflow workflow\n",
      "2023/02/02 19:56:56 WARNING mlflow.tensorflow: Failed to infer model signature: could not sample data to infer model signature: Cannot log input example or model signature for input with type <class 'pandas.core.frame.DataFrame'>. TensorFlow Keras autologging can only log input examples and model signatures for the following input types: numpy.ndarray, dict[string -> numpy.ndarray], tensorflow.keras.utils.Sequence, and tensorflow.data.Dataset (TensorFlow >= 2.1.0 required)\n",
      "2023/02/02 19:56:56 WARNING mlflow.tensorflow: You are saving a TensorFlow Core model or Keras model without a signature. Inference with mlflow.pyfunc.spark_udf() will not work unless the model's pyfunc representation accepts pandas DataFrames as inference inputs.\n",
      "WARNING:absl:Found untraced functions such as _update_step_xla while saving (showing 1 of 1). These functions will not be directly callable after loading.\n"
     ]
    },
    {
     "name": "stdout",
     "output_type": "stream",
     "text": [
      "INFO:tensorflow:Assets written to: /var/folders/lc/0q_5vmf5385c78mr7v2ntch00000gn/T/tmplybc1x9g/model/data/model/assets\n"
     ]
    },
    {
     "name": "stderr",
     "output_type": "stream",
     "text": [
      "INFO:tensorflow:Assets written to: /var/folders/lc/0q_5vmf5385c78mr7v2ntch00000gn/T/tmplybc1x9g/model/data/model/assets\n"
     ]
    },
    {
     "name": "stdout",
     "output_type": "stream",
     "text": [
      "CPU times: user 5.14 s, sys: 794 ms, total: 5.94 s\n",
      "Wall time: 13.3 s\n"
     ]
    }
   ],
   "source": [
    "%%time\n",
    "history = dnn_model.fit(\n",
    "    train_features,\n",
    "    train_labels,\n",
    "    validation_split=0.2,\n",
    "    verbose=0, epochs=100)"
   ]
  },
  {
   "cell_type": "markdown",
   "metadata": {
    "id": "dArGGxHxcKjN"
   },
   "source": [
    "5. Visualize the model's training progress using the stats stored in the history object. "
   ]
  },
  {
   "cell_type": "code",
   "execution_count": 44,
   "metadata": {
    "colab": {
     "base_uri": "https://localhost:8080/",
     "height": 283
    },
    "executionInfo": {
     "elapsed": 260,
     "status": "ok",
     "timestamp": 1663627943959,
     "user": {
      "displayName": "FLORA XU",
      "userId": "14641465521399406540"
     },
     "user_tz": 420
    },
    "id": "NcF6UWjdCU8T",
    "outputId": "874a650c-e034-4ab3-932c-83d17a67288c"
   },
   "outputs": [
    {
     "data": {
      "image/png": "[encoded data removed]",
      "text/plain": [
       "<Figure size 640x480 with 1 Axes>"
      ]
     },
     "metadata": {},
     "output_type": "display_data"
    }
   ],
   "source": [
    "plot_loss(history)"
   ]
  },
  {
   "cell_type": "markdown",
   "metadata": {
    "id": "lRIDHn59LTax"
   },
   "source": [
    "Do you think the DNN model is overfitting? What gives away? \n",
    "\n",
    "    *YOUR ANSWER HERE*"
   ]
  },
  {
   "cell_type": "markdown",
   "metadata": {
    "id": "9dhMN7IUM12Q"
   },
   "source": [
    "6. Let's save the results for later comparison."
   ]
  },
  {
   "cell_type": "code",
   "execution_count": 45,
   "metadata": {
    "executionInfo": {
     "elapsed": 9,
     "status": "ok",
     "timestamp": 1663627943959,
     "user": {
      "displayName": "FLORA XU",
      "userId": "14641465521399406540"
     },
     "user_tz": 420
    },
    "id": "bJjM0dU52XtN"
   },
   "outputs": [],
   "source": [
    "test_results['dnn_model'] = dnn_model.evaluate(test_features, test_labels, verbose=0)"
   ]
  },
  {
   "cell_type": "markdown",
   "metadata": {
    "id": "uiCucdPLfMkZ"
   },
   "source": [
    "# Task 5 - Make Predictions 🔮"
   ]
  },
  {
   "cell_type": "markdown",
   "metadata": {
    "id": "rDf1xebEfWBw"
   },
   "source": [
    "1. Since both models have been trained, we can review their test set performance:"
   ]
  },
  {
   "cell_type": "code",
   "execution_count": 46,
   "metadata": {
    "colab": {
     "base_uri": "https://localhost:8080/",
     "height": 109
    },
    "executionInfo": {
     "elapsed": 9,
     "status": "ok",
     "timestamp": 1663627943960,
     "user": {
      "displayName": "FLORA XU",
      "userId": "14641465521399406540"
     },
     "user_tz": 420
    },
    "id": "e5_ooufM5iH2",
    "outputId": "6979b2fe-dd27-4d67-cb54-d59ac33b2543"
   },
   "outputs": [
    {
     "data": {
      "text/html": [
       "<div>\n",
       "<style scoped>\n",
       "    .dataframe tbody tr th:only-of-type {\n",
       "        vertical-align: middle;\n",
       "    }\n",
       "\n",
       "    .dataframe tbody tr th {\n",
       "        vertical-align: top;\n",
       "    }\n",
       "\n",
       "    .dataframe thead th {\n",
       "        text-align: right;\n",
       "    }\n",
       "</style>\n",
       "<table border=\"1\" class=\"dataframe\">\n",
       "  <thead>\n",
       "    <tr style=\"text-align: right;\">\n",
       "      <th></th>\n",
       "      <th>Mean absolute error [MPG]</th>\n",
       "    </tr>\n",
       "  </thead>\n",
       "  <tbody>\n",
       "    <tr>\n",
       "      <th>linear_model</th>\n",
       "      <td>2.697901</td>\n",
       "    </tr>\n",
       "    <tr>\n",
       "      <th>dnn_model</th>\n",
       "      <td>6.320277</td>\n",
       "    </tr>\n",
       "  </tbody>\n",
       "</table>\n",
       "</div>"
      ],
      "text/plain": [
       "              Mean absolute error [MPG]\n",
       "linear_model                   2.697901\n",
       "dnn_model                      6.320277"
      ]
     },
     "execution_count": 46,
     "metadata": {},
     "output_type": "execute_result"
    }
   ],
   "source": [
    "pd.DataFrame(test_results, index=['Mean absolute error [MPG]']).T"
   ]
  },
  {
   "cell_type": "markdown",
   "metadata": {
    "id": "DABIVzsCf-QI"
   },
   "source": [
    "These results match the validation error observed during training."
   ]
  },
  {
   "cell_type": "markdown",
   "metadata": {
    "id": "ft603OzXuEZC"
   },
   "source": [
    "2. We can now make predictions with the `dnn_model` on the test set using Keras `Model.predict` and review the loss. Use `.flatten()`."
   ]
  },
  {
   "cell_type": "code",
   "execution_count": 47,
   "metadata": {
    "colab": {
     "base_uri": "https://localhost:8080/",
     "height": 283
    },
    "executionInfo": {
     "elapsed": 395,
     "status": "ok",
     "timestamp": 1663627944348,
     "user": {
      "displayName": "FLORA XU",
      "userId": "14641465521399406540"
     },
     "user_tz": 420
    },
    "id": "Xe7RXH3N3CWU",
    "outputId": "14641962-5806-41a4-f78f-e3113ecb326f"
   },
   "outputs": [
    {
     "name": "stdout",
     "output_type": "stream",
     "text": [
      "3/3 [==============================] - 0s 2ms/step\n",
      "Mean Absolute Error:  tf.Tensor(6.3202767, shape=(), dtype=float32)\n"
     ]
    },
    {
     "data": {
      "image/png": "[encoded data removed]",
      "text/plain": [
       "<Figure size 640x480 with 1 Axes>"
      ]
     },
     "metadata": {},
     "output_type": "display_data"
    }
   ],
   "source": [
    "test_predictions = dnn_model.predict(test_features).flatten()\n",
    "mae = tf.keras.losses.mean_absolute_error(test_labels, test_predictions)\n",
    "print(\"Mean Absolute Error: \", mae)\n",
    "\n",
    "a = plt.axes(aspect='equal')\n",
    "plt.scatter(test_labels, test_predictions)\n",
    "plt.xlabel('True Values [MPG]')\n",
    "plt.ylabel('Predictions [MPG]')\n",
    "lims = [0, 50]\n",
    "plt.xlim(lims)\n",
    "plt.ylim(lims)\n",
    "plt.plot(lims, lims)\n",
    "plt.show()\n"
   ]
  },
  {
   "cell_type": "markdown",
   "metadata": {
    "id": "19wyogbOSU5t"
   },
   "source": [
    "3. It appears that the model predicts reasonably well. Now, check the error distribution:"
   ]
  },
  {
   "cell_type": "code",
   "execution_count": 48,
   "metadata": {
    "colab": {
     "base_uri": "https://localhost:8080/",
     "height": 278
    },
    "executionInfo": {
     "elapsed": 178,
     "status": "ok",
     "timestamp": 1663627944523,
     "user": {
      "displayName": "FLORA XU",
      "userId": "14641465521399406540"
     },
     "user_tz": 420
    },
    "id": "f-OHX4DiXd8x",
    "outputId": "ab0d5339-72a8-4e8c-d48d-4af43a83515c"
   },
   "outputs": [
    {
     "data": {
      "image/png": "[encoded data removed]",
      "text/plain": [
       "<Figure size 640x480 with 1 Axes>"
      ]
     },
     "metadata": {},
     "output_type": "display_data"
    }
   ],
   "source": [
    "error = test_labels - test_predictions.flatten()\n",
    "plt.hist(error, bins=25)\n",
    "plt.xlabel('Prediction Error [MPG]')\n",
    "plt.ylabel('Count')\n",
    "plt.show()"
   ]
  },
  {
   "cell_type": "markdown",
   "metadata": {
    "id": "KSyaHUfDT-mZ"
   },
   "source": [
    "4. Save it for later use with `Model.save`:"
   ]
  },
  {
   "cell_type": "code",
   "execution_count": 49,
   "metadata": {
    "executionInfo": {
     "elapsed": 1155,
     "status": "ok",
     "timestamp": 1663627945675,
     "user": {
      "displayName": "FLORA XU",
      "userId": "14641465521399406540"
     },
     "user_tz": 420
    },
    "id": "4-WwLlmfT-mb"
   },
   "outputs": [
    {
     "name": "stderr",
     "output_type": "stream",
     "text": [
      "WARNING:absl:Found untraced functions such as _update_step_xla while saving (showing 1 of 1). These functions will not be directly callable after loading.\n"
     ]
    },
    {
     "name": "stdout",
     "output_type": "stream",
     "text": [
      "INFO:tensorflow:Assets written to: dnn_model/assets\n"
     ]
    },
    {
     "name": "stderr",
     "output_type": "stream",
     "text": [
      "INFO:tensorflow:Assets written to: dnn_model/assets\n"
     ]
    }
   ],
   "source": [
    "dnn_model.save('dnn_model')"
   ]
  },
  {
   "cell_type": "markdown",
   "metadata": {
    "id": "Benlnl8UT-me"
   },
   "source": [
    "5. Reload the model with `Model.load_model`; it gives identical output:"
   ]
  },
  {
   "cell_type": "code",
   "execution_count": 50,
   "metadata": {
    "executionInfo": {
     "elapsed": 608,
     "status": "ok",
     "timestamp": 1663627946277,
     "user": {
      "displayName": "FLORA XU",
      "userId": "14641465521399406540"
     },
     "user_tz": 420
    },
    "id": "dyyyj2zVT-mf"
   },
   "outputs": [
    {
     "name": "stdout",
     "output_type": "stream",
     "text": [
      "3/3 [==============================] - 0s 2ms/step\n",
      "3/3 [==============================] - 0s 1ms/step\n",
      "3/3 [==============================] - 0s 2ms/step\n",
      "True\n"
     ]
    }
   ],
   "source": [
    "reloaded = tf.keras.models.load_model('dnn_model')\n",
    "test_predictions = reloaded.predict(test_features).flatten()\n",
    "\n",
    "print(np.array_equal(dnn_model.predict(test_features).flatten(), \n",
    "                     reloaded.predict(test_features).flatten())) # True\n",
    "\n",
    "test_results['reloaded'] = reloaded.evaluate(\n",
    "    test_features, test_labels, verbose=0)"
   ]
  },
  {
   "cell_type": "code",
   "execution_count": 51,
   "metadata": {
    "colab": {
     "base_uri": "https://localhost:8080/",
     "height": 140
    },
    "executionInfo": {
     "elapsed": 9,
     "status": "ok",
     "timestamp": 1663627946278,
     "user": {
      "displayName": "FLORA XU",
      "userId": "14641465521399406540"
     },
     "user_tz": 420
    },
    "id": "f_GchJ2tg-2o",
    "outputId": "1173b004-23ab-4104-e789-f2a43e8fae7f"
   },
   "outputs": [
    {
     "data": {
      "text/html": [
       "<div>\n",
       "<style scoped>\n",
       "    .dataframe tbody tr th:only-of-type {\n",
       "        vertical-align: middle;\n",
       "    }\n",
       "\n",
       "    .dataframe tbody tr th {\n",
       "        vertical-align: top;\n",
       "    }\n",
       "\n",
       "    .dataframe thead th {\n",
       "        text-align: right;\n",
       "    }\n",
       "</style>\n",
       "<table border=\"1\" class=\"dataframe\">\n",
       "  <thead>\n",
       "    <tr style=\"text-align: right;\">\n",
       "      <th></th>\n",
       "      <th>Mean absolute error [MPG]</th>\n",
       "    </tr>\n",
       "  </thead>\n",
       "  <tbody>\n",
       "    <tr>\n",
       "      <th>linear_model</th>\n",
       "      <td>2.697901</td>\n",
       "    </tr>\n",
       "    <tr>\n",
       "      <th>dnn_model</th>\n",
       "      <td>6.320277</td>\n",
       "    </tr>\n",
       "    <tr>\n",
       "      <th>reloaded</th>\n",
       "      <td>6.320277</td>\n",
       "    </tr>\n",
       "  </tbody>\n",
       "</table>\n",
       "</div>"
      ],
      "text/plain": [
       "              Mean absolute error [MPG]\n",
       "linear_model                   2.697901\n",
       "dnn_model                      6.320277\n",
       "reloaded                       6.320277"
      ]
     },
     "execution_count": 51,
     "metadata": {},
     "output_type": "execute_result"
    }
   ],
   "source": [
    "pd.DataFrame(test_results, index=['Mean absolute error [MPG]']).T"
   ]
  },
  {
   "cell_type": "markdown",
   "metadata": {
    "id": "jKeDqQVlgEvL"
   },
   "source": [
    "# Task 6 - Nonlinearity"
   ]
  },
  {
   "cell_type": "markdown",
   "metadata": {
    "id": "bi4qB9oDPU4j"
   },
   "source": [
    "We mentioned that the `relu` activation function introduce non-linearity; let's visualize it. Since there are six numerical features and 1 categorical features, it is impossible to plot all the dimensions on a 2D plot; we need to simplify/isolate it. \n",
    "\n",
    "Note: in this task, code is provided; the focus in on understanding. "
   ]
  },
  {
   "cell_type": "markdown",
   "metadata": {
    "id": "0WZj2vEGQwOL"
   },
   "source": [
    "1. We focus on the relationship between feature `Displacement` and target `MPG`. \n",
    "  \n",
    "  To do so, create a new dataset of the same size as `train_features`, but all other features are set at their median values; then set the `Displacement` between 0 and 500. "
   ]
  },
  {
   "cell_type": "code",
   "execution_count": 56,
   "metadata": {
    "executionInfo": {
     "elapsed": 6,
     "status": "ok",
     "timestamp": 1663627946278,
     "user": {
      "displayName": "FLORA XU",
      "userId": "14641465521399406540"
     },
     "user_tz": 420
    },
    "id": "nXcntGZv-CeV"
   },
   "outputs": [],
   "source": [
    "fake = np.outer(np.ones(train_features.shape[0]), train_features.median())\n",
    "fake = pd.DataFrame(fake, columns = train_features.columns)\n",
    "fake.Displacement = np.linspace(0, 500, train_features.shape[0])"
   ]
  },
  {
   "cell_type": "code",
   "execution_count": 65,
   "metadata": {},
   "outputs": [
    {
     "data": {
      "text/html": [
       "<div>\n",
       "<style scoped>\n",
       "    .dataframe tbody tr th:only-of-type {\n",
       "        vertical-align: middle;\n",
       "    }\n",
       "\n",
       "    .dataframe tbody tr th {\n",
       "        vertical-align: top;\n",
       "    }\n",
       "\n",
       "    .dataframe thead th {\n",
       "        text-align: right;\n",
       "    }\n",
       "</style>\n",
       "<table border=\"1\" class=\"dataframe\">\n",
       "  <thead>\n",
       "    <tr style=\"text-align: right;\">\n",
       "      <th></th>\n",
       "      <th>Cylinders</th>\n",
       "      <th>Displacement</th>\n",
       "      <th>Horsepower</th>\n",
       "      <th>Weight</th>\n",
       "      <th>Acceleration</th>\n",
       "      <th>Model Year</th>\n",
       "      <th>Europe</th>\n",
       "      <th>Japan</th>\n",
       "      <th>USA</th>\n",
       "    </tr>\n",
       "  </thead>\n",
       "  <tbody>\n",
       "    <tr>\n",
       "      <th>0</th>\n",
       "      <td>4.0</td>\n",
       "      <td>0.000000</td>\n",
       "      <td>95.0</td>\n",
       "      <td>2830.0</td>\n",
       "      <td>15.5</td>\n",
       "      <td>76.0</td>\n",
       "      <td>0.0</td>\n",
       "      <td>0.0</td>\n",
       "      <td>1.0</td>\n",
       "    </tr>\n",
       "    <tr>\n",
       "      <th>1</th>\n",
       "      <td>4.0</td>\n",
       "      <td>1.602564</td>\n",
       "      <td>95.0</td>\n",
       "      <td>2830.0</td>\n",
       "      <td>15.5</td>\n",
       "      <td>76.0</td>\n",
       "      <td>0.0</td>\n",
       "      <td>0.0</td>\n",
       "      <td>1.0</td>\n",
       "    </tr>\n",
       "    <tr>\n",
       "      <th>2</th>\n",
       "      <td>4.0</td>\n",
       "      <td>3.205128</td>\n",
       "      <td>95.0</td>\n",
       "      <td>2830.0</td>\n",
       "      <td>15.5</td>\n",
       "      <td>76.0</td>\n",
       "      <td>0.0</td>\n",
       "      <td>0.0</td>\n",
       "      <td>1.0</td>\n",
       "    </tr>\n",
       "    <tr>\n",
       "      <th>3</th>\n",
       "      <td>4.0</td>\n",
       "      <td>4.807692</td>\n",
       "      <td>95.0</td>\n",
       "      <td>2830.0</td>\n",
       "      <td>15.5</td>\n",
       "      <td>76.0</td>\n",
       "      <td>0.0</td>\n",
       "      <td>0.0</td>\n",
       "      <td>1.0</td>\n",
       "    </tr>\n",
       "    <tr>\n",
       "      <th>4</th>\n",
       "      <td>4.0</td>\n",
       "      <td>6.410256</td>\n",
       "      <td>95.0</td>\n",
       "      <td>2830.0</td>\n",
       "      <td>15.5</td>\n",
       "      <td>76.0</td>\n",
       "      <td>0.0</td>\n",
       "      <td>0.0</td>\n",
       "      <td>1.0</td>\n",
       "    </tr>\n",
       "    <tr>\n",
       "      <th>...</th>\n",
       "      <td>...</td>\n",
       "      <td>...</td>\n",
       "      <td>...</td>\n",
       "      <td>...</td>\n",
       "      <td>...</td>\n",
       "      <td>...</td>\n",
       "      <td>...</td>\n",
       "      <td>...</td>\n",
       "      <td>...</td>\n",
       "    </tr>\n",
       "    <tr>\n",
       "      <th>308</th>\n",
       "      <td>4.0</td>\n",
       "      <td>493.589744</td>\n",
       "      <td>95.0</td>\n",
       "      <td>2830.0</td>\n",
       "      <td>15.5</td>\n",
       "      <td>76.0</td>\n",
       "      <td>0.0</td>\n",
       "      <td>0.0</td>\n",
       "      <td>1.0</td>\n",
       "    </tr>\n",
       "    <tr>\n",
       "      <th>309</th>\n",
       "      <td>4.0</td>\n",
       "      <td>495.192308</td>\n",
       "      <td>95.0</td>\n",
       "      <td>2830.0</td>\n",
       "      <td>15.5</td>\n",
       "      <td>76.0</td>\n",
       "      <td>0.0</td>\n",
       "      <td>0.0</td>\n",
       "      <td>1.0</td>\n",
       "    </tr>\n",
       "    <tr>\n",
       "      <th>310</th>\n",
       "      <td>4.0</td>\n",
       "      <td>496.794872</td>\n",
       "      <td>95.0</td>\n",
       "      <td>2830.0</td>\n",
       "      <td>15.5</td>\n",
       "      <td>76.0</td>\n",
       "      <td>0.0</td>\n",
       "      <td>0.0</td>\n",
       "      <td>1.0</td>\n",
       "    </tr>\n",
       "    <tr>\n",
       "      <th>311</th>\n",
       "      <td>4.0</td>\n",
       "      <td>498.397436</td>\n",
       "      <td>95.0</td>\n",
       "      <td>2830.0</td>\n",
       "      <td>15.5</td>\n",
       "      <td>76.0</td>\n",
       "      <td>0.0</td>\n",
       "      <td>0.0</td>\n",
       "      <td>1.0</td>\n",
       "    </tr>\n",
       "    <tr>\n",
       "      <th>312</th>\n",
       "      <td>4.0</td>\n",
       "      <td>500.000000</td>\n",
       "      <td>95.0</td>\n",
       "      <td>2830.0</td>\n",
       "      <td>15.5</td>\n",
       "      <td>76.0</td>\n",
       "      <td>0.0</td>\n",
       "      <td>0.0</td>\n",
       "      <td>1.0</td>\n",
       "    </tr>\n",
       "  </tbody>\n",
       "</table>\n",
       "<p>313 rows × 9 columns</p>\n",
       "</div>"
      ],
      "text/plain": [
       "     Cylinders  Displacement  Horsepower  Weight  Acceleration  Model Year  \\\n",
       "0          4.0      0.000000        95.0  2830.0          15.5        76.0   \n",
       "1          4.0      1.602564        95.0  2830.0          15.5        76.0   \n",
       "2          4.0      3.205128        95.0  2830.0          15.5        76.0   \n",
       "3          4.0      4.807692        95.0  2830.0          15.5        76.0   \n",
       "4          4.0      6.410256        95.0  2830.0          15.5        76.0   \n",
       "..         ...           ...         ...     ...           ...         ...   \n",
       "308        4.0    493.589744        95.0  2830.0          15.5        76.0   \n",
       "309        4.0    495.192308        95.0  2830.0          15.5        76.0   \n",
       "310        4.0    496.794872        95.0  2830.0          15.5        76.0   \n",
       "311        4.0    498.397436        95.0  2830.0          15.5        76.0   \n",
       "312        4.0    500.000000        95.0  2830.0          15.5        76.0   \n",
       "\n",
       "     Europe  Japan  USA  \n",
       "0       0.0    0.0  1.0  \n",
       "1       0.0    0.0  1.0  \n",
       "2       0.0    0.0  1.0  \n",
       "3       0.0    0.0  1.0  \n",
       "4       0.0    0.0  1.0  \n",
       "..      ...    ...  ...  \n",
       "308     0.0    0.0  1.0  \n",
       "309     0.0    0.0  1.0  \n",
       "310     0.0    0.0  1.0  \n",
       "311     0.0    0.0  1.0  \n",
       "312     0.0    0.0  1.0  \n",
       "\n",
       "[313 rows x 9 columns]"
      ]
     },
     "execution_count": 65,
     "metadata": {},
     "output_type": "execute_result"
    }
   ],
   "source": [
    "fake"
   ]
  },
  {
   "cell_type": "markdown",
   "metadata": {
    "id": "zwYXI7n1VIF3"
   },
   "source": [
    "2. Create a plotting function to:\n",
    "\n",
    "    a) visualize real values between `Displacement` and `MPG` from the training dataset in scatter plot \n",
    "    \n",
    "    b) overlay the predicted MPG from Displacement varying from 0 to 500, but holding all other features constant. "
   ]
  },
  {
   "cell_type": "code",
   "execution_count": 61,
   "metadata": {
    "executionInfo": {
     "elapsed": 5,
     "status": "ok",
     "timestamp": 1663627946278,
     "user": {
      "displayName": "FLORA XU",
      "userId": "14641465521399406540"
     },
     "user_tz": 420
    },
    "id": "zXDFyU4v-mak"
   },
   "outputs": [],
   "source": [
    "def plot_displacement(x, y):\n",
    "    plt.scatter(train_features['Displacement'], train_labels, label='Data')\n",
    "    plt.plot(x, y, color='k', label='Predictions')\n",
    "    plt.xlabel('Displacement')\n",
    "    plt.ylabel('MPG')\n",
    "    plt.legend()\n",
    "    plt.show()"
   ]
  },
  {
   "cell_type": "markdown",
   "metadata": {
    "id": "nLXZ7QsmVl_i"
   },
   "source": [
    "3. Visualize predicted MPG using the linear model."
   ]
  },
  {
   "cell_type": "code",
   "execution_count": 68,
   "metadata": {
    "colab": {
     "base_uri": "https://localhost:8080/",
     "height": 278
    },
    "executionInfo": {
     "elapsed": 322,
     "status": "ok",
     "timestamp": 1663627946595,
     "user": {
      "displayName": "FLORA XU",
      "userId": "14641465521399406540"
     },
     "user_tz": 420
    },
    "id": "Q0M1mhutB9YQ",
    "outputId": "0c4bc7f0-bdc0-45a8-bd4e-9fc7bfdd9d31"
   },
   "outputs": [
    {
     "data": {
      "image/png": "[encoded data removed]",
      "text/plain": [
       "<Figure size 640x480 with 1 Axes>"
      ]
     },
     "metadata": {},
     "output_type": "display_data"
    }
   ],
   "source": [
    "plot_displacement(fake.Displacement.values, linear_model(fake.values)) "
   ]
  },
  {
   "cell_type": "markdown",
   "metadata": {
    "id": "S6Iw161_VvsP"
   },
   "source": [
    "4. Visualize predicted MPG using the neural network model. Do you see an improvement/non-linearity from the linear model? "
   ]
  },
  {
   "cell_type": "code",
   "execution_count": 69,
   "metadata": {
    "colab": {
     "base_uri": "https://localhost:8080/",
     "height": 278
    },
    "executionInfo": {
     "elapsed": 363,
     "status": "ok",
     "timestamp": 1663627946953,
     "user": {
      "displayName": "FLORA XU",
      "userId": "14641465521399406540"
     },
     "user_tz": 420
    },
    "id": "fXe9lxlvBWbk",
    "outputId": "beb9db1d-4302-44bc-bb9c-f006730cc556"
   },
   "outputs": [
    {
     "name": "stdout",
     "output_type": "stream",
     "text": [
      "10/10 [==============================] - 0s 1ms/step\n"
     ]
    },
    {
     "data": {
      "image/png": "[encoded data removed]",
      "text/plain": [
       "<Figure size 640x480 with 1 Axes>"
      ]
     },
     "metadata": {},
     "output_type": "display_data"
    }
   ],
   "source": [
    "plot_displacement(fake.Displacement, dnn_model.predict(fake))"
   ]
  },
  {
   "cell_type": "markdown",
   "metadata": {
    "id": "pXWsMH5gR5pE"
   },
   "source": [
    "5. What are the other activation functions? Check the list of [activations](https://www.tensorflow.org/api_docs/python/tf/keras/activations). \n",
    "  \n",
    "  Optional. Modify the DNN model with a different activation function, and fit it on the data; does it perform better? "
   ]
  },
  {
   "cell_type": "markdown",
   "metadata": {
    "id": "vgGQuV-yqYZH"
   },
   "source": [
    "6. Overfitting is a common problem for DNN models, how should we deal with it? Check [Regularizers](https://www.tensorflow.org/api_docs/python/tf/keras/regularizers) on tf.keras. Any other techiniques that are invented for neural networks?"
   ]
  },
  {
   "cell_type": "markdown",
   "metadata": {
    "id": "iP8i8p3HrfdN"
   },
   "source": [
    "# Task 7 - MLflow Tracking"
   ]
  },
  {
   "cell_type": "markdown",
   "metadata": {
    "id": "saYwy3qTv7Sm"
   },
   "source": [
    "In this task, we briefly explore [MLflow Tracking](https://www.mlflow.org/docs/latest/tracking.html#tracking), one of four primary functions that MLflow offers for managing the end-to-end machine learning lifecycle. We will access the information runs programmatically in python and then set up the MLflow UI for easy interaction."
   ]
  },
  {
   "cell_type": "markdown",
   "metadata": {
    "id": "85HHzfclv6hp"
   },
   "source": [
    "1. Experiments.\n",
    "\n",
    "    MLflow Tracking is organized around the concept of `runs`, which are executions of some piece of modeling code; and runs are organized into experiments. \n",
    "\n",
    "    We set the auto logging in the beginning, we can verify that\n",
    "    - there is one experiment\n",
    "    - its name is `0`\n",
    "    - all of its artifacts are stored at `file:///content/mlruns/0` in Google Drive."
   ]
  },
  {
   "cell_type": "code",
   "execution_count": 11,
   "metadata": {},
   "outputs": [
    {
     "name": "stdout",
     "output_type": "stream",
     "text": [
      "Experiment: 0 Default\n"
     ]
    }
   ],
   "source": [
    "import mlflow\n",
    "\n",
    "client = mlflow.tracking.MlflowClient()\n",
    "experiments = client.list_experiments()\n",
    "for experiment in experiments:\n",
    "    print(\"Experiment:\", experiment.experiment_id, experiment.name)\n"
   ]
  },
  {
   "cell_type": "markdown",
   "metadata": {
    "id": "hU5LVdyi8W1F"
   },
   "source": [
    "2. Runs. \n",
    "\n",
    "   List information for runs that are under experiment '0' using [`mlflow.list_run_infos()`](https://www.mlflow.org/docs/latest/python_api/mlflow.html#mlflow.list_run_infos)."
   ]
  },
  {
   "cell_type": "code",
   "execution_count": 12,
   "metadata": {
    "colab": {
     "base_uri": "https://localhost:8080/"
    },
    "executionInfo": {
     "elapsed": 14,
     "status": "ok",
     "timestamp": 1663627946954,
     "user": {
      "displayName": "FLORA XU",
      "userId": "14641465521399406540"
     },
     "user_tz": 420
    },
    "id": "fjHYHCZSpd_Y",
    "outputId": "f640dce4-ac67-4aba-94b9-f07888823678"
   },
   "outputs": [
    {
     "name": "stdout",
     "output_type": "stream",
     "text": [
      "Run: d3b89e701723481e924f0f4759228576 FINISHED\n",
      "Run: 039f0575fda24e99924c6929f35cbb28 FINISHED\n",
      "Run: d0bb5ac631ac451f9f4430b01899c26c FINISHED\n",
      "Run: 508979e0978b4189809c6c9ea26a4f01 FINISHED\n",
      "Run: cba88d2de3974b2bb7b650e3c81fd32d FINISHED\n",
      "Run: b5deba0f177c4d88928355a5a1df7415 FINISHED\n",
      "Run: e3c6632419b84750b6b4adda905311ed FINISHED\n",
      "Run: 3347a63be4054fae88c9c7cc5c8bc27b FINISHED\n",
      "Run: 04c2680cb1aa496dbccbb5c015584c73 FINISHED\n",
      "Run: 91797dbbd7224625936dd5e79c39c9c5 FINISHED\n",
      "Run: 936e6e2437004e7d81b60ecf2ff104c0 FINISHED\n",
      "Run: 9f3d0f3eb31b439bad040c9c2976c84b FINISHED\n",
      "Run: a9981442bd3b4c47aa5c7bff6b34eecd FINISHED\n",
      "Run: 5eff61cdc7d84d838179aaa1119c0fc7 FINISHED\n",
      "Run: b057d04fce494549a43252bbfa9c4145 FINISHED\n",
      "Run: 0bdfb0a6f025423fb03053464cab8c85 FINISHED\n"
     ]
    }
   ],
   "source": [
    "# YOUR CODE HERE\n",
    "import mlflow\n",
    "\n",
    "client = mlflow.tracking.MlflowClient()\n",
    "runs = client.list_run_infos(experiment.experiment_id)\n",
    "for run in runs:\n",
    "    print(\"Run:\", run.run_id, run.status)\n"
   ]
  },
  {
   "cell_type": "markdown",
   "metadata": {
    "id": "l74ail7H8W1F"
   },
   "source": [
    "3. Retrieve the currently active run, i.e., the DNN model. Hint: `mlflow.last_active_run()` "
   ]
  },
  {
   "cell_type": "code",
   "execution_count": 15,
   "metadata": {},
   "outputs": [
    {
     "ename": "AttributeError",
     "evalue": "module 'mlflow' has no attribute 'last_active_run'",
     "output_type": "error",
     "traceback": [
      "\u001b[0;31m---------------------------------------------------------------------------\u001b[0m",
      "\u001b[0;31mAttributeError\u001b[0m                            Traceback (most recent call last)",
      "\u001b[1;32m/Users/toyosibamidele/Desktop/FourthBrainMLELocal/FourthBrainMLE/assignments/week-07-intro-dl/nb/fuel_efficiency.ipynb Cell 113\u001b[0m in \u001b[0;36m<cell line: 3>\u001b[0;34m()\u001b[0m\n\u001b[1;32m      <a href='vscode-notebook-cell:/Users/toyosibamidele/Desktop/FourthBrainMLELocal/FourthBrainMLE/assignments/week-07-intro-dl/nb/fuel_efficiency.ipynb#Y305sZmlsZQ%3D%3D?line=0'>1</a>\u001b[0m \u001b[39mimport\u001b[39;00m \u001b[39mmlflow\u001b[39;00m\n\u001b[0;32m----> <a href='vscode-notebook-cell:/Users/toyosibamidele/Desktop/FourthBrainMLELocal/FourthBrainMLE/assignments/week-07-intro-dl/nb/fuel_efficiency.ipynb#Y305sZmlsZQ%3D%3D?line=2'>3</a>\u001b[0m mlflow\u001b[39m.\u001b[39;49mlast_active_run()\n",
      "\u001b[0;31mAttributeError\u001b[0m: module 'mlflow' has no attribute 'last_active_run'"
     ]
    }
   ],
   "source": [
    "import mlflow\n",
    "\n",
    "mlflow.last_active_run()\n"
   ]
  },
  {
   "cell_type": "code",
   "execution_count": null,
   "metadata": {
    "executionInfo": {
     "elapsed": 266,
     "status": "ok",
     "timestamp": 1663627947216,
     "user": {
      "displayName": "FLORA XU",
      "userId": "14641465521399406540"
     },
     "user_tz": 420
    },
    "id": "25LDySIXetDJ"
   },
   "outputs": [],
   "source": [
    "autolog_run = None # YOUR CODE HERE #not running on local"
   ]
  },
  {
   "cell_type": "markdown",
   "metadata": {
    "id": "lNbi3mfZ8W1G"
   },
   "source": [
    "4. Use function `print_auto_logged_info` provided below to fetch the auto logged parameters and metrics for `autolog_run`. "
   ]
  },
  {
   "cell_type": "code",
   "execution_count": null,
   "metadata": {
    "code_folding": [
     1
    ],
    "executionInfo": {
     "elapsed": 25,
     "status": "ok",
     "timestamp": 1663627947217,
     "user": {
      "displayName": "FLORA XU",
      "userId": "14641465521399406540"
     },
     "user_tz": 420
    },
    "id": "tejN3IaiqzNn"
   },
   "outputs": [],
   "source": [
    "import json\n",
    "def print_auto_logged_info(r):\n",
    "    tags = {k: v for k, v in r.data.tags.items() if not k.startswith(\"mlflow.\")}\n",
    "    artifacts = [f.path for f in MlflowClient().list_artifacts(r.info.run_id, \"model\")]\n",
    "    print(\"run_id: {}\".format(r.info.run_id))\n",
    "    print(\"artifacts: {}\".format(artifacts))\n",
    "    print(\"params: {}\".format(json.dumps(r.data.params, indent=4)))\n",
    "    print(\"metrics: {}\".format(r.data.metrics))\n",
    "    print(\"tags: {}\".format(tags))"
   ]
  },
  {
   "cell_type": "code",
   "execution_count": null,
   "metadata": {
    "colab": {
     "base_uri": "https://localhost:8080/"
    },
    "executionInfo": {
     "elapsed": 24,
     "status": "ok",
     "timestamp": 1663627947217,
     "user": {
      "displayName": "FLORA XU",
      "userId": "14641465521399406540"
     },
     "user_tz": 420
    },
    "id": "pbo72KK3q1KS",
    "outputId": "80d7ae78-d986-4eb9-b239-6e59ef5824f2"
   },
   "outputs": [],
   "source": [
    "print_auto_logged_info(\n",
    "    # YOUR CODE HERE\n",
    "    ) "
   ]
  },
  {
   "cell_type": "markdown",
   "metadata": {
    "id": "9BeuP-WP8W1G"
   },
   "source": [
    "5. Optional. Retrieve the best run using [MlflowClient().search_runs()](https://www.mlflow.org/docs/latest/search-runs.html#python)."
   ]
  },
  {
   "cell_type": "code",
   "execution_count": null,
   "metadata": {
    "executionInfo": {
     "elapsed": 23,
     "status": "ok",
     "timestamp": 1663627947217,
     "user": {
      "displayName": "FLORA XU",
      "userId": "14641465521399406540"
     },
     "user_tz": 420
    },
    "id": "AmIpgSJbsFD8"
   },
   "outputs": [],
   "source": [
    "runs = None # YOUR CODE HERE"
   ]
  },
  {
   "cell_type": "code",
   "execution_count": 87,
   "metadata": {
    "colab": {
     "base_uri": "https://localhost:8080/"
    },
    "executionInfo": {
     "elapsed": 23,
     "status": "ok",
     "timestamp": 1663627947217,
     "user": {
      "displayName": "FLORA XU",
      "userId": "14641465521399406540"
     },
     "user_tz": 420
    },
    "id": "vh1zQTm3s0P5",
    "outputId": "6f722aeb-d1b1-4c7f-e8ca-3a3e3c407521"
   },
   "outputs": [],
   "source": [
    "runs[0]"
   ]
  },
  {
   "cell_type": "markdown",
   "metadata": {
    "id": "b-EgegmM8W1G"
   },
   "source": [
    "6. To see what's logged in the file system `/content/mlruns/`, click tab `files` in the left sidepanel in Colab. For example, \n",
    "    ```\n",
    "    mlruns\n",
    "    └── 0\n",
    "        ├── 3a5aebdd35ef46fb8dc35b40e542f0a4\n",
    "        │   ├── artifacts\n",
    "        │   ├── meta.yaml\n",
    "        │   ├── metrics\n",
    "        │   ├── params\n",
    "        │   └── tags\n",
    "        ├── c627bc526c4a4c418a8285627e61a16d\n",
    "        │   ├── artifacts\n",
    "        │   ├── meta.yaml\n",
    "        │   ├── metrics\n",
    "        │   ├── params\n",
    "        │   └── tags\n",
    "        └── meta.yaml\n",
    "\n",
    "    11 directories, 3 files\n",
    "    ```\n",
    "\n",
    "    Inspect the model summary of the DNN model you ran previously; it is located at `artifacts/model_summary.txt` of the corresponding run. Use `cat $filepath`. "
   ]
  },
  {
   "cell_type": "code",
   "execution_count": null,
   "metadata": {
    "colab": {
     "base_uri": "https://localhost:8080/"
    },
    "executionInfo": {
     "elapsed": 231,
     "status": "ok",
     "timestamp": 1663628162645,
     "user": {
      "displayName": "FLORA XU",
      "userId": "14641465521399406540"
     },
     "user_tz": 420
    },
    "id": "_MQfSU1guWB5",
    "outputId": "acfa04ce-af8f-4381-a1c1-81f8b64511a9"
   },
   "outputs": [],
   "source": [
    "# YOUR CODE HERE (bash)"
   ]
  },
  {
   "cell_type": "markdown",
   "metadata": {
    "id": "dZp8rnL0pBnh"
   },
   "source": [
    "7. Tracking UI. \n",
    "\n",
    "    MLflow provides an UI for us to visualize, search and compare runs, as well as download run artifacts or metadata for analysis in other tools. \n",
    "\n",
    "    If your runs are logged to a local mlruns directory, run `mlflow ui` in the directory above it will load the corresponding runs. \n",
    "    \n",
    "    Running localhost server in Colab, however, requires a bit of extra work:\n",
    "    - set up a free account on [ngrok](https://dashboard.ngrok.com/get-started/setup)\n",
    "    - retrieve the authtoken from https://dashboard.ngrok.com/auth and update the code cell below\n",
    "    \n",
    "   **NOTE**. NEVER share your secrets. Best to keep `NGROK_AUTH_TOKEN` as an environment variable and retrieve it via `os.environ.get(\"NGROK_AUTH_TOKEN\")`."
   ]
  },
  {
   "cell_type": "code",
   "execution_count": null,
   "metadata": {
    "colab": {
     "base_uri": "https://localhost:8080/"
    },
    "executionInfo": {
     "elapsed": 2484,
     "status": "ok",
     "timestamp": 1663627949693,
     "user": {
      "displayName": "FLORA XU",
      "userId": "14641465521399406540"
     },
     "user_tz": 420
    },
    "id": "E0M6y71efq1I",
    "outputId": "d09242f5-d76b-4f63-8758-248cf60f3228"
   },
   "outputs": [],
   "source": [
    "# run tracking UI in the background\n",
    "get_ipython().system_raw(\"mlflow ui --port 5000 &\") \n",
    "\n",
    "# create remote tunnel using ngrok.com to allow local port access\n",
    "from pyngrok import ngrok\n",
    "# Terminate open tunnels if exist\n",
    "ngrok.kill()\n",
    "\n",
    "# Setting the authtoken (see Note above)\n",
    "NGROK_AUTH_TOKEN = \"2EpLAwBPBxY5nlcuUvddGKOumUD_7pfLCJRhe9ku896xysV46\"  # YOUR CODE HERE\n",
    "ngrok.set_auth_token(NGROK_AUTH_TOKEN)\n",
    "\n",
    "# Open an HTTPs tunnel on port 5000 for http://localhost:5000\n",
    "ngrok_tunnel = ngrok.connect(addr=\"5000\", proto=\"http\", bind_tls=True)\n",
    "print(\"MLflow Tracking UI:\", ngrok_tunnel.public_url)"
   ]
  },
  {
   "cell_type": "markdown",
   "metadata": {
    "id": "4_kE6F5t8W1H"
   },
   "source": [
    "8. Interact with Tracking UI. \n",
    "\n",
    "    Open the link, output from the previous cell. get oriented, `Parameters`, `Metrics`, `Artifacts`, and so on.\n",
    "    \n",
    "    When you are done, make sure to terminate the open tunnel:"
   ]
  },
  {
   "cell_type": "code",
   "execution_count": null,
   "metadata": {
    "id": "k0aY2xWOFAvM"
   },
   "outputs": [],
   "source": [
    "ngrok.kill()"
   ]
  },
  {
   "cell_type": "markdown",
   "metadata": {
    "id": "06DnCpbACGNM"
   },
   "source": [
    "# Task 8 - AutoML with TPOT 🫖"
   ]
  },
  {
   "cell_type": "markdown",
   "metadata": {
    "id": "djIwpag8DsEu"
   },
   "source": [
    "1. Instantiate and train a TPOT auto-ML regressor.\n",
    "\n",
    "  The parameters are set fairly arbitrarily (if time permits, you shall experiment with different sets of parameters after reading [what each parameter does](http://epistasislab.github.io/tpot/api/#regression)). Use these parameter values:\n",
    "\n",
    "  `generations`: 10\n",
    "\n",
    "  `population_size`: 40\n",
    "\n",
    "  `scoring`: negative mean absolute error; read more in [scoring functions in TPOT](http://epistasislab.github.io/tpot/using/#scoring-functions)\n",
    "\n",
    "  `verbosity`: 2 (so you can see each generation's performance)\n",
    "\n",
    "  The final line with create a Python script tpot_products_pipeline.py with the code to create the optimal model found by TPOT."
   ]
  },
  {
   "cell_type": "code",
   "execution_count": 74,
   "metadata": {
    "colab": {
     "base_uri": "https://localhost:8080/",
     "height": 448,
     "referenced_widgets": [
      "f0639c63a42e4724b1093c10a0495606",
      "795ad58f335e4f5a8a2cf188b6c27891",
      "810efda3ce3a487c8562223a6c3109e9",
      "79366c8022e74226bfe2768e5d9e6ee1",
      "b2be8f74181f4f67b17d04c73a30cc12",
      "48ace3fbd1864095b2e801fc7d81f331",
      "c1a60f46c54343638707335cacb0de7f",
      "76363a3fc90e46b1b040a21e9eaa21f1",
      "8a107efdc33440c9ba472e2c17b95ea7",
      "2dbf5b2c7f974f35a488307eac5f19aa",
      "c9c8b7507a9e43a0b42f9119d1c58a8c"
     ]
    },
    "id": "IvJpNXHg_RS5",
    "outputId": "43e6861e-c385-4c4f-f343-c5ac5bf9d853"
   },
   "outputs": [
    {
     "data": {
      "application/vnd.jupyter.widget-view+json": {
       "model_id": "1ec647b6439345ef9d9b6bb10dcde800",
       "version_major": 2,
       "version_minor": 0
      },
      "text/plain": [
       "Optimization Progress:   0%|          | 0/440 [00:00<?, ?pipeline/s]"
      ]
     },
     "metadata": {},
     "output_type": "display_data"
    },
    {
     "name": "stdout",
     "output_type": "stream",
     "text": [
      "\n",
      "Generation 1 - Current best internal CV score: -8.862868739687077\n",
      "\n",
      "Generation 2 - Current best internal CV score: -8.767116722547737\n",
      "\n",
      "Generation 3 - Current best internal CV score: -8.522274724942957\n",
      "\n",
      "Generation 4 - Current best internal CV score: -8.377193648425592\n",
      "\n",
      "Generation 5 - Current best internal CV score: -8.36833588218978\n",
      "\n",
      "Generation 6 - Current best internal CV score: -8.238113295955046\n",
      "\n",
      "Generation 7 - Current best internal CV score: -8.194120951750467\n",
      "\n",
      "Generation 8 - Current best internal CV score: -8.194120951750467\n",
      "\n",
      "Generation 9 - Current best internal CV score: -8.140674442280979\n",
      "\n",
      "Generation 10 - Current best internal CV score: -8.004935435075442\n",
      "\n",
      "Best pipeline: ExtraTreesRegressor(RidgeCV(input_matrix), bootstrap=False, max_features=0.8500000000000001, min_samples_leaf=2, min_samples_split=11, n_estimators=100)\n",
      "Tpop score on test data: -6.09\n",
      "CPU times: user 6min 31s, sys: 32.7 s, total: 7min 3s\n",
      "Wall time: 4min 45s\n"
     ]
    },
    {
     "name": "stderr",
     "output_type": "stream",
     "text": [
      "/Users/toyosibamidele/opt/anaconda3/envs/conda-demo/lib/python3.8/site-packages/sklearn/metrics/_scorer.py:765: FutureWarning: sklearn.metrics.SCORERS is deprecated and will be removed in v1.3. Please use sklearn.metrics.get_scorer_names to get a list of available scorers and sklearn.metrics.get_metric to get scorer.\n",
      "  warnings.warn(\n",
      "/Users/toyosibamidele/opt/anaconda3/envs/conda-demo/lib/python3.8/site-packages/sklearn/base.py:450: UserWarning: X does not have valid feature names, but RidgeCV was fitted with feature names\n",
      "  warnings.warn(\n"
     ]
    }
   ],
   "source": [
    "%%time\n",
    "from tpot import TPOTRegressor\n",
    "tpot = TPOTRegressor(generations=10, \n",
    "                     population_size=40,\n",
    "                     scoring ='neg_mean_squared_error',\n",
    "                     verbosity=2,\n",
    "                     random_state=42)\n",
    "tpot.fit(train_features, train_labels)\n",
    "print(f\"Tpop score on test data: {tpot.score(test_features, test_labels):.2f}\")\n",
    "tpot.export('tpot_mpg_pipeline.py')"
   ]
  },
  {
   "cell_type": "markdown",
   "metadata": {
    "id": "1Ne0SBfZIwsF"
   },
   "source": [
    "2. Examine the model pipeline that TPOT regressor offers. If you see any model, function, or class that are not familiar, look them up! \n",
    "\n",
    "  Note: There is randomness to the way the TPOT searches, so it's possible you won't have exactly the same result as your classmate. "
   ]
  },
  {
   "cell_type": "code",
   "execution_count": 75,
   "metadata": {
    "colab": {
     "base_uri": "https://localhost:8080/"
    },
    "id": "3LdJz0Bfg7Sg",
    "outputId": "9c6f43f8-5811-4556-98cc-c38381777d1e"
   },
   "outputs": [
    {
     "name": "stdout",
     "output_type": "stream",
     "text": [
      "import numpy as np\n",
      "import pandas as pd\n",
      "from sklearn.ensemble import ExtraTreesRegressor\n",
      "from sklearn.linear_model import RidgeCV\n",
      "from sklearn.model_selection import train_test_split\n",
      "from sklearn.pipeline import make_pipeline, make_union\n",
      "from tpot.builtins import StackingEstimator\n",
      "from tpot.export_utils import set_param_recursive\n",
      "\n",
      "# NOTE: Make sure that the outcome column is labeled 'target' in the data file\n",
      "tpot_data = pd.read_csv('PATH/TO/DATA/FILE', sep='COLUMN_SEPARATOR', dtype=np.float64)\n",
      "features = tpot_data.drop('target', axis=1)\n",
      "training_features, testing_features, training_target, testing_target = \\\n",
      "            train_test_split(features, tpot_data['target'], random_state=42)\n",
      "\n",
      "# Average CV score on the training set was: -8.004935435075442\n",
      "exported_pipeline = make_pipeline(\n",
      "    StackingEstimator(estimator=RidgeCV()),\n",
      "    ExtraTreesRegressor(bootstrap=False, max_features=0.8500000000000001, min_samples_leaf=2, min_samples_split=11, n_estimators=100)\n",
      ")\n",
      "# Fix random state for all the steps in exported pipeline\n",
      "set_param_recursive(exported_pipeline.steps, 'random_state', 42)\n",
      "\n",
      "exported_pipeline.fit(training_features, training_target)\n",
      "results = exported_pipeline.predict(testing_features)\n"
     ]
    }
   ],
   "source": [
    "cat tpot_mpg_pipeline.py"
   ]
  },
  {
   "cell_type": "markdown",
   "metadata": {
    "id": "hNsj_X6zJzb5"
   },
   "source": [
    "3. Take the appropriate lines (e.g., updating path to data and the variable names) from `tpot_mpg_pipeline.py` to build a model on our training set and make predictions on the test set. \n",
    "Save the predictions as `y_pred`, and compute appropriate evaluation metric. \n",
    "You may find that for this simple data set, the neural network we built outperforms the tree-based model, yet note it is not a conclusion that we can generalize for all tabular data. "
   ]
  },
  {
   "cell_type": "markdown",
   "metadata": {
    "id": "aUEekD-ZtmWL"
   },
   "source": [
    "# Task 9 - Model Explainability\n",
    "\n",
    "Last week, we introduced model explainability with SHAP and will continue to incorporate it as part our model output this week.  You can use the [Kernel Explainer](https://shap.readthedocs.io/en/latest/example_notebooks/tabular_examples/neural_networks/Census%20income%20classification%20with%20Keras.html) for explainability of both the Neural Networks and the TPOT classifier.  "
   ]
  },
  {
   "cell_type": "code",
   "execution_count": 80,
   "metadata": {
    "colab": {
     "base_uri": "https://localhost:8080/",
     "height": 75,
     "referenced_widgets": [
      "72a2425764674ce190927fbbf3b081a1",
      "d9f6d54ab402459b81ba65ca8f73f58e",
      "66562df157104520aba66096e0110b6d",
      "0b8e29c1645d42afa585020fa0df67ae",
      "74d2ed5b965b4ecfbcf3b10ffb4486cf",
      "6a044954b19e4a28943c579fee0e3a18",
      "6171c78fcfc7416784fedd151719857f",
      "4762b74087844de687777a36962ed590",
      "42312548e6be4e049a3300c1463a74df",
      "1e6b41d169ed44799d95ded612c4ffbf",
      "025e808948034d0c91e2b20b0918da0e"
     ]
    },
    "id": "80mtSb2mtmWL",
    "outputId": "e34b2e1a-c6a8-4e9a-f704-c840d98253c2"
   },
   "outputs": [
    {
     "name": "stderr",
     "output_type": "stream",
     "text": [
      "X does not have valid feature names, but RidgeCV was fitted with feature names\n"
     ]
    }
   ],
   "source": [
    "import shap\n",
    "explainer = shap.KernelExplainer(tpot.predict, test_features)\n"
   ]
  },
  {
   "cell_type": "code",
   "execution_count": 85,
   "metadata": {},
   "outputs": [
    {
     "name": "stderr",
     "output_type": "stream",
     "text": [
      "X does not have valid feature names, but RidgeCV was fitted with feature names\n",
      "X does not have valid feature names, but RidgeCV was fitted with feature names\n",
      "X does not have valid feature names, but RidgeCV was fitted with feature names\n",
      "X does not have valid feature names, but RidgeCV was fitted with feature names\n",
      "X does not have valid feature names, but RidgeCV was fitted with feature names\n",
      "X does not have valid feature names, but RidgeCV was fitted with feature names\n",
      "X does not have valid feature names, but RidgeCV was fitted with feature names\n",
      "X does not have valid feature names, but RidgeCV was fitted with feature names\n",
      "X does not have valid feature names, but RidgeCV was fitted with feature names\n",
      "X does not have valid feature names, but RidgeCV was fitted with feature names\n",
      "X does not have valid feature names, but RidgeCV was fitted with feature names\n",
      "X does not have valid feature names, but RidgeCV was fitted with feature names\n",
      "X does not have valid feature names, but RidgeCV was fitted with feature names\n",
      "X does not have valid feature names, but RidgeCV was fitted with feature names\n",
      "X does not have valid feature names, but RidgeCV was fitted with feature names\n",
      "X does not have valid feature names, but RidgeCV was fitted with feature names\n",
      "X does not have valid feature names, but RidgeCV was fitted with feature names\n",
      "X does not have valid feature names, but RidgeCV was fitted with feature names\n",
      "X does not have valid feature names, but RidgeCV was fitted with feature names\n",
      "X does not have valid feature names, but RidgeCV was fitted with feature names\n",
      "X does not have valid feature names, but RidgeCV was fitted with feature names\n",
      "X does not have valid feature names, but RidgeCV was fitted with feature names\n",
      "X does not have valid feature names, but RidgeCV was fitted with feature names\n",
      "X does not have valid feature names, but RidgeCV was fitted with feature names\n",
      "X does not have valid feature names, but RidgeCV was fitted with feature names\n",
      "X does not have valid feature names, but RidgeCV was fitted with feature names\n",
      "X does not have valid feature names, but RidgeCV was fitted with feature names\n",
      "X does not have valid feature names, but RidgeCV was fitted with feature names\n",
      "X does not have valid feature names, but RidgeCV was fitted with feature names\n",
      "X does not have valid feature names, but RidgeCV was fitted with feature names\n",
      "X does not have valid feature names, but RidgeCV was fitted with feature names\n",
      "X does not have valid feature names, but RidgeCV was fitted with feature names\n",
      "X does not have valid feature names, but RidgeCV was fitted with feature names\n",
      "X does not have valid feature names, but RidgeCV was fitted with feature names\n",
      "X does not have valid feature names, but RidgeCV was fitted with feature names\n",
      "X does not have valid feature names, but RidgeCV was fitted with feature names\n",
      "X does not have valid feature names, but RidgeCV was fitted with feature names\n",
      "X does not have valid feature names, but RidgeCV was fitted with feature names\n",
      "X does not have valid feature names, but RidgeCV was fitted with feature names\n",
      "X does not have valid feature names, but RidgeCV was fitted with feature names\n",
      "X does not have valid feature names, but RidgeCV was fitted with feature names\n",
      "X does not have valid feature names, but RidgeCV was fitted with feature names\n",
      "X does not have valid feature names, but RidgeCV was fitted with feature names\n",
      "X does not have valid feature names, but RidgeCV was fitted with feature names\n",
      "X does not have valid feature names, but RidgeCV was fitted with feature names\n",
      "X does not have valid feature names, but RidgeCV was fitted with feature names\n",
      "X does not have valid feature names, but RidgeCV was fitted with feature names\n",
      "X does not have valid feature names, but RidgeCV was fitted with feature names\n",
      "X does not have valid feature names, but RidgeCV was fitted with feature names\n",
      "X does not have valid feature names, but RidgeCV was fitted with feature names\n",
      "X does not have valid feature names, but RidgeCV was fitted with feature names\n",
      "X does not have valid feature names, but RidgeCV was fitted with feature names\n",
      "X does not have valid feature names, but RidgeCV was fitted with feature names\n",
      "X does not have valid feature names, but RidgeCV was fitted with feature names\n",
      "X does not have valid feature names, but RidgeCV was fitted with feature names\n",
      "X does not have valid feature names, but RidgeCV was fitted with feature names\n",
      "X does not have valid feature names, but RidgeCV was fitted with feature names\n",
      "X does not have valid feature names, but RidgeCV was fitted with feature names\n",
      "X does not have valid feature names, but RidgeCV was fitted with feature names\n",
      "X does not have valid feature names, but RidgeCV was fitted with feature names\n",
      "X does not have valid feature names, but RidgeCV was fitted with feature names\n",
      "X does not have valid feature names, but RidgeCV was fitted with feature names\n",
      "X does not have valid feature names, but RidgeCV was fitted with feature names\n",
      "X does not have valid feature names, but RidgeCV was fitted with feature names\n",
      "X does not have valid feature names, but RidgeCV was fitted with feature names\n",
      "X does not have valid feature names, but RidgeCV was fitted with feature names\n",
      "X does not have valid feature names, but RidgeCV was fitted with feature names\n",
      "X does not have valid feature names, but RidgeCV was fitted with feature names\n",
      "X does not have valid feature names, but RidgeCV was fitted with feature names\n",
      "X does not have valid feature names, but RidgeCV was fitted with feature names\n",
      "X does not have valid feature names, but RidgeCV was fitted with feature names\n",
      "X does not have valid feature names, but RidgeCV was fitted with feature names\n",
      "X does not have valid feature names, but RidgeCV was fitted with feature names\n",
      "X does not have valid feature names, but RidgeCV was fitted with feature names\n",
      "X does not have valid feature names, but RidgeCV was fitted with feature names\n",
      "X does not have valid feature names, but RidgeCV was fitted with feature names\n",
      "X does not have valid feature names, but RidgeCV was fitted with feature names\n",
      "X does not have valid feature names, but RidgeCV was fitted with feature names\n",
      "X does not have valid feature names, but RidgeCV was fitted with feature names\n",
      "X does not have valid feature names, but RidgeCV was fitted with feature names\n",
      "X does not have valid feature names, but RidgeCV was fitted with feature names\n",
      "X does not have valid feature names, but RidgeCV was fitted with feature names\n",
      "X does not have valid feature names, but RidgeCV was fitted with feature names\n",
      "X does not have valid feature names, but RidgeCV was fitted with feature names\n",
      "X does not have valid feature names, but RidgeCV was fitted with feature names\n",
      "X does not have valid feature names, but RidgeCV was fitted with feature names\n",
      "X does not have valid feature names, but RidgeCV was fitted with feature names\n",
      "X does not have valid feature names, but RidgeCV was fitted with feature names\n",
      "X does not have valid feature names, but RidgeCV was fitted with feature names\n",
      "X does not have valid feature names, but RidgeCV was fitted with feature names\n",
      "X does not have valid feature names, but RidgeCV was fitted with feature names\n",
      "X does not have valid feature names, but RidgeCV was fitted with feature names\n",
      "X does not have valid feature names, but RidgeCV was fitted with feature names\n",
      "X does not have valid feature names, but RidgeCV was fitted with feature names\n",
      "X does not have valid feature names, but RidgeCV was fitted with feature names\n",
      "X does not have valid feature names, but RidgeCV was fitted with feature names\n",
      "X does not have valid feature names, but RidgeCV was fitted with feature names\n",
      "X does not have valid feature names, but RidgeCV was fitted with feature names\n",
      "X does not have valid feature names, but RidgeCV was fitted with feature names\n",
      "X does not have valid feature names, but RidgeCV was fitted with feature names\n",
      "X does not have valid feature names, but RidgeCV was fitted with feature names\n",
      "X does not have valid feature names, but RidgeCV was fitted with feature names\n",
      "X does not have valid feature names, but RidgeCV was fitted with feature names\n",
      "X does not have valid feature names, but RidgeCV was fitted with feature names\n",
      "X does not have valid feature names, but RidgeCV was fitted with feature names\n",
      "X does not have valid feature names, but RidgeCV was fitted with feature names\n",
      "X does not have valid feature names, but RidgeCV was fitted with feature names\n",
      "X does not have valid feature names, but RidgeCV was fitted with feature names\n",
      "X does not have valid feature names, but RidgeCV was fitted with feature names\n",
      "X does not have valid feature names, but RidgeCV was fitted with feature names\n",
      "X does not have valid feature names, but RidgeCV was fitted with feature names\n",
      "X does not have valid feature names, but RidgeCV was fitted with feature names\n",
      "X does not have valid feature names, but RidgeCV was fitted with feature names\n",
      "X does not have valid feature names, but RidgeCV was fitted with feature names\n",
      "X does not have valid feature names, but RidgeCV was fitted with feature names\n",
      "X does not have valid feature names, but RidgeCV was fitted with feature names\n",
      "X does not have valid feature names, but RidgeCV was fitted with feature names\n",
      "X does not have valid feature names, but RidgeCV was fitted with feature names\n",
      "X does not have valid feature names, but RidgeCV was fitted with feature names\n",
      "X does not have valid feature names, but RidgeCV was fitted with feature names\n",
      "X does not have valid feature names, but RidgeCV was fitted with feature names\n",
      "X does not have valid feature names, but RidgeCV was fitted with feature names\n",
      "X does not have valid feature names, but RidgeCV was fitted with feature names\n",
      "X does not have valid feature names, but RidgeCV was fitted with feature names\n",
      "X does not have valid feature names, but RidgeCV was fitted with feature names\n",
      "X does not have valid feature names, but RidgeCV was fitted with feature names\n",
      "X does not have valid feature names, but RidgeCV was fitted with feature names\n",
      "X does not have valid feature names, but RidgeCV was fitted with feature names\n",
      "X does not have valid feature names, but RidgeCV was fitted with feature names\n",
      "X does not have valid feature names, but RidgeCV was fitted with feature names\n",
      "X does not have valid feature names, but RidgeCV was fitted with feature names\n",
      "X does not have valid feature names, but RidgeCV was fitted with feature names\n",
      "X does not have valid feature names, but RidgeCV was fitted with feature names\n",
      "X does not have valid feature names, but RidgeCV was fitted with feature names\n",
      "X does not have valid feature names, but RidgeCV was fitted with feature names\n",
      "X does not have valid feature names, but RidgeCV was fitted with feature names\n",
      "X does not have valid feature names, but RidgeCV was fitted with feature names\n",
      "X does not have valid feature names, but RidgeCV was fitted with feature names\n",
      "X does not have valid feature names, but RidgeCV was fitted with feature names\n",
      "X does not have valid feature names, but RidgeCV was fitted with feature names\n",
      "X does not have valid feature names, but RidgeCV was fitted with feature names\n",
      "X does not have valid feature names, but RidgeCV was fitted with feature names\n",
      "X does not have valid feature names, but RidgeCV was fitted with feature names\n",
      "X does not have valid feature names, but RidgeCV was fitted with feature names\n",
      "X does not have valid feature names, but RidgeCV was fitted with feature names\n",
      "X does not have valid feature names, but RidgeCV was fitted with feature names\n",
      "X does not have valid feature names, but RidgeCV was fitted with feature names\n",
      "X does not have valid feature names, but RidgeCV was fitted with feature names\n",
      "X does not have valid feature names, but RidgeCV was fitted with feature names\n",
      "X does not have valid feature names, but RidgeCV was fitted with feature names\n",
      "X does not have valid feature names, but RidgeCV was fitted with feature names\n",
      "X does not have valid feature names, but RidgeCV was fitted with feature names\n",
      "X does not have valid feature names, but RidgeCV was fitted with feature names\n",
      "X does not have valid feature names, but RidgeCV was fitted with feature names\n",
      "X does not have valid feature names, but RidgeCV was fitted with feature names\n",
      "X does not have valid feature names, but RidgeCV was fitted with feature names\n",
      "X does not have valid feature names, but RidgeCV was fitted with feature names\n"
     ]
    },
    {
     "data": {
      "image/png": "[encoded data removed]",
      "text/plain": [
       "<Figure size 800x510 with 2 Axes>"
      ]
     },
     "metadata": {},
     "output_type": "display_data"
    }
   ],
   "source": [
    "import numpy as np\n",
    "import shap\n",
    "import matplotlib.pyplot as plt\n",
    "\n",
    "explainer = shap.Explainer(tpot.predict, test_features)\n",
    "shap_values = explainer(test_features)\n",
    "shap.summary_plot(shap_values, test_features)\n",
    "plt.show()\n",
    "\n"
   ]
  },
  {
   "cell_type": "markdown",
   "metadata": {
    "id": "0ec-ZXUntmWL"
   },
   "source": [
    "# Task 10 - Taking it to the Next Level! 📶\n",
    "\n",
    "Let's take our models and make a model comparison demo like we did last week, but this time you're taking the lead!  \n",
    "    \n",
    "1. Save your training dataset as a CSV file so that it can be used in the Streamlit app.\n",
    "1. Build a results DataFrame and save it as a CSV so that it can be used in the Streamlit app.\n",
    "1. In Tab 1 - Raw Data:\n",
    "* Display your training dataset in a Streamlit DataFrame (`st.DataFrame`).\n",
    "* Build 1-2 interactive Plotly visualizations that explore the dataset (correlations, scatterplot, etc.)\n",
    "2. In Tab 2 - Model Results:\n",
    "* Display your performance metrics appropriately using 2-3 metrics for model comparison.\n",
    "3. In Tab 3 - Model Explainability:\n",
    "* Make local and global explainability plots to compare two models at a time side-by-side.  [Here](https://www.kaggle.com/code/elsa155026/uciheart-kernel-shap-and-interactive-visualization/notebook) is a good example if how to create some different explainability plots using Plotly."
   ]
  },
  {
   "cell_type": "markdown",
   "metadata": {
    "id": "tDZ_9p6L_U9L"
   },
   "source": [
    "# Additional Resources"
   ]
  },
  {
   "cell_type": "markdown",
   "metadata": {
    "id": "6dtjRavkXunK"
   },
   "source": [
    "- [Tensorflow playground](https://playground.tensorflow.org/) for an interactive experience to understand how nueral networkds work.\n",
    "\n",
    "- [An Introduction to Deep Learning for Tabular Data](https://www.fast.ai/2018/04/29/categorical-embeddings/) covers embeddings for categorical variables. \n",
    "\n",
    "- [Imbalanced classification: credit card fraud detection](https://keras.io/examples/structured_data/imbalanced_classification/) demonstrates using `class_weight` to handle imbalanced classification problems. "
   ]
  },
  {
   "cell_type": "markdown",
   "metadata": {
    "heading_collapsed": true,
    "id": "RTRCN3xsXunK"
   },
   "source": [
    "# Acknowledgement and Copyright"
   ]
  },
  {
   "cell_type": "markdown",
   "metadata": {
    "hidden": true,
    "id": "riVFgcSTmY0R"
   },
   "source": [
    "##### Acknowledgement"
   ]
  },
  {
   "cell_type": "markdown",
   "metadata": {
    "hidden": true,
    "id": "higVWuZMmc7w"
   },
   "source": [
    "This notebook is adapted from [tensorflow/keras tuorial - regression](https://www.tensorflow.org/tutorials/keras/regression)"
   ]
  },
  {
   "cell_type": "markdown",
   "metadata": {
    "heading_collapsed": true,
    "hidden": true,
    "id": "MJuKft5yXunK"
   },
   "source": [
    "##### Copyright 2018 The TensorFlow Authors."
   ]
  },
  {
   "cell_type": "markdown",
   "metadata": {
    "cellView": "form",
    "hidden": true,
    "id": "AwOEIRJC6Une"
   },
   "source": [
    "@title Licensed under the Apache License, Version 2.0 (the \"License\");\n",
    "you may not use this file except in compliance with the License.\n",
    "You may obtain a copy of the License at\n",
    "\n",
    "https://www.apache.org/licenses/LICENSE-2.0\n",
    "\n",
    "Unless required by applicable law or agreed to in writing, software\n",
    "distributed under the License is distributed on an \"AS IS\" BASIS,\n",
    "WITHOUT WARRANTIES OR CONDITIONS OF ANY KIND, either express or implied.\n",
    "See the License for the specific language governing permissions and\n",
    "limitations under the License."
   ]
  },
  {
   "cell_type": "markdown",
   "metadata": {
    "cellView": "form",
    "hidden": true,
    "id": "KyPEtTqk6VdG"
   },
   "source": [
    "@title MIT License\n",
    "\n",
    "Copyright (c) 2017 François Chollet\n",
    "\n",
    "Permission is hereby granted, free of charge, to any person obtaining a\n",
    "copy of this software and associated documentation files (the \"Software\"),\n",
    "to deal in the Software without restriction, including without limitation\n",
    "the rights to use, copy, modify, merge, publish, distribute, sublicense,\n",
    "and/or sell copies of the Software, and to permit persons to whom the\n",
    "Software is furnished to do so, subject to the following conditions:\n",
    "\n",
    "The above copyright notice and this permission notice shall be included in\n",
    "all copies or substantial portions of the Software.\n",
    "\n",
    "THE SOFTWARE IS PROVIDED \"AS IS\", WITHOUT WARRANTY OF ANY KIND, EXPRESS OR\n",
    "IMPLIED, INCLUDING BUT NOT LIMITED TO THE WARRANTIES OF MERCHANTABILITY,\n",
    "FITNESS FOR A PARTICULAR PURPOSE AND NONINFRINGEMENT. IN NO EVENT SHALL\n",
    "THE AUTHORS OR COPYRIGHT HOLDERS BE LIABLE FOR ANY CLAIM, DAMAGES OR OTHER\n",
    "LIABILITY, WHETHER IN AN ACTION OF CONTRACT, TORT OR OTHERWISE, ARISING\n",
    "FROM, OUT OF OR IN CONNECTION WITH THE SOFTWARE OR THE USE OR OTHER\n",
    "DEALINGS IN THE SOFTWARE."
   ]
  }
 ],
 "metadata": {
  "colab": {
   "collapsed_sections": [],
   "provenance": [],
   "toc_visible": true
  },
  "kernelspec": {
   "display_name": "conda-demo",
   "language": "python",
   "name": "python3"
  },
  "language_info": {
   "codemirror_mode": {
    "name": "ipython",
    "version": 3
   },
   "file_extension": ".py",
   "mimetype": "text/x-python",
   "name": "python",
   "nbconvert_exporter": "python",
   "pygments_lexer": "ipython3",
   "version": "3.8.15"
  },
  "toc": {
   "base_numbering": 1,
   "nav_menu": {},
   "number_sections": true,
   "sideBar": true,
   "skip_h1_title": false,
   "title_cell": "Table of Contents",
   "title_sidebar": "Contents",
   "toc_cell": false,
   "toc_position": {
    "height": "calc(100% - 180px)",
    "left": "10px",
    "top": "150px",
    "width": "244.390625px"
   },
   "toc_section_display": true,
   "toc_window_display": false
  },
  "vscode": {
   "interpreter": {
    "hash": "5fcd7fd656ec32f70b4df0ea3c48f7d849ecea594d50302bfb64deae98e0df80"
   }
  },
  "widgets": {
   "application/vnd.jupyter.widget-state+json": {
    "025e808948034d0c91e2b20b0918da0e": {
     "model_module": "@jupyter-widgets/controls",
     "model_module_version": "1.5.0",
     "model_name": "DescriptionStyleModel",
     "state": {
      "_model_module": "@jupyter-widgets/controls",
      "_model_module_version": "1.5.0",
      "_model_name": "DescriptionStyleModel",
      "_view_count": null,
      "_view_module": "@jupyter-widgets/base",
      "_view_module_version": "1.2.0",
      "_view_name": "StyleView",
      "description_width": ""
     }
    },
    "0b8e29c1645d42afa585020fa0df67ae": {
     "model_module": "@jupyter-widgets/controls",
     "model_module_version": "1.5.0",
     "model_name": "HTMLModel",
     "state": {
      "_dom_classes": [],
      "_model_module": "@jupyter-widgets/controls",
      "_model_module_version": "1.5.0",
      "_model_name": "HTMLModel",
      "_view_count": null,
      "_view_module": "@jupyter-widgets/controls",
      "_view_module_version": "1.5.0",
      "_view_name": "HTMLView",
      "description": "",
      "description_tooltip": null,
      "layout": "IPY_MODEL_1e6b41d169ed44799d95ded612c4ffbf",
      "placeholder": "​",
      "style": "IPY_MODEL_025e808948034d0c91e2b20b0918da0e",
      "value": " 10/10 [00:08&lt;00:00,  1.42it/s]"
     }
    },
    "1e6b41d169ed44799d95ded612c4ffbf": {
     "model_module": "@jupyter-widgets/base",
     "model_module_version": "1.2.0",
     "model_name": "LayoutModel",
     "state": {
      "_model_module": "@jupyter-widgets/base",
      "_model_module_version": "1.2.0",
      "_model_name": "LayoutModel",
      "_view_count": null,
      "_view_module": "@jupyter-widgets/base",
      "_view_module_version": "1.2.0",
      "_view_name": "LayoutView",
      "align_content": null,
      "align_items": null,
      "align_self": null,
      "border": null,
      "bottom": null,
      "display": null,
      "flex": null,
      "flex_flow": null,
      "grid_area": null,
      "grid_auto_columns": null,
      "grid_auto_flow": null,
      "grid_auto_rows": null,
      "grid_column": null,
      "grid_gap": null,
      "grid_row": null,
      "grid_template_areas": null,
      "grid_template_columns": null,
      "grid_template_rows": null,
      "height": null,
      "justify_content": null,
      "justify_items": null,
      "left": null,
      "margin": null,
      "max_height": null,
      "max_width": null,
      "min_height": null,
      "min_width": null,
      "object_fit": null,
      "object_position": null,
      "order": null,
      "overflow": null,
      "overflow_x": null,
      "overflow_y": null,
      "padding": null,
      "right": null,
      "top": null,
      "visibility": null,
      "width": null
     }
    },
    "2dbf5b2c7f974f35a488307eac5f19aa": {
     "model_module": "@jupyter-widgets/base",
     "model_module_version": "1.2.0",
     "model_name": "LayoutModel",
     "state": {
      "_model_module": "@jupyter-widgets/base",
      "_model_module_version": "1.2.0",
      "_model_name": "LayoutModel",
      "_view_count": null,
      "_view_module": "@jupyter-widgets/base",
      "_view_module_version": "1.2.0",
      "_view_name": "LayoutView",
      "align_content": null,
      "align_items": null,
      "align_self": null,
      "border": null,
      "bottom": null,
      "display": null,
      "flex": null,
      "flex_flow": null,
      "grid_area": null,
      "grid_auto_columns": null,
      "grid_auto_flow": null,
      "grid_auto_rows": null,
      "grid_column": null,
      "grid_gap": null,
      "grid_row": null,
      "grid_template_areas": null,
      "grid_template_columns": null,
      "grid_template_rows": null,
      "height": null,
      "justify_content": null,
      "justify_items": null,
      "left": null,
      "margin": null,
      "max_height": null,
      "max_width": null,
      "min_height": null,
      "min_width": null,
      "object_fit": null,
      "object_position": null,
      "order": null,
      "overflow": null,
      "overflow_x": null,
      "overflow_y": null,
      "padding": null,
      "right": null,
      "top": null,
      "visibility": null,
      "width": null
     }
    },
    "42312548e6be4e049a3300c1463a74df": {
     "model_module": "@jupyter-widgets/controls",
     "model_module_version": "1.5.0",
     "model_name": "ProgressStyleModel",
     "state": {
      "_model_module": "@jupyter-widgets/controls",
      "_model_module_version": "1.5.0",
      "_model_name": "ProgressStyleModel",
      "_view_count": null,
      "_view_module": "@jupyter-widgets/base",
      "_view_module_version": "1.2.0",
      "_view_name": "StyleView",
      "bar_color": null,
      "description_width": ""
     }
    },
    "4762b74087844de687777a36962ed590": {
     "model_module": "@jupyter-widgets/base",
     "model_module_version": "1.2.0",
     "model_name": "LayoutModel",
     "state": {
      "_model_module": "@jupyter-widgets/base",
      "_model_module_version": "1.2.0",
      "_model_name": "LayoutModel",
      "_view_count": null,
      "_view_module": "@jupyter-widgets/base",
      "_view_module_version": "1.2.0",
      "_view_name": "LayoutView",
      "align_content": null,
      "align_items": null,
      "align_self": null,
      "border": null,
      "bottom": null,
      "display": null,
      "flex": null,
      "flex_flow": null,
      "grid_area": null,
      "grid_auto_columns": null,
      "grid_auto_flow": null,
      "grid_auto_rows": null,
      "grid_column": null,
      "grid_gap": null,
      "grid_row": null,
      "grid_template_areas": null,
      "grid_template_columns": null,
      "grid_template_rows": null,
      "height": null,
      "justify_content": null,
      "justify_items": null,
      "left": null,
      "margin": null,
      "max_height": null,
      "max_width": null,
      "min_height": null,
      "min_width": null,
      "object_fit": null,
      "object_position": null,
      "order": null,
      "overflow": null,
      "overflow_x": null,
      "overflow_y": null,
      "padding": null,
      "right": null,
      "top": null,
      "visibility": null,
      "width": null
     }
    },
    "48ace3fbd1864095b2e801fc7d81f331": {
     "model_module": "@jupyter-widgets/base",
     "model_module_version": "1.2.0",
     "model_name": "LayoutModel",
     "state": {
      "_model_module": "@jupyter-widgets/base",
      "_model_module_version": "1.2.0",
      "_model_name": "LayoutModel",
      "_view_count": null,
      "_view_module": "@jupyter-widgets/base",
      "_view_module_version": "1.2.0",
      "_view_name": "LayoutView",
      "align_content": null,
      "align_items": null,
      "align_self": null,
      "border": null,
      "bottom": null,
      "display": null,
      "flex": null,
      "flex_flow": null,
      "grid_area": null,
      "grid_auto_columns": null,
      "grid_auto_flow": null,
      "grid_auto_rows": null,
      "grid_column": null,
      "grid_gap": null,
      "grid_row": null,
      "grid_template_areas": null,
      "grid_template_columns": null,
      "grid_template_rows": null,
      "height": null,
      "justify_content": null,
      "justify_items": null,
      "left": null,
      "margin": null,
      "max_height": null,
      "max_width": null,
      "min_height": null,
      "min_width": null,
      "object_fit": null,
      "object_position": null,
      "order": null,
      "overflow": null,
      "overflow_x": null,
      "overflow_y": null,
      "padding": null,
      "right": null,
      "top": null,
      "visibility": null,
      "width": null
     }
    },
    "6171c78fcfc7416784fedd151719857f": {
     "model_module": "@jupyter-widgets/controls",
     "model_module_version": "1.5.0",
     "model_name": "DescriptionStyleModel",
     "state": {
      "_model_module": "@jupyter-widgets/controls",
      "_model_module_version": "1.5.0",
      "_model_name": "DescriptionStyleModel",
      "_view_count": null,
      "_view_module": "@jupyter-widgets/base",
      "_view_module_version": "1.2.0",
      "_view_name": "StyleView",
      "description_width": ""
     }
    },
    "66562df157104520aba66096e0110b6d": {
     "model_module": "@jupyter-widgets/controls",
     "model_module_version": "1.5.0",
     "model_name": "FloatProgressModel",
     "state": {
      "_dom_classes": [],
      "_model_module": "@jupyter-widgets/controls",
      "_model_module_version": "1.5.0",
      "_model_name": "FloatProgressModel",
      "_view_count": null,
      "_view_module": "@jupyter-widgets/controls",
      "_view_module_version": "1.5.0",
      "_view_name": "ProgressView",
      "bar_style": "success",
      "description": "",
      "description_tooltip": null,
      "layout": "IPY_MODEL_4762b74087844de687777a36962ed590",
      "max": 10,
      "min": 0,
      "orientation": "horizontal",
      "style": "IPY_MODEL_42312548e6be4e049a3300c1463a74df",
      "value": 10
     }
    },
    "6a044954b19e4a28943c579fee0e3a18": {
     "model_module": "@jupyter-widgets/base",
     "model_module_version": "1.2.0",
     "model_name": "LayoutModel",
     "state": {
      "_model_module": "@jupyter-widgets/base",
      "_model_module_version": "1.2.0",
      "_model_name": "LayoutModel",
      "_view_count": null,
      "_view_module": "@jupyter-widgets/base",
      "_view_module_version": "1.2.0",
      "_view_name": "LayoutView",
      "align_content": null,
      "align_items": null,
      "align_self": null,
      "border": null,
      "bottom": null,
      "display": null,
      "flex": null,
      "flex_flow": null,
      "grid_area": null,
      "grid_auto_columns": null,
      "grid_auto_flow": null,
      "grid_auto_rows": null,
      "grid_column": null,
      "grid_gap": null,
      "grid_row": null,
      "grid_template_areas": null,
      "grid_template_columns": null,
      "grid_template_rows": null,
      "height": null,
      "justify_content": null,
      "justify_items": null,
      "left": null,
      "margin": null,
      "max_height": null,
      "max_width": null,
      "min_height": null,
      "min_width": null,
      "object_fit": null,
      "object_position": null,
      "order": null,
      "overflow": null,
      "overflow_x": null,
      "overflow_y": null,
      "padding": null,
      "right": null,
      "top": null,
      "visibility": null,
      "width": null
     }
    },
    "72a2425764674ce190927fbbf3b081a1": {
     "model_module": "@jupyter-widgets/controls",
     "model_module_version": "1.5.0",
     "model_name": "HBoxModel",
     "state": {
      "_dom_classes": [],
      "_model_module": "@jupyter-widgets/controls",
      "_model_module_version": "1.5.0",
      "_model_name": "HBoxModel",
      "_view_count": null,
      "_view_module": "@jupyter-widgets/controls",
      "_view_module_version": "1.5.0",
      "_view_name": "HBoxView",
      "box_style": "",
      "children": [
       "IPY_MODEL_d9f6d54ab402459b81ba65ca8f73f58e",
       "IPY_MODEL_66562df157104520aba66096e0110b6d",
       "IPY_MODEL_0b8e29c1645d42afa585020fa0df67ae"
      ],
      "layout": "IPY_MODEL_74d2ed5b965b4ecfbcf3b10ffb4486cf"
     }
    },
    "74d2ed5b965b4ecfbcf3b10ffb4486cf": {
     "model_module": "@jupyter-widgets/base",
     "model_module_version": "1.2.0",
     "model_name": "LayoutModel",
     "state": {
      "_model_module": "@jupyter-widgets/base",
      "_model_module_version": "1.2.0",
      "_model_name": "LayoutModel",
      "_view_count": null,
      "_view_module": "@jupyter-widgets/base",
      "_view_module_version": "1.2.0",
      "_view_name": "LayoutView",
      "align_content": null,
      "align_items": null,
      "align_self": null,
      "border": null,
      "bottom": null,
      "display": null,
      "flex": null,
      "flex_flow": null,
      "grid_area": null,
      "grid_auto_columns": null,
      "grid_auto_flow": null,
      "grid_auto_rows": null,
      "grid_column": null,
      "grid_gap": null,
      "grid_row": null,
      "grid_template_areas": null,
      "grid_template_columns": null,
      "grid_template_rows": null,
      "height": null,
      "justify_content": null,
      "justify_items": null,
      "left": null,
      "margin": null,
      "max_height": null,
      "max_width": null,
      "min_height": null,
      "min_width": null,
      "object_fit": null,
      "object_position": null,
      "order": null,
      "overflow": null,
      "overflow_x": null,
      "overflow_y": null,
      "padding": null,
      "right": null,
      "top": null,
      "visibility": null,
      "width": null
     }
    },
    "76363a3fc90e46b1b040a21e9eaa21f1": {
     "model_module": "@jupyter-widgets/base",
     "model_module_version": "1.2.0",
     "model_name": "LayoutModel",
     "state": {
      "_model_module": "@jupyter-widgets/base",
      "_model_module_version": "1.2.0",
      "_model_name": "LayoutModel",
      "_view_count": null,
      "_view_module": "@jupyter-widgets/base",
      "_view_module_version": "1.2.0",
      "_view_name": "LayoutView",
      "align_content": null,
      "align_items": null,
      "align_self": null,
      "border": null,
      "bottom": null,
      "display": null,
      "flex": null,
      "flex_flow": null,
      "grid_area": null,
      "grid_auto_columns": null,
      "grid_auto_flow": null,
      "grid_auto_rows": null,
      "grid_column": null,
      "grid_gap": null,
      "grid_row": null,
      "grid_template_areas": null,
      "grid_template_columns": null,
      "grid_template_rows": null,
      "height": null,
      "justify_content": null,
      "justify_items": null,
      "left": null,
      "margin": null,
      "max_height": null,
      "max_width": null,
      "min_height": null,
      "min_width": null,
      "object_fit": null,
      "object_position": null,
      "order": null,
      "overflow": null,
      "overflow_x": null,
      "overflow_y": null,
      "padding": null,
      "right": null,
      "top": null,
      "visibility": null,
      "width": null
     }
    },
    "79366c8022e74226bfe2768e5d9e6ee1": {
     "model_module": "@jupyter-widgets/controls",
     "model_module_version": "1.5.0",
     "model_name": "HTMLModel",
     "state": {
      "_dom_classes": [],
      "_model_module": "@jupyter-widgets/controls",
      "_model_module_version": "1.5.0",
      "_model_name": "HTMLModel",
      "_view_count": null,
      "_view_module": "@jupyter-widgets/controls",
      "_view_module_version": "1.5.0",
      "_view_name": "HTMLView",
      "description": "",
      "description_tooltip": null,
      "layout": "IPY_MODEL_2dbf5b2c7f974f35a488307eac5f19aa",
      "placeholder": "​",
      "style": "IPY_MODEL_c9c8b7507a9e43a0b42f9119d1c58a8c",
      "value": " 440/440 [07:40&lt;00:00,  1.29s/pipeline]"
     }
    },
    "795ad58f335e4f5a8a2cf188b6c27891": {
     "model_module": "@jupyter-widgets/controls",
     "model_module_version": "1.5.0",
     "model_name": "HTMLModel",
     "state": {
      "_dom_classes": [],
      "_model_module": "@jupyter-widgets/controls",
      "_model_module_version": "1.5.0",
      "_model_name": "HTMLModel",
      "_view_count": null,
      "_view_module": "@jupyter-widgets/controls",
      "_view_module_version": "1.5.0",
      "_view_name": "HTMLView",
      "description": "",
      "description_tooltip": null,
      "layout": "IPY_MODEL_48ace3fbd1864095b2e801fc7d81f331",
      "placeholder": "​",
      "style": "IPY_MODEL_c1a60f46c54343638707335cacb0de7f",
      "value": "Optimization Progress: 100%"
     }
    },
    "810efda3ce3a487c8562223a6c3109e9": {
     "model_module": "@jupyter-widgets/controls",
     "model_module_version": "1.5.0",
     "model_name": "FloatProgressModel",
     "state": {
      "_dom_classes": [],
      "_model_module": "@jupyter-widgets/controls",
      "_model_module_version": "1.5.0",
      "_model_name": "FloatProgressModel",
      "_view_count": null,
      "_view_module": "@jupyter-widgets/controls",
      "_view_module_version": "1.5.0",
      "_view_name": "ProgressView",
      "bar_style": "",
      "description": "",
      "description_tooltip": null,
      "layout": "IPY_MODEL_76363a3fc90e46b1b040a21e9eaa21f1",
      "max": 440,
      "min": 0,
      "orientation": "horizontal",
      "style": "IPY_MODEL_8a107efdc33440c9ba472e2c17b95ea7",
      "value": 440
     }
    },
    "8a107efdc33440c9ba472e2c17b95ea7": {
     "model_module": "@jupyter-widgets/controls",
     "model_module_version": "1.5.0",
     "model_name": "ProgressStyleModel",
     "state": {
      "_model_module": "@jupyter-widgets/controls",
      "_model_module_version": "1.5.0",
      "_model_name": "ProgressStyleModel",
      "_view_count": null,
      "_view_module": "@jupyter-widgets/base",
      "_view_module_version": "1.2.0",
      "_view_name": "StyleView",
      "bar_color": null,
      "description_width": ""
     }
    },
    "b2be8f74181f4f67b17d04c73a30cc12": {
     "model_module": "@jupyter-widgets/base",
     "model_module_version": "1.2.0",
     "model_name": "LayoutModel",
     "state": {
      "_model_module": "@jupyter-widgets/base",
      "_model_module_version": "1.2.0",
      "_model_name": "LayoutModel",
      "_view_count": null,
      "_view_module": "@jupyter-widgets/base",
      "_view_module_version": "1.2.0",
      "_view_name": "LayoutView",
      "align_content": null,
      "align_items": null,
      "align_self": null,
      "border": null,
      "bottom": null,
      "display": null,
      "flex": null,
      "flex_flow": null,
      "grid_area": null,
      "grid_auto_columns": null,
      "grid_auto_flow": null,
      "grid_auto_rows": null,
      "grid_column": null,
      "grid_gap": null,
      "grid_row": null,
      "grid_template_areas": null,
      "grid_template_columns": null,
      "grid_template_rows": null,
      "height": null,
      "justify_content": null,
      "justify_items": null,
      "left": null,
      "margin": null,
      "max_height": null,
      "max_width": null,
      "min_height": null,
      "min_width": null,
      "object_fit": null,
      "object_position": null,
      "order": null,
      "overflow": null,
      "overflow_x": null,
      "overflow_y": null,
      "padding": null,
      "right": null,
      "top": null,
      "visibility": "hidden",
      "width": null
     }
    },
    "c1a60f46c54343638707335cacb0de7f": {
     "model_module": "@jupyter-widgets/controls",
     "model_module_version": "1.5.0",
     "model_name": "DescriptionStyleModel",
     "state": {
      "_model_module": "@jupyter-widgets/controls",
      "_model_module_version": "1.5.0",
      "_model_name": "DescriptionStyleModel",
      "_view_count": null,
      "_view_module": "@jupyter-widgets/base",
      "_view_module_version": "1.2.0",
      "_view_name": "StyleView",
      "description_width": ""
     }
    },
    "c9c8b7507a9e43a0b42f9119d1c58a8c": {
     "model_module": "@jupyter-widgets/controls",
     "model_module_version": "1.5.0",
     "model_name": "DescriptionStyleModel",
     "state": {
      "_model_module": "@jupyter-widgets/controls",
      "_model_module_version": "1.5.0",
      "_model_name": "DescriptionStyleModel",
      "_view_count": null,
      "_view_module": "@jupyter-widgets/base",
      "_view_module_version": "1.2.0",
      "_view_name": "StyleView",
      "description_width": ""
     }
    },
    "d9f6d54ab402459b81ba65ca8f73f58e": {
     "model_module": "@jupyter-widgets/controls",
     "model_module_version": "1.5.0",
     "model_name": "HTMLModel",
     "state": {
      "_dom_classes": [],
      "_model_module": "@jupyter-widgets/controls",
      "_model_module_version": "1.5.0",
      "_model_name": "HTMLModel",
      "_view_count": null,
      "_view_module": "@jupyter-widgets/controls",
      "_view_module_version": "1.5.0",
      "_view_name": "HTMLView",
      "description": "",
      "description_tooltip": null,
      "layout": "IPY_MODEL_6a044954b19e4a28943c579fee0e3a18",
      "placeholder": "​",
      "style": "IPY_MODEL_6171c78fcfc7416784fedd151719857f",
      "value": "100%"
     }
    },
    "f0639c63a42e4724b1093c10a0495606": {
     "model_module": "@jupyter-widgets/controls",
     "model_module_version": "1.5.0",
     "model_name": "HBoxModel",
     "state": {
      "_dom_classes": [],
      "_model_module": "@jupyter-widgets/controls",
      "_model_module_version": "1.5.0",
      "_model_name": "HBoxModel",
      "_view_count": null,
      "_view_module": "@jupyter-widgets/controls",
      "_view_module_version": "1.5.0",
      "_view_name": "HBoxView",
      "box_style": "",
      "children": [
       "IPY_MODEL_795ad58f335e4f5a8a2cf188b6c27891",
       "IPY_MODEL_810efda3ce3a487c8562223a6c3109e9",
       "IPY_MODEL_79366c8022e74226bfe2768e5d9e6ee1"
      ],
      "layout": "IPY_MODEL_b2be8f74181f4f67b17d04c73a30cc12"
     }
    }
   }
  }
 },
 "nbformat": 4,
 "nbformat_minor": 1
}
